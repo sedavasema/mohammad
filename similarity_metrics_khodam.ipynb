{
  "nbformat": 4,
  "nbformat_minor": 0,
  "metadata": {
    "colab": {
      "provenance": [],
      "authorship_tag": "ABX9TyNJfV/ajQ3nUVRBYhBCT63H",
      "include_colab_link": true
    },
    "kernelspec": {
      "name": "python3",
      "display_name": "Python 3"
    },
    "language_info": {
      "name": "python"
    }
  },
  "cells": [
    {
      "cell_type": "markdown",
      "metadata": {
        "id": "view-in-github",
        "colab_type": "text"
      },
      "source": [
        "<a href=\"https://colab.research.google.com/github/sedavasema/mohammad/blob/main/similarity_metrics_khodam.ipynb\" target=\"_parent\"><img src=\"https://colab.research.google.com/assets/colab-badge.svg\" alt=\"Open In Colab\"/></a>"
      ]
    },
    {
      "cell_type": "code",
      "execution_count": 1,
      "metadata": {
        "id": "gvt_L7x8fQmg"
      },
      "outputs": [],
      "source": [
        "import pandas as pd"
      ]
    },
    {
      "cell_type": "code",
      "source": [
        "df=pd.DataFrame({ \"saeed\": { \"m1\": 4, \"m2\": 2,\"m3\": 5,\"m4\": \"-\",\"m5\": 2,\"m6\": 3,\"m7\": 4,\"m8\": 5,\"m9\": \"-\",\"m10\": \"-\"},\n",
        "                  \"abbas\": { \"m1\": 3, \"m2\": \"-\", \"m3\": 4,\"m4\": 2,\"m5\": \"-\",\"m6\": \"-\",\"m7\": \"-\",\"m8\": \"-\",\"m9\": \"-\",\"m10\": \"-\"},\n",
        "                  \"alireza\": {\"m1\": 3,\"m2\": \"-\",\"m3\": 4,\"m4\": 5,\"m5\": 2,\"m6\": 3,\"m7\": 4,\"m8\": 5,\"m9\": 5,\"m10\": 5 }\n",
        "                })"
      ],
      "metadata": {
        "id": "IHVeb8fefxVK"
      },
      "execution_count": 2,
      "outputs": []
    },
    {
      "cell_type": "code",
      "source": [
        "df"
      ],
      "metadata": {
        "colab": {
          "base_uri": "https://localhost:8080/",
          "height": 363
        },
        "id": "BbHzaOLuf4iy",
        "outputId": "12947431-4e8b-41da-91eb-26bfe1c169b6"
      },
      "execution_count": 3,
      "outputs": [
        {
          "output_type": "execute_result",
          "data": {
            "text/plain": [
              "    saeed abbas alireza\n",
              "m1      4     3       3\n",
              "m2      2     -       -\n",
              "m3      5     4       4\n",
              "m4      -     2       5\n",
              "m5      2     -       2\n",
              "m6      3     -       3\n",
              "m7      4     -       4\n",
              "m8      5     -       5\n",
              "m9      -     -       5\n",
              "m10     -     -       5"
            ],
            "text/html": [
              "\n",
              "  <div id=\"df-af7b8fe6-6209-45b3-b540-48e7e37b642b\">\n",
              "    <div class=\"colab-df-container\">\n",
              "      <div>\n",
              "<style scoped>\n",
              "    .dataframe tbody tr th:only-of-type {\n",
              "        vertical-align: middle;\n",
              "    }\n",
              "\n",
              "    .dataframe tbody tr th {\n",
              "        vertical-align: top;\n",
              "    }\n",
              "\n",
              "    .dataframe thead th {\n",
              "        text-align: right;\n",
              "    }\n",
              "</style>\n",
              "<table border=\"1\" class=\"dataframe\">\n",
              "  <thead>\n",
              "    <tr style=\"text-align: right;\">\n",
              "      <th></th>\n",
              "      <th>saeed</th>\n",
              "      <th>abbas</th>\n",
              "      <th>alireza</th>\n",
              "    </tr>\n",
              "  </thead>\n",
              "  <tbody>\n",
              "    <tr>\n",
              "      <th>m1</th>\n",
              "      <td>4</td>\n",
              "      <td>3</td>\n",
              "      <td>3</td>\n",
              "    </tr>\n",
              "    <tr>\n",
              "      <th>m2</th>\n",
              "      <td>2</td>\n",
              "      <td>-</td>\n",
              "      <td>-</td>\n",
              "    </tr>\n",
              "    <tr>\n",
              "      <th>m3</th>\n",
              "      <td>5</td>\n",
              "      <td>4</td>\n",
              "      <td>4</td>\n",
              "    </tr>\n",
              "    <tr>\n",
              "      <th>m4</th>\n",
              "      <td>-</td>\n",
              "      <td>2</td>\n",
              "      <td>5</td>\n",
              "    </tr>\n",
              "    <tr>\n",
              "      <th>m5</th>\n",
              "      <td>2</td>\n",
              "      <td>-</td>\n",
              "      <td>2</td>\n",
              "    </tr>\n",
              "    <tr>\n",
              "      <th>m6</th>\n",
              "      <td>3</td>\n",
              "      <td>-</td>\n",
              "      <td>3</td>\n",
              "    </tr>\n",
              "    <tr>\n",
              "      <th>m7</th>\n",
              "      <td>4</td>\n",
              "      <td>-</td>\n",
              "      <td>4</td>\n",
              "    </tr>\n",
              "    <tr>\n",
              "      <th>m8</th>\n",
              "      <td>5</td>\n",
              "      <td>-</td>\n",
              "      <td>5</td>\n",
              "    </tr>\n",
              "    <tr>\n",
              "      <th>m9</th>\n",
              "      <td>-</td>\n",
              "      <td>-</td>\n",
              "      <td>5</td>\n",
              "    </tr>\n",
              "    <tr>\n",
              "      <th>m10</th>\n",
              "      <td>-</td>\n",
              "      <td>-</td>\n",
              "      <td>5</td>\n",
              "    </tr>\n",
              "  </tbody>\n",
              "</table>\n",
              "</div>\n",
              "      <button class=\"colab-df-convert\" onclick=\"convertToInteractive('df-af7b8fe6-6209-45b3-b540-48e7e37b642b')\"\n",
              "              title=\"Convert this dataframe to an interactive table.\"\n",
              "              style=\"display:none;\">\n",
              "        \n",
              "  <svg xmlns=\"http://www.w3.org/2000/svg\" height=\"24px\"viewBox=\"0 0 24 24\"\n",
              "       width=\"24px\">\n",
              "    <path d=\"M0 0h24v24H0V0z\" fill=\"none\"/>\n",
              "    <path d=\"M18.56 5.44l.94 2.06.94-2.06 2.06-.94-2.06-.94-.94-2.06-.94 2.06-2.06.94zm-11 1L8.5 8.5l.94-2.06 2.06-.94-2.06-.94L8.5 2.5l-.94 2.06-2.06.94zm10 10l.94 2.06.94-2.06 2.06-.94-2.06-.94-.94-2.06-.94 2.06-2.06.94z\"/><path d=\"M17.41 7.96l-1.37-1.37c-.4-.4-.92-.59-1.43-.59-.52 0-1.04.2-1.43.59L10.3 9.45l-7.72 7.72c-.78.78-.78 2.05 0 2.83L4 21.41c.39.39.9.59 1.41.59.51 0 1.02-.2 1.41-.59l7.78-7.78 2.81-2.81c.8-.78.8-2.07 0-2.86zM5.41 20L4 18.59l7.72-7.72 1.47 1.35L5.41 20z\"/>\n",
              "  </svg>\n",
              "      </button>\n",
              "      \n",
              "  <style>\n",
              "    .colab-df-container {\n",
              "      display:flex;\n",
              "      flex-wrap:wrap;\n",
              "      gap: 12px;\n",
              "    }\n",
              "\n",
              "    .colab-df-convert {\n",
              "      background-color: #E8F0FE;\n",
              "      border: none;\n",
              "      border-radius: 50%;\n",
              "      cursor: pointer;\n",
              "      display: none;\n",
              "      fill: #1967D2;\n",
              "      height: 32px;\n",
              "      padding: 0 0 0 0;\n",
              "      width: 32px;\n",
              "    }\n",
              "\n",
              "    .colab-df-convert:hover {\n",
              "      background-color: #E2EBFA;\n",
              "      box-shadow: 0px 1px 2px rgba(60, 64, 67, 0.3), 0px 1px 3px 1px rgba(60, 64, 67, 0.15);\n",
              "      fill: #174EA6;\n",
              "    }\n",
              "\n",
              "    [theme=dark] .colab-df-convert {\n",
              "      background-color: #3B4455;\n",
              "      fill: #D2E3FC;\n",
              "    }\n",
              "\n",
              "    [theme=dark] .colab-df-convert:hover {\n",
              "      background-color: #434B5C;\n",
              "      box-shadow: 0px 1px 3px 1px rgba(0, 0, 0, 0.15);\n",
              "      filter: drop-shadow(0px 1px 2px rgba(0, 0, 0, 0.3));\n",
              "      fill: #FFFFFF;\n",
              "    }\n",
              "  </style>\n",
              "\n",
              "      <script>\n",
              "        const buttonEl =\n",
              "          document.querySelector('#df-af7b8fe6-6209-45b3-b540-48e7e37b642b button.colab-df-convert');\n",
              "        buttonEl.style.display =\n",
              "          google.colab.kernel.accessAllowed ? 'block' : 'none';\n",
              "\n",
              "        async function convertToInteractive(key) {\n",
              "          const element = document.querySelector('#df-af7b8fe6-6209-45b3-b540-48e7e37b642b');\n",
              "          const dataTable =\n",
              "            await google.colab.kernel.invokeFunction('convertToInteractive',\n",
              "                                                     [key], {});\n",
              "          if (!dataTable) return;\n",
              "\n",
              "          const docLinkHtml = 'Like what you see? Visit the ' +\n",
              "            '<a target=\"_blank\" href=https://colab.research.google.com/notebooks/data_table.ipynb>data table notebook</a>'\n",
              "            + ' to learn more about interactive tables.';\n",
              "          element.innerHTML = '';\n",
              "          dataTable['output_type'] = 'display_data';\n",
              "          await google.colab.output.renderOutput(dataTable, element);\n",
              "          const docLink = document.createElement('div');\n",
              "          docLink.innerHTML = docLinkHtml;\n",
              "          element.appendChild(docLink);\n",
              "        }\n",
              "      </script>\n",
              "    </div>\n",
              "  </div>\n",
              "  "
            ]
          },
          "metadata": {},
          "execution_count": 3
        }
      ]
    },
    {
      "cell_type": "code",
      "source": [
        "df_dict=df.to_dict()"
      ],
      "metadata": {
        "id": "Mvme96tAgCvL"
      },
      "execution_count": 4,
      "outputs": []
    },
    {
      "cell_type": "code",
      "source": [
        "df_dict.keys()"
      ],
      "metadata": {
        "colab": {
          "base_uri": "https://localhost:8080/"
        },
        "id": "-qNC4VjtgQ0t",
        "outputId": "db1c4684-4866-4c26-c4ec-3c69613e212c"
      },
      "execution_count": 5,
      "outputs": [
        {
          "output_type": "execute_result",
          "data": {
            "text/plain": [
              "dict_keys(['saeed', 'abbas', 'alireza'])"
            ]
          },
          "metadata": {},
          "execution_count": 5
        }
      ]
    },
    {
      "cell_type": "code",
      "source": [
        "df_dict['saeed'].items()"
      ],
      "metadata": {
        "colab": {
          "base_uri": "https://localhost:8080/"
        },
        "id": "yMh-LtCogd5d",
        "outputId": "ab730fc7-ac8d-4ed9-c608-557e3a8537ff"
      },
      "execution_count": 7,
      "outputs": [
        {
          "output_type": "execute_result",
          "data": {
            "text/plain": [
              "dict_items([('m1', 4), ('m2', 2), ('m3', 5), ('m4', '-'), ('m5', 2), ('m6', 3), ('m7', 4), ('m8', 5), ('m9', '-'), ('m10', '-')])"
            ]
          },
          "metadata": {},
          "execution_count": 7
        }
      ]
    },
    {
      "cell_type": "code",
      "source": [
        "rating1 = dict(filter(lambda x: x[1] != '-', df_dict['saeed'].items()))\n",
        "\n",
        "rating2 = dict(filter(lambda x: x[1] != '-', df_dict['alireza'].items()))"
      ],
      "metadata": {
        "id": "9HeSGMxJrYCS"
      },
      "execution_count": 8,
      "outputs": []
    },
    {
      "cell_type": "code",
      "execution_count": null,
      "metadata": {
        "id": "jaPTMldB95x1",
        "outputId": "5c23413c-dcf3-465b-9ff1-e17fed316ba8"
      },
      "outputs": [
        {
          "name": "stdout",
          "output_type": "stream",
          "text": [
            "saeed-alireza:1.414214\n",
            "saeed-abbas:1.414214\n"
          ]
        }
      ],
      "source": [
        "def get_euclidean_distance(rating1,rating2):\n",
        "    \n",
        "    \n",
        "    rating1 = dict(filter(lambda x: x[1] != '-', rating1.items()))\n",
        "    rating2 = dict(filter(lambda x: x[1] != '-', rating2.items()))\n",
        "    \n",
        "    distance = 0\n",
        "    for key in rating1:\n",
        "        if key in rating2:\n",
        "            distance += pow(abs(rating1[key]-rating2[key]), 2)\n",
        "    return pow(distance, 1/2)\n",
        "\n",
        "dt=df_dict\n",
        "\n",
        "print('saeed-alireza:%f'%get_euclidean_distance(dt['saeed'],dt['alireza']))\n",
        "print('saeed-abbas:%f'%+get_euclidean_distance(dt['saeed'],dt['abbas']))"
      ]
    },
    {
      "cell_type": "code",
      "execution_count": 9,
      "metadata": {
        "id": "mZJpmu3B95x0",
        "outputId": "331f9328-4543-403a-bf88-c77da253cdf1",
        "colab": {
          "base_uri": "https://localhost:8080/"
        }
      },
      "outputs": [
        {
          "output_type": "stream",
          "name": "stdout",
          "text": [
            "saeed-alireza:2.000000\n",
            "saeed-abbas:2.000000\n"
          ]
        }
      ],
      "source": [
        "def get_manhattan_distance(rating1,rating2):\n",
        "    \n",
        "    rating1 = dict(filter(lambda x: x[1] != '-', rating1.items()))\n",
        "    rating2 = dict(filter(lambda x: x[1] != '-', rating2.items()))\n",
        "    \n",
        "    distance = 0\n",
        "    for key in rating1:\n",
        "        if key in rating2:\n",
        "            distance += abs(rating1[key] - rating2[key])\n",
        "    return distance\n",
        "\n",
        "dt=df_dict\n",
        "\n",
        "print('saeed-alireza:%f'%get_manhattan_distance(dt['saeed'],dt['alireza']))\n",
        "print('saeed-abbas:%f'%+get_manhattan_distance(dt['saeed'],dt['abbas']))"
      ]
    },
    {
      "cell_type": "code",
      "source": [],
      "metadata": {
        "id": "McQ27tZkuDgZ"
      },
      "execution_count": null,
      "outputs": []
    },
    {
      "cell_type": "code",
      "execution_count": 10,
      "metadata": {
        "scrolled": true,
        "id": "Z86sbQDO95x2",
        "outputId": "4d888584-53cf-413d-f30a-99570a930a2c",
        "colab": {
          "base_uri": "https://localhost:8080/"
        }
      },
      "outputs": [
        {
          "output_type": "stream",
          "name": "stdout",
          "text": [
            "saeed-alireza:0.801784\n",
            "saeed-abbas:0.559893\n"
          ]
        }
      ],
      "source": [
        "def dot(A,B): \n",
        "    return (sum(a*b for a,b in zip(A,B)))\n",
        "\n",
        "def cosine_similarity(rating1,rating2):\n",
        "    rating1 = dict(filter(lambda x: x[1] != '-', rating1.items()))\n",
        "    rating2 = dict(filter(lambda x: x[1] != '-', rating2.items()))\n",
        "    a = rating1.values()\n",
        "    b = rating2.values()\n",
        "    return dot(a,b) / ( (dot(a,a) **.5) * (dot(b,b) ** .5) )\n",
        "\n",
        "dt=df_dict\n",
        "\n",
        "print('saeed-alireza:%f'%cosine_similarity(dt['saeed'],dt['alireza']))\n",
        "print('saeed-abbas:%f'%+cosine_similarity(dt['saeed'],dt['abbas']))"
      ]
    }
  ]
}