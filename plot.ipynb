{
  "nbformat": 4,
  "nbformat_minor": 0,
  "metadata": {
    "colab": {
      "provenance": [],
      "authorship_tag": "ABX9TyObk43q0FNXllan3wbDFvYk",
      "include_colab_link": true
    },
    "kernelspec": {
      "name": "python3",
      "display_name": "Python 3"
    },
    "language_info": {
      "name": "python"
    }
  },
  "cells": [
    {
      "cell_type": "markdown",
      "metadata": {
        "id": "view-in-github",
        "colab_type": "text"
      },
      "source": [
        "<a href=\"https://colab.research.google.com/github/sedavasema/mohammad/blob/main/plot.ipynb\" target=\"_parent\"><img src=\"https://colab.research.google.com/assets/colab-badge.svg\" alt=\"Open In Colab\"/></a>"
      ]
    },
    {
      "cell_type": "markdown",
      "source": [
        "## تعریف تابع پلات به عنوان یک فایل جدا گانه وایمپرت آن درن برنامه اصلی"
      ],
      "metadata": {
        "id": "HMgV73gjQPRq"
      }
    },
    {
      "cell_type": "code",
      "execution_count": 1,
      "metadata": {
        "id": "PfcHtFEVMf6Q"
      },
      "outputs": [],
      "source": [
        "\n",
        "def plot_history(net_history):\n",
        "  history=net_history.history\n",
        "\n",
        "  losses=history['loss']\n",
        "  val_losses=history['val_loss']\n",
        "\n",
        "  accuracy=history['accuracy']\n",
        "  val_accuracy=history['val_accuracy']\n",
        "  \n",
        "  plt.xlabel('epoches')\n",
        "  plt.ylabel('losses')\n",
        "  plt.plot(losses)\n",
        "  plt.plot(val_losses)\n",
        "  plt.legend(['loss','val_loss'])\n",
        "\n",
        "  plt.figure()\n",
        "  plt.xlabel('epoches')\n",
        "  plt.ylabel('accuracy')\n",
        "  plt.plot(accuracy)\n",
        "  plt.plot(val_accuracy)\n",
        "  plt.legend(['accuracy','val_accuracy'])\n"
      ]
    }
  ]
}