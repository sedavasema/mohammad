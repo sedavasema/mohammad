{
  "nbformat": 4,
  "nbformat_minor": 0,
  "metadata": {
    "colab": {
      "provenance": [],
      "authorship_tag": "ABX9TyM8ehZ4P2GvWLGg2CZehz7B",
      "include_colab_link": true
    },
    "kernelspec": {
      "name": "python3",
      "display_name": "Python 3"
    },
    "language_info": {
      "name": "python"
    }
  },
  "cells": [
    {
      "cell_type": "markdown",
      "metadata": {
        "id": "view-in-github",
        "colab_type": "text"
      },
      "source": [
        "<a href=\"https://colab.research.google.com/github/sedavasema/mohammad/blob/main/fasle5class.ipynb\" target=\"_parent\"><img src=\"https://colab.research.google.com/assets/colab-badge.svg\" alt=\"Open In Colab\"/></a>"
      ]
    },
    {
      "cell_type": "code",
      "source": [
        "import keras"
      ],
      "metadata": {
        "id": "TWsKcIpKE7xu"
      },
      "execution_count": 1,
      "outputs": []
    },
    {
      "cell_type": "code",
      "execution_count": 1,
      "metadata": {
        "id": "cGOxqTgyEnVH"
      },
      "outputs": [],
      "source": [
        "from keras import layers\n",
        "from keras import models"
      ]
    },
    {
      "cell_type": "code",
      "source": [
        "model=models.Sequential()\n",
        "model.add(layers.Conv2D(32,(3,3),activation=('relu'),input_shape=(28,28,1)))\n",
        "model.add(layers.MaxPool2D(2,2))\n",
        "model.add(layers.Conv2D(64,(3,3),activation='relu'))\n",
        "model.add(layers.MaxPool2D(2,2))\n",
        "model.add(layers.Conv2D(64,(3,3),activation='relu'))\n",
        "\n",
        "model.add(layers.Flatten())\n",
        "model.add(layers.Dense(64,activation='relu'))\n",
        "model.add(layers.Dense(10,activation='softmax'))\n",
        "model.summary()"
      ],
      "metadata": {
        "colab": {
          "base_uri": "https://localhost:8080/"
        },
        "id": "yPYWQxlMFK9A",
        "outputId": "651a0e89-7d32-407f-f0a7-9817cf5db9b8"
      },
      "execution_count": 2,
      "outputs": [
        {
          "output_type": "stream",
          "name": "stdout",
          "text": [
            "Model: \"sequential\"\n",
            "_________________________________________________________________\n",
            " Layer (type)                Output Shape              Param #   \n",
            "=================================================================\n",
            " conv2d (Conv2D)             (None, 26, 26, 32)        320       \n",
            "                                                                 \n",
            " max_pooling2d (MaxPooling2D  (None, 13, 13, 32)       0         \n",
            " )                                                               \n",
            "                                                                 \n",
            " conv2d_1 (Conv2D)           (None, 11, 11, 64)        18496     \n",
            "                                                                 \n",
            " max_pooling2d_1 (MaxPooling  (None, 5, 5, 64)         0         \n",
            " 2D)                                                             \n",
            "                                                                 \n",
            " conv2d_2 (Conv2D)           (None, 3, 3, 64)          36928     \n",
            "                                                                 \n",
            " flatten (Flatten)           (None, 576)               0         \n",
            "                                                                 \n",
            " dense (Dense)               (None, 64)                36928     \n",
            "                                                                 \n",
            " dense_1 (Dense)             (None, 10)                650       \n",
            "                                                                 \n",
            "=================================================================\n",
            "Total params: 93,322\n",
            "Trainable params: 93,322\n",
            "Non-trainable params: 0\n",
            "_________________________________________________________________\n"
          ]
        }
      ]
    },
    {
      "cell_type": "code",
      "source": [
        "from keras.datasets import mnist\n",
        "from keras.utils import to_categorical\n",
        "(train_images,train_labels),(test_images,test_labels)=mnist.load_data()\n",
        "\n",
        "train_images=train_images.reshape(60000,28,28,1)\n",
        "train_images=train_images.astype('float32')/255\n",
        "\n",
        "test_images=test_images.reshape(10000,28,28,1)\n",
        "test_images=test_images.astype('float32')/255\n",
        "\n",
        "train_labels=to_categorical(train_labels)\n",
        "test_labels=to_categorical(test_labels)\n",
        "\n",
        "model.compile(optimizer='rmsprop',loss='categorical_crossentropy',metrics=['accuracy'])\n",
        "model.fit(train_images,train_labels,epochs=5,batch_size=64)"
      ],
      "metadata": {
        "colab": {
          "base_uri": "https://localhost:8080/"
        },
        "id": "nKogz33HVfT4",
        "outputId": "c57732b0-2b0c-4cb5-b126-f3739f489682"
      },
      "execution_count": 16,
      "outputs": [
        {
          "output_type": "stream",
          "name": "stdout",
          "text": [
            "Epoch 1/5\n",
            "938/938 [==============================] - 95s 100ms/step - loss: 0.1788 - accuracy: 0.9439\n",
            "Epoch 2/5\n",
            "938/938 [==============================] - 94s 100ms/step - loss: 0.0494 - accuracy: 0.9840\n",
            "Epoch 3/5\n",
            "938/938 [==============================] - 94s 101ms/step - loss: 0.0331 - accuracy: 0.9895\n",
            "Epoch 4/5\n",
            "938/938 [==============================] - 91s 97ms/step - loss: 0.0247 - accuracy: 0.9924\n",
            "Epoch 5/5\n",
            "938/938 [==============================] - 99s 105ms/step - loss: 0.0190 - accuracy: 0.9939\n"
          ]
        },
        {
          "output_type": "execute_result",
          "data": {
            "text/plain": [
              "<keras.callbacks.History at 0x7f889beba4a0>"
            ]
          },
          "metadata": {},
          "execution_count": 16
        }
      ]
    },
    {
      "cell_type": "code",
      "source": [
        "(test_loss,test_accuracy)=model.evaluate(test_images,test_labels)"
      ],
      "metadata": {
        "colab": {
          "base_uri": "https://localhost:8080/"
        },
        "id": "hfvTz7TEp0iY",
        "outputId": "37cce4ad-5423-46c4-ce75-616cfe07221b"
      },
      "execution_count": 18,
      "outputs": [
        {
          "output_type": "stream",
          "name": "stdout",
          "text": [
            "313/313 [==============================] - 5s 14ms/step - loss: 0.0317 - accuracy: 0.9910\n"
          ]
        }
      ]
    },
    {
      "cell_type": "code",
      "source": [
        "label_predict=model.predict(test_images)\n"
      ],
      "metadata": {
        "colab": {
          "base_uri": "https://localhost:8080/"
        },
        "id": "J8bC8hevqkLo",
        "outputId": "ed5d9dfb-180c-40e3-b2e8-02a4f2a25b37"
      },
      "execution_count": 37,
      "outputs": [
        {
          "output_type": "stream",
          "name": "stdout",
          "text": [
            "313/313 [==============================] - 6s 18ms/step\n"
          ]
        }
      ]
    },
    {
      "cell_type": "code",
      "source": [
        "print(test_labels[0])\n",
        "print(label_predict[0])\n",
        "label_predict=label_predict.round()\n",
        "print(label_predict[0])"
      ],
      "metadata": {
        "colab": {
          "base_uri": "https://localhost:8080/"
        },
        "id": "GrHLZCNUse_t",
        "outputId": "9ffd36a7-68e7-4668-900a-f8c35d069a35"
      },
      "execution_count": 38,
      "outputs": [
        {
          "output_type": "stream",
          "name": "stdout",
          "text": [
            "[0. 0. 0. 0. 0. 0. 0. 1. 0. 0.]\n",
            "[1.0103913e-15 2.9965443e-11 1.1468678e-09 1.0747354e-08 5.2859076e-12\n",
            " 5.0872973e-12 8.3157074e-20 9.9999994e-01 1.6115082e-12 8.7514435e-10]\n",
            "[0. 0. 0. 0. 0. 0. 0. 1. 0. 0.]\n"
          ]
        }
      ]
    },
    {
      "cell_type": "code",
      "source": [
        "! pip install -q kaggle"
      ],
      "metadata": {
        "id": "cbhYVj6nu8ws"
      },
      "execution_count": 1,
      "outputs": []
    },
    {
      "cell_type": "code",
      "source": [
        "#from google.colab import files\n",
        "#files.upload()\n",
        "! mkdir cats_and_dogs_small\n",
        "! mkdir cats_and_dogs_small/train/cat\n",
        "! mkdir cats_and_dogs_small/train/dogs\n",
        "\n",
        "! mkdir cats_and_dogs_small/test/cat\n",
        "! mkdir cats_and_dogs_small/test/dogs\n",
        "\n",
        "! mkdir cats_and_dogs_small/validation/cat\n",
        "! mkdir cats_and_dogs_small/validation/dogs\n",
        "\n",
        "#! cp kaggle.json ~/.kaggle/"
      ],
      "metadata": {
        "colab": {
          "base_uri": "https://localhost:8080/"
        },
        "id": "SekJrecnFlxa",
        "outputId": "c6d0f2cd-4624-4413-f62a-7951d908376d"
      },
      "execution_count": 7,
      "outputs": [
        {
          "output_type": "stream",
          "name": "stdout",
          "text": [
            "mkdir: cannot create directory ‘cats_and_dogs_small’: File exists\n",
            "mkdir: cannot create directory ‘cats_and_dogs_small/train/cat’: File exists\n",
            "mkdir: cannot create directory ‘cats_and_dogs_small/train/dogs’: File exists\n"
          ]
        }
      ]
    }
  ]
}