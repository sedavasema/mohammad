{
  "nbformat": 4,
  "nbformat_minor": 0,
  "metadata": {
    "colab": {
      "provenance": [],
      "authorship_tag": "ABX9TyN7b2rB5Hcl6F88YLOVWcuo",
      "include_colab_link": true
    },
    "kernelspec": {
      "name": "python3",
      "display_name": "Python 3"
    },
    "language_info": {
      "name": "python"
    }
  },
  "cells": [
    {
      "cell_type": "markdown",
      "metadata": {
        "id": "view-in-github",
        "colab_type": "text"
      },
      "source": [
        "<a href=\"https://colab.research.google.com/github/sedavasema/mohammad/blob/main/Untitled1.ipynb\" target=\"_parent\"><img src=\"https://colab.research.google.com/assets/colab-badge.svg\" alt=\"Open In Colab\"/></a>"
      ]
    },
    {
      "cell_type": "code",
      "execution_count": 40,
      "metadata": {
        "id": "YI2Bs81TgR74"
      },
      "outputs": [],
      "source": [
        "import numpy as np\n",
        "import matplotlib as plt"
      ]
    },
    {
      "cell_type": "code",
      "source": [
        "x0=np.array(12)\n",
        "x1=np.array([12,10,20])\n",
        "x2=np.array([[[1,2,3],\n",
        "             [4,5,6],\n",
        "             [7,8,9]],\n",
        "             [[10,11,12],\n",
        "              [14,15,16],\n",
        "              [17,18,19]]])\n",
        "print('x2',x2.ndim)"
      ],
      "metadata": {
        "colab": {
          "base_uri": "https://localhost:8080/"
        },
        "id": "xCNG5WrnuIVh",
        "outputId": "b90e5e08-7f25-42c7-f6b2-8e38712519bd"
      },
      "execution_count": 47,
      "outputs": [
        {
          "output_type": "stream",
          "name": "stdout",
          "text": [
            "x2 3\n"
          ]
        }
      ]
    },
    {
      "cell_type": "code",
      "source": [
        "#@title\n",
        "train_images.shape\n",
        "train_images.ndim\n",
        "train_images.dtype\n",
        "print('train_image shape is: ' ,train_images.shape)\n",
        "print('train_image dtype is: ' ,train_images.dtype)\n",
        "print('train_images ndim is: ' ,train_images.ndim)"
      ],
      "metadata": {
        "colab": {
          "base_uri": "https://localhost:8080/"
        },
        "id": "NhhTwHp4hwbS",
        "outputId": "a69dba64-51c3-41da-ef9f-d6432b696a71"
      },
      "execution_count": 37,
      "outputs": [
        {
          "output_type": "stream",
          "name": "stdout",
          "text": [
            "train_image shape is:  (60000, 28, 28)\n",
            "train_image dtype is:  uint8\n",
            "train_images ndim is:  3\n"
          ]
        }
      ]
    },
    {
      "cell_type": "markdown",
      "source": [
        "# شبکه عصبی فولی کانکتد"
      ],
      "metadata": {
        "id": "_fNiYOcsy4CX"
      }
    },
    {
      "cell_type": "markdown",
      "source": [
        "کار کردن با دیتا بیس mnist"
      ],
      "metadata": {
        "id": "bkFLV0j__sph"
      }
    },
    {
      "cell_type": "code",
      "source": [
        "import keras\n",
        "import tensorflow\n",
        "from keras.datasets import mnist\n",
        "from keras.utils import np_utils\n"
      ],
      "metadata": {
        "id": "xH1BVb7-7h_3"
      },
      "execution_count": 55,
      "outputs": []
    },
    {
      "cell_type": "code",
      "source": [
        "(train_images, train_labels),(test_images,test_labels)=mnist.load_data()\n"
      ],
      "metadata": {
        "id": "asIgeAqJy5Tf"
      },
      "execution_count": 51,
      "outputs": []
    },
    {
      "cell_type": "code",
      "source": [
        "#داده دیگر تصویر نیست پس به آن ایمیج نمیگوییم\n",
        "X_train=train_images.reshape(60000,784)\n",
        "X_test=test_images.reshape(10000,784)\n",
        "#چون میخواهیم داده ها را نرمال کنیم آنها را اعشاری میکنیم\n",
        "X_train=X_train.astype('float32')\n",
        "X_test=X_test.astype('float32')\n",
        "X_train /=255\n",
        "X_test /=255\n",
        "\n",
        "Y_train=np_utils.to_categorical(train_labels)\n",
        "Y_train[200]"
      ],
      "metadata": {
        "colab": {
          "base_uri": "https://localhost:8080/"
        },
        "id": "yxkSg0s68B0y",
        "outputId": "500525dc-8016-4937-d548-a3c8f4e26877"
      },
      "execution_count": 69,
      "outputs": [
        {
          "output_type": "execute_result",
          "data": {
            "text/plain": [
              "array([0., 1., 0., 0., 0., 0., 0., 0., 0., 0.], dtype=float32)"
            ]
          },
          "metadata": {},
          "execution_count": 69
        }
      ]
    },
    {
      "cell_type": "markdown",
      "source": [
        "ساختن شبکه عصبی"
      ],
      "metadata": {
        "id": "yayFIYa7CmIj"
      }
    },
    {
      "cell_type": "code",
      "source": [
        "from keras.models import Sequential\n",
        "myModel=Sequential()\n",
        "from keras.layers import Dense\n",
        "myModel.add(Dense(500,activation='relu',input_shape=(784,)))\n",
        "myModel.add(Dense(100,activation='relu'))\n",
        "myModel.add(Dense(10,activation='softmax'))"
      ],
      "metadata": {
        "id": "oG4gixk0B7kX"
      },
      "execution_count": 66,
      "outputs": []
    },
    {
      "cell_type": "code",
      "source": [
        "myModel.summary()"
      ],
      "metadata": {
        "colab": {
          "base_uri": "https://localhost:8080/"
        },
        "id": "7DIJcf9FF93G",
        "outputId": "9c9e8765-d7cf-4274-8e13-b46d0c2a446f"
      },
      "execution_count": 67,
      "outputs": [
        {
          "output_type": "stream",
          "name": "stdout",
          "text": [
            "Model: \"sequential_1\"\n",
            "_________________________________________________________________\n",
            " Layer (type)                Output Shape              Param #   \n",
            "=================================================================\n",
            " dense_1 (Dense)             (None, 500)               392500    \n",
            "                                                                 \n",
            " dense_2 (Dense)             (None, 100)               50100     \n",
            "                                                                 \n",
            " dense_3 (Dense)             (None, 10)                1010      \n",
            "                                                                 \n",
            "=================================================================\n",
            "Total params: 443,610\n",
            "Trainable params: 443,610\n",
            "Non-trainable params: 0\n",
            "_________________________________________________________________\n"
          ]
        }
      ]
    },
    {
      "cell_type": "code",
      "source": [],
      "metadata": {
        "id": "j41ubE2LGNb-"
      },
      "execution_count": null,
      "outputs": []
    }
  ]
}