{
  "cells": [
    {
      "cell_type": "markdown",
      "metadata": {
        "id": "W2PEukQ-v1bQ"
      },
      "source": [
        "<img src=\"http://akhavanpour.ir/notebook/images/srttu.gif\" alt=\"SRTTU\" style=\"width: 150px;\"/>"
      ]
    },
    {
      "cell_type": "code",
      "execution_count": 1,
      "metadata": {
        "collapsed": true,
        "id": "CUwJrPWEv1bU"
      },
      "outputs": [],
      "source": [
        "import time \n",
        "import sys\n",
        "import numpy as np \n",
        "\n",
        "import matplotlib.pyplot as plt\n",
        "%matplotlib inline  "
      ]
    },
    {
      "cell_type": "markdown",
      "metadata": {
        "id": "HIyZVyjZv1bV"
      },
      "source": [
        "<div style=\"direction:rtl;text-align:right;font-family:Tahoma\">\n",
        "نگران سلول زیر نباشید. نیازی نیست آن را بخوانید و درک کنید.\n",
        "لطفا فقط آن را اجرا کنید؛ در ادامه‌ی نوت‌بوک برای رسم نمودار استفاده می‌شود.\n",
        "</div>"
      ]
    },
    {
      "cell_type": "code",
      "execution_count": 2,
      "metadata": {
        "collapsed": true,
        "id": "8hQGgn92v1bW"
      },
      "outputs": [],
      "source": [
        "def Plotvec1(u,z,v):\n",
        "    #this function is used in code \n",
        "    ax = plt.axes()\n",
        "    ax.arrow(0, 0, *u, head_width=0.05,color ='r', head_length=0.1)\n",
        "    plt.text(*(u+0.1), 'u')\n",
        "    \n",
        "    ax.arrow(0, 0, *v, head_width=0.05,color ='b', head_length=0.1)\n",
        "    plt.text(*(v+0.1), 'v')\n",
        "    ax.arrow(0, 0, *z, head_width=0.05, head_length=0.1)\n",
        "    plt.text(*(z+0.1), 'z')\n",
        "    plt.ylim(-2,2)\n",
        "    plt.xlim(-2,2)\n",
        "\n",
        "\n",
        "\n",
        "def Plotvec2(a,b):\n",
        "    #this function is used in code \n",
        "    ax = plt.axes()\n",
        "    ax.arrow(0, 0, *a, head_width=0.05,color ='r', head_length=0.1)\n",
        "    plt.text(*(a+0.1), 'a')\n",
        "    ax.arrow(0, 0, *b, head_width=0.05,color ='b', head_length=0.1)\n",
        "    plt.text(*(b+0.1), 'b')\n",
        "\n",
        "    plt.ylim(-2,2)\n",
        "    plt.xlim(-2,2)"
      ]
    },
    {
      "cell_type": "markdown",
      "metadata": {
        "id": "I7B80SIMv1bW"
      },
      "source": [
        "<div style=\"direction:rtl;text-align:right;font-family:Tahoma\">\n",
        "تعریف یک لیست در پایتون.</div>"
      ]
    },
    {
      "cell_type": "code",
      "execution_count": null,
      "metadata": {
        "id": "1JoATsw4v1bX"
      },
      "outputs": [],
      "source": [
        "a=[\"0\",1,\"two\",\"3\",4]"
      ]
    },
    {
      "cell_type": "markdown",
      "metadata": {
        "id": "GIQD_AzPv1bX"
      },
      "source": [
        "We can access the data via an index:"
      ]
    },
    {
      "cell_type": "markdown",
      "metadata": {
        "id": "_z0v_aWQv1bY"
      },
      "source": [
        "<img src=\"http://akhavanpour.ir/notebook/python-labs/numpy-1.png\" style=\"width: 660px;\"/>"
      ]
    },
    {
      "cell_type": "markdown",
      "metadata": {
        "id": "FawNvPEcv1bY"
      },
      "source": [
        "We can access each element using a square bracket as follows: "
      ]
    },
    {
      "cell_type": "code",
      "execution_count": null,
      "metadata": {
        "id": "NcKT1Bi0v1bZ"
      },
      "outputs": [],
      "source": [
        "print(\"a[0]:\",a[0])\n",
        "print(\"a[1]:\",a[1])\n",
        "print(\"a[2]:\",a[2])\n",
        "print(\"a[3]:\",a[3])\n",
        "print(\"a[4]:\",a[4])"
      ]
    },
    {
      "cell_type": "markdown",
      "metadata": {
        "id": "glZD1lzWv1bZ"
      },
      "source": [
        "A numpy array is similar to a list, it's usually fixed in size and each element is of the same type. We can cast a list to a numpy array by first importing numpy: "
      ]
    },
    {
      "cell_type": "code",
      "execution_count": 3,
      "metadata": {
        "id": "amCU9skTv1bZ"
      },
      "outputs": [],
      "source": [
        "import numpy as np "
      ]
    },
    {
      "cell_type": "markdown",
      "metadata": {
        "id": "IGBV9rhBv1bZ"
      },
      "source": [
        " We then cast the list as follows:"
      ]
    },
    {
      "cell_type": "code",
      "execution_count": 4,
      "metadata": {
        "colab": {
          "base_uri": "https://localhost:8080/"
        },
        "id": "WD6ironev1ba",
        "outputId": "1f8bf955-f508-4448-9af0-540f66bc43c2"
      },
      "outputs": [
        {
          "output_type": "execute_result",
          "data": {
            "text/plain": [
              "array([0, 1, 2, 3, 4])"
            ]
          },
          "metadata": {},
          "execution_count": 4
        }
      ],
      "source": [
        "a=np.array([0,1,2,3, 4])\n",
        "a"
      ]
    },
    {
      "cell_type": "markdown",
      "metadata": {
        "id": "95EQ4GYZv1ba"
      },
      "source": [
        "Each element is of the same type, in this case integers: "
      ]
    },
    {
      "cell_type": "markdown",
      "metadata": {
        "id": "s2HF7ReOv1ba"
      },
      "source": [
        "<img src=\"http://akhavanpour.ir/notebook/python-labs/numpy-2.png\" style=\"width: 500px;\"/>"
      ]
    },
    {
      "cell_type": "markdown",
      "metadata": {
        "id": "YKZoLYX-v1ba"
      },
      "source": [
        " As with lists, we can access each element via a square bracket:"
      ]
    },
    {
      "cell_type": "code",
      "execution_count": 5,
      "metadata": {
        "colab": {
          "base_uri": "https://localhost:8080/"
        },
        "id": "IF9MlVetv1bb",
        "outputId": "11879877-9bba-4c90-f01c-c4ed43c704b6"
      },
      "outputs": [
        {
          "output_type": "stream",
          "name": "stdout",
          "text": [
            "a[0]: 0\n",
            "a[1]: 1\n",
            "a[2]: 2\n",
            "a[3]: 3\n",
            "a[4]: 4\n"
          ]
        }
      ],
      "source": [
        "print(\"a[0]:\",a[0])\n",
        "print(\"a[1]:\",a[1])\n",
        "print(\"a[2]:\",a[2])\n",
        "print(\"a[3]:\",a[3])\n",
        "print(\"a[4]:\",a[4])"
      ]
    },
    {
      "cell_type": "markdown",
      "metadata": {
        "id": "zx8wwHXmv1bb"
      },
      "source": [
        "The value of “a” is stored a follows: "
      ]
    },
    {
      "cell_type": "code",
      "execution_count": 6,
      "metadata": {
        "colab": {
          "base_uri": "https://localhost:8080/"
        },
        "id": "UwGVcN1ov1bb",
        "outputId": "6e85fb1b-b54b-4549-c05c-da8f9f4fa09b"
      },
      "outputs": [
        {
          "output_type": "execute_result",
          "data": {
            "text/plain": [
              "array([0, 1, 2, 3, 4])"
            ]
          },
          "metadata": {},
          "execution_count": 6
        }
      ],
      "source": [
        "a"
      ]
    },
    {
      "cell_type": "markdown",
      "metadata": {
        "id": "m0E8B3_7v1bb"
      },
      "source": [
        "If we check the type of the array we get \"numpy.ndarray\":"
      ]
    },
    {
      "cell_type": "code",
      "execution_count": 7,
      "metadata": {
        "colab": {
          "base_uri": "https://localhost:8080/"
        },
        "id": "95byFBh-v1bb",
        "outputId": "c6434b04-19ac-4455-8cc7-6bf5c178bb88"
      },
      "outputs": [
        {
          "output_type": "execute_result",
          "data": {
            "text/plain": [
              "numpy.ndarray"
            ]
          },
          "metadata": {},
          "execution_count": 7
        }
      ],
      "source": [
        "type(a)"
      ]
    },
    {
      "cell_type": "markdown",
      "metadata": {
        "id": "a3SPBF17v1bc"
      },
      "source": [
        "As numpy arrays contain data of the same type, we can use the attribute \"dtype\" to obtain the Data-type of the array’s elements. In this case a 64-bit integer: \n"
      ]
    },
    {
      "cell_type": "code",
      "execution_count": 8,
      "metadata": {
        "colab": {
          "base_uri": "https://localhost:8080/"
        },
        "id": "9Gu3RiOCv1bc",
        "outputId": "6b8182f3-0e18-4d24-e3d2-b22e15b3dadf"
      },
      "outputs": [
        {
          "output_type": "execute_result",
          "data": {
            "text/plain": [
              "dtype('int64')"
            ]
          },
          "metadata": {},
          "execution_count": 8
        }
      ],
      "source": [
        "a.dtype"
      ]
    },
    {
      "cell_type": "markdown",
      "metadata": {
        "id": "26onZi6Zv1bc"
      },
      "source": [
        "We can create a numpy array with real numbers:"
      ]
    },
    {
      "cell_type": "code",
      "execution_count": 9,
      "metadata": {
        "id": "-yE2BlH9v1bc"
      },
      "outputs": [],
      "source": [
        "b=np.array([3.1,11.02,6.2, 213.2,5.2])"
      ]
    },
    {
      "cell_type": "markdown",
      "metadata": {
        "id": "OtNeBRjCv1bd"
      },
      "source": [
        "When we check the type of the array we get \"numpy.ndarray\":"
      ]
    },
    {
      "cell_type": "code",
      "execution_count": null,
      "metadata": {
        "id": "z2cTO4plv1bd"
      },
      "outputs": [],
      "source": [
        "type(b)"
      ]
    },
    {
      "cell_type": "markdown",
      "metadata": {
        "id": "JHANB7oNv1bd"
      },
      "source": [
        "If we examine the attribute \"dtype\" we see float 64, as the elements are not integers: "
      ]
    },
    {
      "cell_type": "code",
      "execution_count": null,
      "metadata": {
        "id": "95bmUxlxv1bd"
      },
      "outputs": [],
      "source": [
        "b.dtype"
      ]
    },
    {
      "cell_type": "markdown",
      "metadata": {
        "id": "wK-zbgOvv1bd"
      },
      "source": [
        "We can change the value of the array, consider the array \"c\":"
      ]
    },
    {
      "cell_type": "code",
      "execution_count": 10,
      "metadata": {
        "colab": {
          "base_uri": "https://localhost:8080/"
        },
        "id": "lRpAwOtTv1be",
        "outputId": "36fd9e94-2cfb-4ee0-fd31-9e920266e770"
      },
      "outputs": [
        {
          "output_type": "execute_result",
          "data": {
            "text/plain": [
              "array([20,  1,  2,  3,  4])"
            ]
          },
          "metadata": {},
          "execution_count": 10
        }
      ],
      "source": [
        "c=np.array([20,1,2,3,4])\n",
        "c"
      ]
    },
    {
      "cell_type": "markdown",
      "metadata": {
        "id": "Ig8UnNqFv1be"
      },
      "source": [
        "We can change the first element of the array to 100 as follows:"
      ]
    },
    {
      "cell_type": "code",
      "execution_count": null,
      "metadata": {
        "id": "UQ2X1Rdzv1be"
      },
      "outputs": [],
      "source": [
        "c[0]=100\n",
        "c"
      ]
    },
    {
      "cell_type": "markdown",
      "metadata": {
        "id": "nTbJmdpFv1be"
      },
      "source": [
        "We can change the 5th element of the array as follows:"
      ]
    },
    {
      "cell_type": "code",
      "execution_count": null,
      "metadata": {
        "id": "8DuIxrgLv1bf"
      },
      "outputs": [],
      "source": [
        "c[4]=0\n",
        "c"
      ]
    },
    {
      "cell_type": "markdown",
      "metadata": {
        "id": "ca-Idraqv1bf"
      },
      "source": [
        "\n",
        "Like lists, we can slice the numpy array, and we can select the elements from 1 to 3 and assign it to a new numpy array 'd' as follows:\n"
      ]
    },
    {
      "cell_type": "code",
      "execution_count": null,
      "metadata": {
        "id": "tm8HTLTXv1bg"
      },
      "outputs": [],
      "source": [
        "d=c[1:4]\n",
        "d"
      ]
    },
    {
      "cell_type": "markdown",
      "metadata": {
        "id": "x9FxtLbQv1bg"
      },
      "source": [
        "We can assign the corresponding indexes to  new values as follows: "
      ]
    },
    {
      "cell_type": "code",
      "execution_count": null,
      "metadata": {
        "id": "uUkdXunov1bh"
      },
      "outputs": [],
      "source": [
        "c[3:5]=300,400\n",
        "c"
      ]
    },
    {
      "cell_type": "markdown",
      "metadata": {
        "id": "-BQoXeFOv1bi"
      },
      "source": [
        "Similarly, we can use a list to select a specific index.\n",
        "The list ' select ' contains several values:\n"
      ]
    },
    {
      "cell_type": "code",
      "execution_count": null,
      "metadata": {
        "collapsed": true,
        "id": "nY6nL3Grv1bi"
      },
      "outputs": [],
      "source": [
        "select=[0,2,3]"
      ]
    },
    {
      "cell_type": "markdown",
      "metadata": {
        "id": "QgkB4oDdv1bi"
      },
      "source": [
        "We can use the list as an argument in the brackets. The output is the elements corresponding to the particular index:"
      ]
    },
    {
      "cell_type": "code",
      "execution_count": null,
      "metadata": {
        "id": "ZF7C28qPv1bi"
      },
      "outputs": [],
      "source": [
        "d=c[select]\n",
        "d"
      ]
    },
    {
      "cell_type": "markdown",
      "metadata": {
        "id": "aNXqZIAav1bi"
      },
      "source": [
        "We can assign the specified elements to  a new value. For example, we can assign the values to 100 000 as follows:"
      ]
    },
    {
      "cell_type": "code",
      "execution_count": null,
      "metadata": {
        "id": "khcPZE0Sv1bj"
      },
      "outputs": [],
      "source": [
        "c[select]=100000\n",
        "c"
      ]
    },
    {
      "cell_type": "markdown",
      "metadata": {
        "id": "2gbrSHsQv1bj"
      },
      "source": [
        "Let's review some basic array attributes using the array ‘a’:"
      ]
    },
    {
      "cell_type": "code",
      "execution_count": null,
      "metadata": {
        "id": "5K7ezRaiv1bj"
      },
      "outputs": [],
      "source": [
        "a=np.array([0,1,2,3, 4])\n",
        "a"
      ]
    },
    {
      "cell_type": "markdown",
      "metadata": {
        "id": "6rd9EX9fv1bj"
      },
      "source": [
        "The attribute size is the Number of elements in the array:"
      ]
    },
    {
      "cell_type": "code",
      "execution_count": null,
      "metadata": {
        "id": "lt0FyXb8v1bj"
      },
      "outputs": [],
      "source": [
        "a.size"
      ]
    },
    {
      "cell_type": "markdown",
      "metadata": {
        "id": "dDLe30KQv1bk"
      },
      "source": [
        "The next two attributes will make more sense when we get to higher dimensions but let's review them. The attribute “ndim” represents the Number of array dimensions or the rank of the array, in this case, one:"
      ]
    },
    {
      "cell_type": "code",
      "execution_count": null,
      "metadata": {
        "id": "g_q471G3v1bk"
      },
      "outputs": [],
      "source": [
        "a.ndim"
      ]
    },
    {
      "cell_type": "markdown",
      "metadata": {
        "id": "5q4WP4KGv1bk"
      },
      "source": [
        "The attribute “shape” is a tuple of integers indicating the size of the array in each dimension:"
      ]
    },
    {
      "cell_type": "code",
      "execution_count": 11,
      "metadata": {
        "colab": {
          "base_uri": "https://localhost:8080/"
        },
        "id": "Lql6G3W7v1bk",
        "outputId": "dc3a159f-00dc-4176-af96-4631576ff6ad"
      },
      "outputs": [
        {
          "output_type": "execute_result",
          "data": {
            "text/plain": [
              "(5,)"
            ]
          },
          "metadata": {},
          "execution_count": 11
        }
      ],
      "source": [
        "a.shape"
      ]
    },
    {
      "cell_type": "code",
      "execution_count": null,
      "metadata": {
        "collapsed": true,
        "id": "khpO_sOBv1bl"
      },
      "outputs": [],
      "source": [
        "a=np.array([1,-1,1,-1])"
      ]
    },
    {
      "cell_type": "code",
      "execution_count": null,
      "metadata": {
        "id": "fg0a8Flqv1bl"
      },
      "outputs": [],
      "source": [
        "mean=a.mean()\n",
        "mean"
      ]
    },
    {
      "cell_type": "code",
      "execution_count": null,
      "metadata": {
        "id": "yisD6JH_v1bl"
      },
      "outputs": [],
      "source": [
        "standard_deviation=a.std()\n",
        "standard_deviation"
      ]
    },
    {
      "cell_type": "code",
      "execution_count": null,
      "metadata": {
        "id": "ygeY03SAv1bl"
      },
      "outputs": [],
      "source": [
        "b=np.array([1,2,3,4,5])\n",
        "b"
      ]
    },
    {
      "cell_type": "code",
      "execution_count": null,
      "metadata": {
        "id": "wvT6-Qz9v1bm"
      },
      "outputs": [],
      "source": [
        "max_b=b.max()"
      ]
    },
    {
      "cell_type": "code",
      "execution_count": null,
      "metadata": {
        "id": "xUDMpnZMv1bm"
      },
      "outputs": [],
      "source": [
        "max_b=b.min()"
      ]
    },
    {
      "cell_type": "markdown",
      "metadata": {
        "id": "d_2RfSZsv1bm"
      },
      "source": [
        "## Array Addition "
      ]
    },
    {
      "cell_type": "markdown",
      "metadata": {
        "id": "c0nmtThjv1bm"
      },
      "source": [
        "Consider the numpy array 'u':"
      ]
    },
    {
      "cell_type": "code",
      "execution_count": 12,
      "metadata": {
        "colab": {
          "base_uri": "https://localhost:8080/"
        },
        "id": "ZYnLkKZ0v1bm",
        "outputId": "ba36676a-2e77-4c35-eb8c-917518e664f6"
      },
      "outputs": [
        {
          "output_type": "execute_result",
          "data": {
            "text/plain": [
              "array([1, 0])"
            ]
          },
          "metadata": {},
          "execution_count": 12
        }
      ],
      "source": [
        "u=np.array([1,0])\n",
        "u"
      ]
    },
    {
      "cell_type": "markdown",
      "metadata": {
        "id": "M9k-L9Mgv1bn"
      },
      "source": [
        "Consider the numpy array 'v':"
      ]
    },
    {
      "cell_type": "code",
      "execution_count": 13,
      "metadata": {
        "colab": {
          "base_uri": "https://localhost:8080/"
        },
        "id": "kWj9KejAv1bn",
        "outputId": "7d266578-9a3c-46c5-9963-27201be73977"
      },
      "outputs": [
        {
          "output_type": "execute_result",
          "data": {
            "text/plain": [
              "array([0, 1])"
            ]
          },
          "metadata": {},
          "execution_count": 13
        }
      ],
      "source": [
        "v=np.array([0,1])\n",
        "v"
      ]
    },
    {
      "cell_type": "markdown",
      "metadata": {
        "id": "JPhwTdXrv1bn"
      },
      "source": [
        "We can add the two arrays and assign it to z:"
      ]
    },
    {
      "cell_type": "code",
      "execution_count": 14,
      "metadata": {
        "colab": {
          "base_uri": "https://localhost:8080/"
        },
        "id": "PG2hBSlHv1bn",
        "outputId": "8ac82eb8-bf6e-4a23-fbd3-a8bfc5367861"
      },
      "outputs": [
        {
          "output_type": "execute_result",
          "data": {
            "text/plain": [
              "array([1, 1])"
            ]
          },
          "metadata": {},
          "execution_count": 14
        }
      ],
      "source": [
        "z=u+v\n",
        "z"
      ]
    },
    {
      "cell_type": "markdown",
      "metadata": {
        "id": "pK8a3mTmv1bn"
      },
      "source": [
        " The operation is equivalent to vector addition:"
      ]
    },
    {
      "cell_type": "code",
      "execution_count": 15,
      "metadata": {
        "colab": {
          "base_uri": "https://localhost:8080/",
          "height": 435
        },
        "id": "SkoBEquPv1bo",
        "outputId": "0d2dcac3-8093-4953-bf85-f3c70465bdc3"
      },
      "outputs": [
        {
          "output_type": "display_data",
          "data": {
            "text/plain": [
              "<Figure size 640x480 with 1 Axes>"
            ],
            "image/png": "[encoded data removed]"
          },
          "metadata": {}
        }
      ],
      "source": [
        "Plotvec1(u,z,v)"
      ]
    },
    {
      "cell_type": "markdown",
      "metadata": {
        "id": "Z8qAim9Xv1bo"
      },
      "source": [
        "####   Implement the following vector subtraction in numpy: u-v  "
      ]
    },
    {
      "cell_type": "code",
      "execution_count": null,
      "metadata": {
        "id": "k6M3YE9nv1bo"
      },
      "outputs": [],
      "source": []
    },
    {
      "cell_type": "markdown",
      "metadata": {
        "id": "spQ0_4LVv1bo"
      },
      "source": [
        " <div align=\"right\">\n",
        "<a href=\"#1\" class=\"btn btn-default\" data-toggle=\"collapse\">Click here for the solution</a>\n",
        "\n",
        "</div>\n",
        "<div id=\"1\" class=\"collapse\">\n",
        "```\n",
        "u-v\n",
        "```\n",
        "</div>"
      ]
    },
    {
      "cell_type": "markdown",
      "metadata": {
        "id": "5kiEdmOnv1bo"
      },
      "source": [
        "Consider the vector numpy array 'y':"
      ]
    },
    {
      "cell_type": "code",
      "execution_count": null,
      "metadata": {
        "id": "qXq8__lCv1bp"
      },
      "outputs": [],
      "source": [
        "y=np.array([1,2])\n",
        "y"
      ]
    },
    {
      "cell_type": "markdown",
      "metadata": {
        "id": "4wUKfkuJv1bp"
      },
      "source": [
        "We can multiply every element in the array by 2:"
      ]
    },
    {
      "cell_type": "code",
      "execution_count": null,
      "metadata": {
        "id": "WIC-nNugv1bp"
      },
      "outputs": [],
      "source": [
        "z=2*y\n",
        "z"
      ]
    },
    {
      "cell_type": "markdown",
      "metadata": {
        "id": "hfVnxkUZv1bp"
      },
      "source": [
        " This is equivalent to multiplying a vector by a scaler: "
      ]
    },
    {
      "cell_type": "markdown",
      "metadata": {
        "id": "hJZdHshRv1bp"
      },
      "source": [
        "####   Multiply the numpy array z with -2:"
      ]
    },
    {
      "cell_type": "code",
      "execution_count": null,
      "metadata": {
        "id": "L8A0gY3Dv1bq"
      },
      "outputs": [],
      "source": []
    },
    {
      "cell_type": "markdown",
      "metadata": {
        "id": "mHcALa5Sv1bq"
      },
      "source": [
        " <div align=\"right\">\n",
        "<a href=\"#2\" class=\"btn btn-default\" data-toggle=\"collapse\">Click here for the solution</a>\n",
        "\n",
        "</div>\n",
        "<div id=\"2\" class=\"collapse\">\n",
        "```\n",
        "-2*z\n",
        "```\n",
        "</div>"
      ]
    },
    {
      "cell_type": "markdown",
      "metadata": {
        "id": "1Ds0km0Wv1bq"
      },
      "source": [
        "## Product of two numpy arrays "
      ]
    },
    {
      "cell_type": "markdown",
      "metadata": {
        "id": "BWCZ2H0nv1bq"
      },
      "source": [
        " Consider the following array 'u':"
      ]
    },
    {
      "cell_type": "code",
      "execution_count": 18,
      "metadata": {
        "colab": {
          "base_uri": "https://localhost:8080/"
        },
        "id": "5It6K6_gv1bq",
        "outputId": "44725399-5f07-41dc-9d9c-4c79a6ddb5a1"
      },
      "outputs": [
        {
          "output_type": "execute_result",
          "data": {
            "text/plain": [
              "array([1, 2])"
            ]
          },
          "metadata": {},
          "execution_count": 18
        }
      ],
      "source": [
        "u=np.array([1,2])\n",
        "u"
      ]
    },
    {
      "cell_type": "markdown",
      "metadata": {
        "id": "PEBN2PPYv1br"
      },
      "source": [
        " Consider the following array 'v':"
      ]
    },
    {
      "cell_type": "code",
      "execution_count": 17,
      "metadata": {
        "colab": {
          "base_uri": "https://localhost:8080/"
        },
        "id": "1oo48VwEv1br",
        "outputId": "4e35b138-3867-4091-bbff-166e1a3e3b02"
      },
      "outputs": [
        {
          "output_type": "execute_result",
          "data": {
            "text/plain": [
              "array([3, 2])"
            ]
          },
          "metadata": {},
          "execution_count": 17
        }
      ],
      "source": [
        "v=np.array([3,2])\n",
        "v"
      ]
    },
    {
      "cell_type": "markdown",
      "metadata": {
        "id": "mde4qcF3v1br"
      },
      "source": [
        " The product of the two numpy arrays 'u' and 'v' is given by:"
      ]
    },
    {
      "cell_type": "code",
      "execution_count": 19,
      "metadata": {
        "colab": {
          "base_uri": "https://localhost:8080/"
        },
        "id": "Ivv6XCOBv1br",
        "outputId": "bdc11c1b-da8f-46b0-a604-803e39eefe87"
      },
      "outputs": [
        {
          "output_type": "execute_result",
          "data": {
            "text/plain": [
              "array([3, 4])"
            ]
          },
          "metadata": {},
          "execution_count": 19
        }
      ],
      "source": [
        "z=u*v\n",
        "z"
      ]
    },
    {
      "cell_type": "markdown",
      "metadata": {
        "id": "ikF4uOZlv1bs"
      },
      "source": [
        "####  Consider the list [1,2,3,4,5] and [1,0,1,0,1], and cast both lists to a numpy array then multiply them together:"
      ]
    },
    {
      "cell_type": "code",
      "execution_count": null,
      "metadata": {
        "id": "uZLLc-PXv1bs"
      },
      "outputs": [],
      "source": []
    },
    {
      "cell_type": "markdown",
      "metadata": {
        "id": "fdOG7zIev1bs"
      },
      "source": [
        " <div align=\"right\">\n",
        "<a href=\"#3\" class=\"btn btn-default\" data-toggle=\"collapse\">Click here for the solution</a>\n",
        "\n",
        "</div>\n",
        "<div id=\"3\" class=\"collapse\">\n",
        "```\n",
        "a=np.array([1,2,3,4,5])\n",
        "b=np.array([1,0,1,0,1])\n",
        "a*b\n",
        "```\n",
        "</div>"
      ]
    },
    {
      "cell_type": "markdown",
      "metadata": {
        "id": "nNlWfWm1v1bs"
      },
      "source": [
        "#### Dot Product"
      ]
    },
    {
      "cell_type": "markdown",
      "metadata": {
        "id": "2t-XmUK1v1bs"
      },
      "source": [
        " The dot product of the two numpy arrays 'u' and 'v' is given by:"
      ]
    },
    {
      "cell_type": "code",
      "execution_count": 20,
      "metadata": {
        "colab": {
          "base_uri": "https://localhost:8080/"
        },
        "id": "p0zJPHxmv1bs",
        "outputId": "3df491ff-e2c2-4867-b4a6-5bdac609f015"
      },
      "outputs": [
        {
          "output_type": "execute_result",
          "data": {
            "text/plain": [
              "7"
            ]
          },
          "metadata": {},
          "execution_count": 20
        }
      ],
      "source": [
        "np.dot(u,v)"
      ]
    },
    {
      "cell_type": "markdown",
      "metadata": {
        "id": "JebY_hobv1bt"
      },
      "source": [
        "####  Convert the list [-1,1] and [1,1] to  numpy arrays 'a' and 'b'.  Then, plot the arrays as vectors using the fuction Plotvec2  and find the dot product:"
      ]
    },
    {
      "cell_type": "code",
      "execution_count": 21,
      "metadata": {
        "colab": {
          "base_uri": "https://localhost:8080/",
          "height": 452
        },
        "id": "nMJ94wvUv1bt",
        "outputId": "d64bacae-e023-495d-9b61-b5e4a2156043"
      },
      "outputs": [
        {
          "output_type": "stream",
          "name": "stdout",
          "text": [
            "the dot product is 0\n"
          ]
        },
        {
          "output_type": "display_data",
          "data": {
            "text/plain": [
              "<Figure size 640x480 with 1 Axes>"
            ],
            "image/png": "[encoded data removed]"
          },
          "metadata": {}
        }
      ],
      "source": [
        "a=np.array([-1,1])\n",
        "b=np.array([1,1]) \n",
        "Plotvec2(a,b) \n",
        "print(\"the dot product is\",np.dot(a,b) )"
      ]
    },
    {
      "cell_type": "markdown",
      "metadata": {
        "id": "_OQ3bVS8v1bt"
      },
      "source": [
        " <div align=\"right\">\n",
        "<a href=\"#4\" class=\"btn btn-default\" data-toggle=\"collapse\">Click here for the solution</a>\n",
        "\n",
        "</div>\n",
        "<div id=\"4\" class=\"collapse\">\n",
        "```\n",
        "a=np.array([-1,1])\n",
        "b=np.array([1,1])\n",
        "Plotvec2(a,b)\n",
        "print(\"the dot product is\",np.dot(a,b) )\n",
        "```\n",
        "</div>\n"
      ]
    },
    {
      "cell_type": "markdown",
      "metadata": {
        "id": "r9FactSdv1bt"
      },
      "source": [
        "#### Convert the list [1,0] and [0,1] to numpy arrays 'a' and 'b'. Then, plot the arrays as vectors using the function Plotvec2 and find the dot product:\n"
      ]
    },
    {
      "cell_type": "code",
      "execution_count": 27,
      "metadata": {
        "colab": {
          "base_uri": "https://localhost:8080/",
          "height": 452
        },
        "id": "OkaECnQsv1bx",
        "outputId": "0ddf0bd4-0b8a-4ab4-893b-c5ebbf40239d"
      },
      "outputs": [
        {
          "output_type": "stream",
          "name": "stdout",
          "text": [
            "the dot product is 3\n"
          ]
        },
        {
          "output_type": "display_data",
          "data": {
            "text/plain": [
              "<Figure size 640x480 with 1 Axes>"
            ],
            "image/png": "[encoded data removed]"
          },
          "metadata": {}
        }
      ],
      "source": [
        "a=np.array([1,1]) \n",
        "b=np.array([2,1]) \n",
        "Plotvec2(a,b) \n",
        "print(\"the dot product is\",np.dot(b,a) )"
      ]
    },
    {
      "cell_type": "markdown",
      "metadata": {
        "id": "tn7VAanTv1by"
      },
      "source": [
        " <div align=\"right\">\n",
        "<a href=\"#5\" class=\"btn btn-default\" data-toggle=\"collapse\">Click here for the solution</a>\n",
        "\n",
        "</div>\n",
        "<div id=\"5\" class=\"collapse\">\n",
        "```\n",
        "a=np.array([1,0])\n",
        "b=np.array([0,1])\n",
        "Plotvec2(a,b)\n",
        "print(\"the dot product is\",np.dot(a,b) )\n",
        "```\n",
        "</div>"
      ]
    },
    {
      "cell_type": "markdown",
      "metadata": {
        "id": "3izHY6ymv1by"
      },
      "source": [
        "#### Convert the list [1,1] and [0,1] to numpy arrays 'a' and 'b'. Then plot the arrays as vectors using the fuction Plotvec2 and find the dot product:\n",
        "\n",
        "\n"
      ]
    },
    {
      "cell_type": "code",
      "execution_count": null,
      "metadata": {
        "id": "hfTAu4-uv1by"
      },
      "outputs": [],
      "source": []
    },
    {
      "cell_type": "markdown",
      "metadata": {
        "id": "d_tjSbBzv1by"
      },
      "source": [
        " <div align=\"right\">\n",
        "<a href=\"#6\" class=\"btn btn-default\" data-toggle=\"collapse\">Click here for the solution</a>\n",
        "\n",
        "</div>\n",
        "<div id=\"6\" class=\"collapse\">\n",
        "```\n",
        "a=np.array([1,1])\n",
        "b=np.array([0,1])\n",
        "Plotvec2(a,b)\n",
        "print(\"the dot product is\",np.dot(a,b) )\n",
        "print(\"the dot product is\",np.dot(a,b) )\n",
        "```\n",
        "</div>"
      ]
    },
    {
      "cell_type": "markdown",
      "metadata": {
        "id": "PFfg5Ikhv1bz"
      },
      "source": [
        "####   Why is the result of the dot product for question 4 and 5 zero, but not zero for question 6? Hint: study the corresponding figures, pay attention to the direction the arrows are pointing to. "
      ]
    },
    {
      "cell_type": "code",
      "execution_count": null,
      "metadata": {
        "collapsed": true,
        "id": "K7UwpHK9v1bz"
      },
      "outputs": [],
      "source": []
    },
    {
      "cell_type": "markdown",
      "metadata": {
        "id": "gFEFleOqv1bz"
      },
      "source": [
        "<div align=\"right\">\n",
        "<a href=\"#7\" class=\"btn btn-default\" data-toggle=\"collapse\">Click here for the solution</a>\n",
        "\n",
        "</div>\n",
        "<div id=\"7\" class=\"collapse\">\n",
        "```\n",
        "The vectors used for question 4 and 5 are perpendicular. As a result, the dot product is zero.\n",
        "```\n",
        "</div>"
      ]
    },
    {
      "cell_type": "markdown",
      "metadata": {
        "id": "4tzfWiptv1bz"
      },
      "source": [
        "### Adding Constant to a numpy Array "
      ]
    },
    {
      "cell_type": "markdown",
      "metadata": {
        "id": "wBmpj2aIv1b0"
      },
      "source": [
        "Consider the following array: "
      ]
    },
    {
      "cell_type": "code",
      "execution_count": null,
      "metadata": {
        "id": "EHBi8Ia7v1b0"
      },
      "outputs": [],
      "source": [
        "u=np.array([1,2,3,-1]) \n",
        "u"
      ]
    },
    {
      "cell_type": "markdown",
      "metadata": {
        "id": "0BmK-zgUv1b0"
      },
      "source": [
        " Adding the constant 1 to the array adds 1 to each element in the array:"
      ]
    },
    {
      "cell_type": "code",
      "execution_count": null,
      "metadata": {
        "id": "nmHri8l4v1b1"
      },
      "outputs": [],
      "source": [
        "u+1"
      ]
    },
    {
      "cell_type": "markdown",
      "metadata": {
        "id": "7NzEcJsdv1b1"
      },
      "source": [
        " The process is summarised in the following animation:"
      ]
    },
    {
      "cell_type": "markdown",
      "metadata": {
        "id": "YwO4wpnxv1b1"
      },
      "source": [
        "<img src=\"http://akhavanpour.ir/notebook/python-labs/numpy-3.gif\" style=\"width: 500px;\"/>"
      ]
    },
    {
      "cell_type": "markdown",
      "metadata": {
        "id": "AwqRK2-vv1b1"
      },
      "source": [
        " This part of <a href=\"https://docs.scipy.org/doc/numpy-1.13.0/user/basics.broadcasting.html\" > Broadcasting</a> check out the link for more detail. "
      ]
    },
    {
      "cell_type": "markdown",
      "metadata": {
        "id": "nFvJjRd9v1b1"
      },
      "source": [
        "### Mathematical Functions "
      ]
    },
    {
      "cell_type": "markdown",
      "metadata": {
        "id": "uIZg8rKMv1b1"
      },
      "source": [
        " We can access the value of pie in numpy as follows :"
      ]
    },
    {
      "cell_type": "code",
      "execution_count": 30,
      "metadata": {
        "colab": {
          "base_uri": "https://localhost:8080/"
        },
        "id": "EGDxCYWDv1b2",
        "outputId": "b32f4d67-bac5-47c5-d50c-a85818eca814"
      },
      "outputs": [
        {
          "output_type": "execute_result",
          "data": {
            "text/plain": [
              "2"
            ]
          },
          "metadata": {},
          "execution_count": 30
        }
      ],
      "source": [
        "np.pi\n",
        "a.sum()\n",
        "np.sum(a)"
      ]
    },
    {
      "cell_type": "markdown",
      "metadata": {
        "id": "eOkelILiv1b2"
      },
      "source": [
        " We can create the following numpy array in Radians:"
      ]
    },
    {
      "cell_type": "code",
      "execution_count": null,
      "metadata": {
        "id": "IKsfKrZUv1b2"
      },
      "outputs": [],
      "source": [
        "x=np.array([0,np.pi/2 , np.pi] )"
      ]
    },
    {
      "cell_type": "markdown",
      "metadata": {
        "id": "4OJZiyuEv1b2"
      },
      "source": [
        " We can apply the function \"sine\" to the array 'x' and assign the values to the array 'y'; this applies the sine function to each element in the array:  "
      ]
    },
    {
      "cell_type": "code",
      "execution_count": null,
      "metadata": {
        "id": "XQuxZfCCv1b2"
      },
      "outputs": [],
      "source": [
        "y=np.sin(x)\n",
        "y"
      ]
    },
    {
      "cell_type": "markdown",
      "metadata": {
        "id": "s7YKyDnYv1b2"
      },
      "source": [
        "#### Linspace"
      ]
    },
    {
      "cell_type": "markdown",
      "metadata": {
        "id": "zb4bloq3v1b3"
      },
      "source": [
        " A useful function for plotting mathematical functions is \"linespace\".   Linespace returns evenly spaced numbers over a specified interval. We specify the starting point of the sequence and the ending point of the sequence. The parameter \"num\" indicates the Number of samples to generate, in this case 5:"
      ]
    },
    {
      "cell_type": "code",
      "execution_count": 32,
      "metadata": {
        "colab": {
          "base_uri": "https://localhost:8080/"
        },
        "id": "CKEpuZQHv1b3",
        "outputId": "8e4cf943-c8f5-4790-b006-7b2eedbc6f7b"
      },
      "outputs": [
        {
          "output_type": "execute_result",
          "data": {
            "text/plain": [
              "array([-2.        , -1.55555556, -1.11111111, -0.66666667, -0.22222222,\n",
              "        0.22222222,  0.66666667,  1.11111111,  1.55555556,  2.        ])"
            ]
          },
          "metadata": {},
          "execution_count": 32
        }
      ],
      "source": [
        "np.linspace(-2,2,num=10)"
      ]
    },
    {
      "cell_type": "code",
      "source": [
        "t=np.ones((3,3))*5\n",
        "t.astype('int8')\n",
        "z=np.ones((3,3))*2"
      ],
      "metadata": {
        "id": "QDLPa_M7ETQr"
      },
      "execution_count": 40,
      "outputs": []
    },
    {
      "cell_type": "code",
      "source": [
        "from numpy.ma.core import dot\n",
        "k=np.dot(t,z)\n",
        "k.shape\n",
        "k=np.array([[[30., 30., 30.],\n",
        "       [30., 30., 30.],\n",
        "       [30., 30., 30.]]])"
      ],
      "metadata": {
        "id": "0fdViEwNJZ74"
      },
      "execution_count": 48,
      "outputs": []
    },
    {
      "cell_type": "code",
      "source": [
        "k[0,0:1,0:2]"
      ],
      "metadata": {
        "colab": {
          "base_uri": "https://localhost:8080/"
        },
        "id": "hy7x7G7zLg5x",
        "outputId": "b5b5ebdb-c5b3-4832-b13e-30588b7590fd"
      },
      "execution_count": 51,
      "outputs": [
        {
          "output_type": "execute_result",
          "data": {
            "text/plain": [
              "array([[30., 30.]])"
            ]
          },
          "metadata": {},
          "execution_count": 51
        }
      ]
    },
    {
      "cell_type": "code",
      "source": [
        "type(t.shape)\n",
        "t.shape[0]"
      ],
      "metadata": {
        "colab": {
          "base_uri": "https://localhost:8080/"
        },
        "id": "ZSG_5E8wFmk9",
        "outputId": "9962808d-4d7e-404e-dba0-d9d0792db227"
      },
      "execution_count": 39,
      "outputs": [
        {
          "output_type": "execute_result",
          "data": {
            "text/plain": [
              "3"
            ]
          },
          "metadata": {},
          "execution_count": 39
        }
      ]
    },
    {
      "cell_type": "markdown",
      "metadata": {
        "id": "tEzunMgiv1b3"
      },
      "source": [
        " If we change the parameter **num** to 9, we get 9  evenly spaced numbers over the interval from -2 to 2: "
      ]
    },
    {
      "cell_type": "code",
      "execution_count": null,
      "metadata": {
        "id": "jGiELknjv1b3"
      },
      "outputs": [],
      "source": [
        "np.linspace(-2,2,num=9)"
      ]
    },
    {
      "cell_type": "markdown",
      "metadata": {
        "id": "8Tm9ubt3v1b3"
      },
      "source": [
        "We can use the function line space to generate 100 evenly spaced samples from the interval 0 to 2 pi: "
      ]
    },
    {
      "cell_type": "code",
      "execution_count": null,
      "metadata": {
        "id": "7fP937l9v1b4"
      },
      "outputs": [],
      "source": [
        "x=np.linspace(0,2*np.pi,num=100)\n"
      ]
    },
    {
      "cell_type": "markdown",
      "metadata": {
        "id": "vld-OCuvv1b4"
      },
      "source": [
        "We can apply the sine function to each element in the array 'x' and assign it to the array 'y': "
      ]
    },
    {
      "cell_type": "code",
      "execution_count": null,
      "metadata": {
        "collapsed": true,
        "id": "IYvALrMHv1b4"
      },
      "outputs": [],
      "source": [
        "y=np.sin(x)"
      ]
    },
    {
      "cell_type": "code",
      "execution_count": null,
      "metadata": {
        "id": "moveRqMnv1b4"
      },
      "outputs": [],
      "source": [
        "plt.plot(x,y)"
      ]
    },
    {
      "cell_type": "markdown",
      "metadata": {
        "id": "z-1M0thZv1b4"
      },
      "source": [
        "#### About the Authors:  \n",
        "\n",
        " [Joseph Santarcangelo]( https://www.linkedin.com/in/joseph-s-50398b136/) has a PhD in Electrical Engineering, his research focused on using machine learning, signal processing, and computer vision to determine how videos impact human cognition. Joseph has been working for IBM since he completed his PhD.\n"
      ]
    },
    {
      "cell_type": "markdown",
      "metadata": {
        "id": "99Bi8mcWv1b5"
      },
      "source": [
        "Copyright &copy; 2017 [cognitiveclass.ai](https:cognitiveclass.ai). This notebook and its source code are released under the terms of the [MIT License](cognitiveclass.ai)."
      ]
    },
    {
      "cell_type": "code",
      "execution_count": 53,
      "metadata": {
        "collapsed": true,
        "colab": {
          "base_uri": "https://localhost:8080/"
        },
        "id": "5OBZ7ej0v1b5",
        "outputId": "9496c466-5549-4f0d-e683-02a87478d105"
      },
      "outputs": [
        {
          "output_type": "execute_result",
          "data": {
            "text/plain": [
              "array([[0, 4, 5, 3, 3],\n",
              "       [4, 0, 1, 5, 3],\n",
              "       [5, 1, 0, 6, 4],\n",
              "       [3, 5, 6, 0, 6],\n",
              "       [3, 3, 4, 6, 0]])"
            ]
          },
          "metadata": {},
          "execution_count": 53
        }
      ],
      "source": [
        "import numpy as np\n",
        "  \n",
        "# create a numpy 2d-array\n",
        "arr = np.array([[2,3], \n",
        "                [5,4],\n",
        "                [6,4],\n",
        "                [1,5],\n",
        "                [4,2]])\n",
        "  \n",
        "# finding the difference between\n",
        "# neighboring elements along row\n",
        "np.sqrt(np.sum((arr[None, :] - arr[:, None])**2, -1))#euclidean\n",
        "np.sum(np.abs(arr[None, :] - arr[:, None]), -1)#manhatan"
      ]
    },
    {
      "cell_type": "code",
      "source": [
        "np.abs(arr[None, :] - arr[:, None])\n"
      ],
      "metadata": {
        "id": "RAwoiXQfTLmp",
        "outputId": "da7a1c39-fb44-48e9-e982-c8c9fd77af44",
        "colab": {
          "base_uri": "https://localhost:8080/"
        }
      },
      "execution_count": 63,
      "outputs": [
        {
          "output_type": "execute_result",
          "data": {
            "text/plain": [
              "array([[[0, 0],\n",
              "        [3, 1],\n",
              "        [4, 1],\n",
              "        [1, 2],\n",
              "        [2, 1]],\n",
              "\n",
              "       [[3, 1],\n",
              "        [0, 0],\n",
              "        [1, 0],\n",
              "        [4, 1],\n",
              "        [1, 2]],\n",
              "\n",
              "       [[4, 1],\n",
              "        [1, 0],\n",
              "        [0, 0],\n",
              "        [5, 1],\n",
              "        [2, 2]],\n",
              "\n",
              "       [[1, 2],\n",
              "        [4, 1],\n",
              "        [5, 1],\n",
              "        [0, 0],\n",
              "        [3, 3]],\n",
              "\n",
              "       [[2, 1],\n",
              "        [1, 2],\n",
              "        [2, 2],\n",
              "        [3, 3],\n",
              "        [0, 0]]])"
            ]
          },
          "metadata": {},
          "execution_count": 63
        }
      ]
    },
    {
      "cell_type": "code",
      "source": [
        "np.sum(np.abs(arr[None, :] - arr[:, None]),-1)"
      ],
      "metadata": {
        "id": "u4Cr1i7uT8I7",
        "outputId": "357ec875-1364-4baa-f0e0-cd265be44fff",
        "colab": {
          "base_uri": "https://localhost:8080/"
        }
      },
      "execution_count": 62,
      "outputs": [
        {
          "output_type": "execute_result",
          "data": {
            "text/plain": [
              "array([[0, 4, 5, 3, 3],\n",
              "       [4, 0, 1, 5, 3],\n",
              "       [5, 1, 0, 6, 4],\n",
              "       [3, 5, 6, 0, 6],\n",
              "       [3, 3, 4, 6, 0]])"
            ]
          },
          "metadata": {},
          "execution_count": 62
        }
      ]
    },
    {
      "cell_type": "code",
      "source": [
        "\n",
        "arr[:, None]\n"
      ],
      "metadata": {
        "id": "2zxIrATDSPwk",
        "outputId": "4e1f3fce-1821-4562-96fe-3bd7961aa6a7",
        "colab": {
          "base_uri": "https://localhost:8080/"
        }
      },
      "execution_count": 70,
      "outputs": [
        {
          "output_type": "execute_result",
          "data": {
            "text/plain": [
              "array([[[2, 3]],\n",
              "\n",
              "       [[5, 4]],\n",
              "\n",
              "       [[6, 4]],\n",
              "\n",
              "       [[1, 5]],\n",
              "\n",
              "       [[4, 2]]])"
            ]
          },
          "metadata": {},
          "execution_count": 70
        }
      ]
    },
    {
      "cell_type": "code",
      "source": [
        "arr[None, :]"
      ],
      "metadata": {
        "id": "T3lEy9L9ScsH",
        "outputId": "7242c31a-8632-4090-b9e6-ccc32f9e3ca3",
        "colab": {
          "base_uri": "https://localhost:8080/"
        }
      },
      "execution_count": 66,
      "outputs": [
        {
          "output_type": "execute_result",
          "data": {
            "text/plain": [
              "array([[[2, 3],\n",
              "        [5, 4],\n",
              "        [6, 4],\n",
              "        [1, 5],\n",
              "        [4, 2]]])"
            ]
          },
          "metadata": {},
          "execution_count": 66
        }
      ]
    }
  ],
  "metadata": {
    "anaconda-cloud": {},
    "kernelspec": {
      "display_name": "Python [default]",
      "language": "python",
      "name": "python3"
    },
    "language_info": {
      "codemirror_mode": {
        "name": "ipython",
        "version": 3
      },
      "file_extension": ".py",
      "mimetype": "text/x-python",
      "name": "python",
      "nbconvert_exporter": "python",
      "pygments_lexer": "ipython3",
      "version": "3.5.2"
    },
    "colab": {
      "provenance": []
    }
  },
  "nbformat": 4,
  "nbformat_minor": 0
}