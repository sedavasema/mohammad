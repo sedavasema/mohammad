{
  "nbformat": 4,
  "nbformat_minor": 0,
  "metadata": {
    "colab": {
      "provenance": [],
      "authorship_tag": "ABX9TyOY7/HL16xUcV/h9xNZlIOR",
      "include_colab_link": true
    },
    "kernelspec": {
      "name": "python3",
      "display_name": "Python 3"
    },
    "language_info": {
      "name": "python"
    }
  },
  "cells": [
    {
      "cell_type": "markdown",
      "metadata": {
        "id": "view-in-github",
        "colab_type": "text"
      },
      "source": [
        "<a href=\"https://colab.research.google.com/github/sedavasema/mohammad/blob/main/who_use_class.ipynb\" target=\"_parent\"><img src=\"https://colab.research.google.com/assets/colab-badge.svg\" alt=\"Open In Colab\"/></a>"
      ]
    },
    {
      "cell_type": "markdown",
      "source": [
        "class MathsOperations:\\\n",
        "    @staticmethod\\\n",
        "    def testAddition (a,b):\\\n",
        "        return (a + b)\n",
        "    @staticmethod\n",
        "    def testMultiplication (a,b):\n",
        "        return (a * b)\n"
      ],
      "metadata": {
        "id": "am9bEPEbjtaf"
      }
    },
    {
      "cell_type": "markdown",
      "source": [
        "class MathsOperations:\n",
        "    def __init__ (self, x, y):\n",
        "        self.a = x\n",
        "        self.b = y\n",
        "    def testAddition (self):\n",
        "        return (self.a + self.b)\n",
        "\n",
        "    def testMultiplication (self):\n",
        "        return (self.a * self.b)"
      ],
      "metadata": {
        "id": "KrgH2nkdkvYX"
      }
    },
    {
      "cell_type": "markdown",
      "source": [
        "class MathOperations:\n",
        "    def testAddition (self,x, y):\n",
        "        return x + y\n",
        "\n",
        "    def testMultiplication (self,a, b):\n",
        "        return a * b"
      ],
      "metadata": {
        "id": "hs4hHH_3kxQr"
      }
    },
    {
      "cell_type": "code",
      "source": [
        "import shutil\n",
        "shutil.rmtree('__pycache__')"
      ],
      "metadata": {
        "id": "6_WN5mVsiHkF"
      },
      "execution_count": 6,
      "outputs": []
    },
    {
      "cell_type": "code",
      "source": [
        "import importlib\n",
        "import testClass\n",
        "importlib.reload(testClass)\n",
        "from testClass import MathsOperations"
      ],
      "metadata": {
        "id": "AtLX6wN6iJoM"
      },
      "execution_count": 15,
      "outputs": []
    },
    {
      "cell_type": "code",
      "source": [
        "xyz = MathsOperations(2, 3)\n",
        "print (xyz.testAddition())"
      ],
      "metadata": {
        "colab": {
          "base_uri": "https://localhost:8080/",
          "height": 183
        },
        "id": "yAnrZstrVVf3",
        "outputId": "de5bca47-71a2-478b-c65b-5910b64f9a92"
      },
      "execution_count": 4,
      "outputs": [
        {
          "output_type": "error",
          "ename": "TypeError",
          "evalue": "ignored",
          "traceback": [
            "\u001b[0;31m---------------------------------------------------------------------------\u001b[0m",
            "\u001b[0;31mTypeError\u001b[0m                                 Traceback (most recent call last)",
            "\u001b[0;32m<ipython-input-4-38e2e34e62ba>\u001b[0m in \u001b[0;36m<cell line: 1>\u001b[0;34m()\u001b[0m\n\u001b[0;32m----> 1\u001b[0;31m \u001b[0mxyz\u001b[0m \u001b[0;34m=\u001b[0m \u001b[0mMathsOperations\u001b[0m\u001b[0;34m(\u001b[0m\u001b[0;36m2\u001b[0m\u001b[0;34m,\u001b[0m \u001b[0;36m3\u001b[0m\u001b[0;34m)\u001b[0m\u001b[0;34m\u001b[0m\u001b[0;34m\u001b[0m\u001b[0m\n\u001b[0m\u001b[1;32m      2\u001b[0m \u001b[0mprint\u001b[0m \u001b[0;34m(\u001b[0m\u001b[0mxyz\u001b[0m\u001b[0;34m.\u001b[0m\u001b[0mtestAddition\u001b[0m\u001b[0;34m(\u001b[0m\u001b[0;34m)\u001b[0m\u001b[0;34m)\u001b[0m\u001b[0;34m\u001b[0m\u001b[0;34m\u001b[0m\u001b[0m\n",
            "\u001b[0;31mTypeError\u001b[0m: MathsOperations() takes no arguments"
          ]
        }
      ]
    },
    {
      "cell_type": "code",
      "source": [
        "xyz = MathsOperations()\n",
        "print (xyz.testAddition(2,3))"
      ],
      "metadata": {
        "colab": {
          "base_uri": "https://localhost:8080/"
        },
        "id": "hf83Sm0wVYOH",
        "outputId": "12bcb2d3-0256-451b-e673-a4f65e8fdbac"
      },
      "execution_count": 5,
      "outputs": [
        {
          "output_type": "stream",
          "name": "stdout",
          "text": [
            "5\n"
          ]
        }
      ]
    },
    {
      "cell_type": "code",
      "source": [
        "xyz = MathsOperations()\n",
        "print (xyz.testMultiplication(2,3))"
      ],
      "metadata": {
        "colab": {
          "base_uri": "https://localhost:8080/"
        },
        "outputId": "d5754541-7c9a-4646-9491-04ea09835669",
        "id": "Sbg3ZRXdg5eV"
      },
      "execution_count": 16,
      "outputs": [
        {
          "output_type": "stream",
          "name": "stdout",
          "text": [
            "6\n"
          ]
        }
      ]
    }
  ]
}