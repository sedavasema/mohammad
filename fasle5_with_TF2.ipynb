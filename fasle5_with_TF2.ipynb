{
  "nbformat": 4,
  "nbformat_minor": 0,
  "metadata": {
    "colab": {
      "provenance": [],
      "gpuType": "T4",
      "authorship_tag": "ABX9TyMpUpEZnfYyquY495EaPTM6",
      "include_colab_link": true
    },
    "kernelspec": {
      "name": "python3",
      "display_name": "Python 3"
    },
    "language_info": {
      "name": "python"
    },
    "accelerator": "GPU"
  },
  "cells": [
    {
      "cell_type": "markdown",
      "metadata": {
        "id": "view-in-github",
        "colab_type": "text"
      },
      "source": [
        "<a href=\"https://colab.research.google.com/github/sedavasema/mohammad/blob/main/fasle5_with_TF2.ipynb\" target=\"_parent\"><img src=\"https://colab.research.google.com/assets/colab-badge.svg\" alt=\"Open In Colab\"/></a>"
      ]
    },
    {
      "cell_type": "code",
      "execution_count": 11,
      "metadata": {
        "id": "0lVUAf0UvQ0q"
      },
      "outputs": [],
      "source": [
        "import tensorflow as tf\n",
        "from tensorflow import keras\n",
        "from tensorflow.keras import layers"
      ]
    },
    {
      "cell_type": "code",
      "source": [
        "model = keras.Sequential()\n",
        "model.add(keras.Input(shape=(28,28,1),name='Input'))\n",
        "#model.add(layers.Conv2D(32,(3,3),activation=('relu'),input_shape=(28,28,1),name='first_conv'))\n",
        "model.add(layers.Conv2D(32,(3,3),activation=('relu'),name='first_conv'))\n",
        "model.add(layers.MaxPool2D((2,2),strides=2,name='first_maxpool'))\n",
        "model.add(layers.Conv2D(64,(3,3),activation='relu',name='second_conv'))\n",
        "model.add(layers.MaxPool2D((2,2),strides=2,name='second_maxpool'))\n",
        "model.add(layers.Conv2D(64,(3,3),activation='relu',name='third_conv'))\n",
        "\n",
        "model.add(layers.Flatten())\n",
        "model.add(layers.Dense(64,activation='relu',name=\"prelogics\"))\n",
        "model.add(layers.Dense(10,activation='softmax',name='logics'))\n",
        "model.summary()"
      ],
      "metadata": {
        "colab": {
          "base_uri": "https://localhost:8080/"
        },
        "id": "A-r_9mNLv6ca",
        "outputId": "0c8f4d67-1f90-479b-a9d8-db3faccdc8f9"
      },
      "execution_count": 12,
      "outputs": [
        {
          "output_type": "stream",
          "name": "stdout",
          "text": [
            "Model: \"sequential\"\n",
            "_________________________________________________________________\n",
            " Layer (type)                Output Shape              Param #   \n",
            "=================================================================\n",
            " first_conv (Conv2D)         (None, 26, 26, 32)        320       \n",
            "                                                                 \n",
            " first_maxpool (MaxPooling2D  (None, 13, 13, 32)       0         \n",
            " )                                                               \n",
            "                                                                 \n",
            " second_conv (Conv2D)        (None, 11, 11, 64)        18496     \n",
            "                                                                 \n",
            " second_maxpool (MaxPooling2  (None, 5, 5, 64)         0         \n",
            " D)                                                              \n",
            "                                                                 \n",
            " third_conv (Conv2D)         (None, 3, 3, 64)          36928     \n",
            "                                                                 \n",
            " flatten (Flatten)           (None, 576)               0         \n",
            "                                                                 \n",
            " prelogics (Dense)           (None, 64)                36928     \n",
            "                                                                 \n",
            " logics (Dense)              (None, 10)                650       \n",
            "                                                                 \n",
            "=================================================================\n",
            "Total params: 93,322\n",
            "Trainable params: 93,322\n",
            "Non-trainable params: 0\n",
            "_________________________________________________________________\n"
          ]
        }
      ]
    },
    {
      "cell_type": "code",
      "source": [
        "from tensorflow.keras.datasets import mnist\n",
        "from tensorflow.keras.utils import to_categorical\n",
        "(train_images,train_labels),(test_images,test_labels) = mnist.load_data()\n",
        "train_images=train_images.reshape(60000,28,28,1)\n",
        "train_images=train_images.astype('float32')/255\n",
        "\n",
        "test_images=test_images.reshape(10000,28,28,1)\n",
        "test_images=test_images.astype('float32')/255\n"
      ],
      "metadata": {
        "id": "hDs9L6XF-dbt"
      },
      "execution_count": 13,
      "outputs": []
    },
    {
      "cell_type": "code",
      "source": [
        "train_labels=to_categorical(train_labels)\n",
        "test_labels=to_categorical(test_labels)"
      ],
      "metadata": {
        "id": "acfTMMYHDZsE"
      },
      "execution_count": 14,
      "outputs": []
    },
    {
      "cell_type": "code",
      "source": [
        "model.compile(optimizer='rmsprop',loss='categorical_crossentropy',metrics=['accuracy'])\n",
        "model.fit(train_images,train_labels,epochs=5,batch_size=64)"
      ],
      "metadata": {
        "colab": {
          "base_uri": "https://localhost:8080/"
        },
        "id": "S1wctePGDPPp",
        "outputId": "bfc5cc00-59d8-4779-83c9-49be68552d31"
      },
      "execution_count": 15,
      "outputs": [
        {
          "output_type": "stream",
          "name": "stdout",
          "text": [
            "Epoch 1/5\n",
            "938/938 [==============================] - 18s 10ms/step - loss: 0.1794 - accuracy: 0.9430\n",
            "Epoch 2/5\n",
            "938/938 [==============================] - 11s 12ms/step - loss: 0.0473 - accuracy: 0.9860\n",
            "Epoch 3/5\n",
            "938/938 [==============================] - 9s 9ms/step - loss: 0.0336 - accuracy: 0.9898\n",
            "Epoch 4/5\n",
            "938/938 [==============================] - 8s 8ms/step - loss: 0.0250 - accuracy: 0.9919\n",
            "Epoch 5/5\n",
            "938/938 [==============================] - 10s 10ms/step - loss: 0.0193 - accuracy: 0.9942\n"
          ]
        },
        {
          "output_type": "execute_result",
          "data": {
            "text/plain": [
              "<keras.callbacks.History at 0x7f0020cf9f60>"
            ]
          },
          "metadata": {},
          "execution_count": 15
        }
      ]
    }
  ]
}