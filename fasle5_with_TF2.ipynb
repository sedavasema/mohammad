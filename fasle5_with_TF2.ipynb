{
  "nbformat": 4,
  "nbformat_minor": 0,
  "metadata": {
    "colab": {
      "provenance": [],
      "authorship_tag": "ABX9TyOxyJyJ9IGjBVzdFgMZxdiB",
      "include_colab_link": true
    },
    "kernelspec": {
      "name": "python3",
      "display_name": "Python 3"
    },
    "language_info": {
      "name": "python"
    }
  },
  "cells": [
    {
      "cell_type": "markdown",
      "metadata": {
        "id": "view-in-github",
        "colab_type": "text"
      },
      "source": [
        "<a href=\"https://colab.research.google.com/github/sedavasema/mohammad/blob/main/fasle5_with_TF2.ipynb\" target=\"_parent\"><img src=\"https://colab.research.google.com/assets/colab-badge.svg\" alt=\"Open In Colab\"/></a>"
      ]
    },
    {
      "cell_type": "code",
      "execution_count": 2,
      "metadata": {
        "id": "0lVUAf0UvQ0q"
      },
      "outputs": [],
      "source": [
        "import tensorflow as tf\n",
        "from tensorflow import keras\n",
        "from tensorflow.keras import layers"
      ]
    },
    {
      "cell_type": "code",
      "source": [
        "model = keras.Sequential()\n",
        "model.add(layers.Conv2D(32,(3,3),activation=('relu'),input_shape=(28,28,1),name='first_conv'))\n",
        "model.add(layers.MaxPool2D((2,2),strides=2,name='first_maxpool'))\n",
        "model.add(layers.Conv2D(64,(3,3),activation='relu',name='second_conv'))\n",
        "model.add(layers.MaxPool2D((2,2),strides=2,name='second_maxpool'))\n",
        "model.add(layers.Conv2D(64,(3,3),activation='relu',name='third_conv'))\n",
        "\n",
        "model.add(layers.Flatten())\n",
        "model.add(layers.Dense(64,activation='relu',name=\"prelogics\"))\n",
        "model.add(layers.Dense(10,activation='softmax',name='logics'))\n",
        "model.summary()"
      ],
      "metadata": {
        "colab": {
          "base_uri": "https://localhost:8080/"
        },
        "id": "A-r_9mNLv6ca",
        "outputId": "32e626cf-093a-47a4-be4d-df531d96d97b"
      },
      "execution_count": 12,
      "outputs": [
        {
          "output_type": "stream",
          "name": "stdout",
          "text": [
            "Model: \"sequential_8\"\n",
            "_________________________________________________________________\n",
            " Layer (type)                Output Shape              Param #   \n",
            "=================================================================\n",
            " first_conv (Conv2D)         (None, 26, 26, 32)        320       \n",
            "                                                                 \n",
            " first_maxpool (MaxPooling2D  (None, 13, 13, 32)       0         \n",
            " )                                                               \n",
            "                                                                 \n",
            " second_conv (Conv2D)        (None, 11, 11, 64)        18496     \n",
            "                                                                 \n",
            " second_maxpool (MaxPooling2  (None, 5, 5, 64)         0         \n",
            " D)                                                              \n",
            "                                                                 \n",
            " third_conv (Conv2D)         (None, 3, 3, 64)          36928     \n",
            "                                                                 \n",
            " flatten_6 (Flatten)         (None, 576)               0         \n",
            "                                                                 \n",
            " prelogics (Dense)           (None, 64)                36928     \n",
            "                                                                 \n",
            " logics (Dense)              (None, 10)                650       \n",
            "                                                                 \n",
            "=================================================================\n",
            "Total params: 93,322\n",
            "Trainable params: 93,322\n",
            "Non-trainable params: 0\n",
            "_________________________________________________________________\n"
          ]
        }
      ]
    }
  ]
}