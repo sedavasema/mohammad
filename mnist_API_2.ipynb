{
  "nbformat": 4,
  "nbformat_minor": 0,
  "metadata": {
    "colab": {
      "provenance": [],
      "authorship_tag": "ABX9TyNdMAPbYEbEmLN7p2wtnGFu",
      "include_colab_link": true
    },
    "kernelspec": {
      "name": "python3",
      "display_name": "Python 3"
    },
    "language_info": {
      "name": "python"
    }
  },
  "cells": [
    {
      "cell_type": "markdown",
      "metadata": {
        "id": "view-in-github",
        "colab_type": "text"
      },
      "source": [
        "<a href=\"https://colab.research.google.com/github/sedavasema/mohammad/blob/main/mnist_API_2.ipynb\" target=\"_parent\"><img src=\"https://colab.research.google.com/assets/colab-badge.svg\" alt=\"Open In Colab\"/></a>"
      ]
    },
    {
      "cell_type": "markdown",
      "source": [
        "## mnist by application programming interface"
      ],
      "metadata": {
        "id": "hK0juzsd59mY"
      }
    },
    {
      "cell_type": "markdown",
      "source": [
        "### تعریف توابع مورد نیاز"
      ],
      "metadata": {
        "id": "srE1jgcVmSQR"
      }
    },
    {
      "cell_type": "markdown",
      "source": [
        "# تعریف تابع پلات"
      ],
      "metadata": {
        "id": "uWpXV1lWmbkv"
      }
    },
    {
      "cell_type": "code",
      "source": [
        "def plot_history(net_history):\n",
        "  history=net_history.history\n",
        "\n",
        "  losses=history['loss']\n",
        "  val_losses=history['val_loss']\n",
        "\n",
        "  accuracy=history['accuracy']\n",
        "  val_accuracy=history['val_accuracy']\n",
        "  \n",
        "  plt.xlabel('epoches')\n",
        "  plt.ylabel('losses')\n",
        "  plt.plot(losses)\n",
        "  plt.plot(val_losses)\n",
        "  plt.legend(['loss','val_loss'])\n",
        "\n",
        "  plt.figure()\n",
        "  plt.xlabel('epoches')\n",
        "  plt.ylabel('accuracy')\n",
        "  plt.plot(accuracy)\n",
        "  plt.plot(val_accuracy)\n",
        "  plt.legend(['accuracy','val_accuracy'])\n"
      ],
      "metadata": {
        "id": "TXNXaP8kmP1P"
      },
      "execution_count": 1,
      "outputs": []
    },
    {
      "cell_type": "markdown",
      "source": [
        "## mnist کار کردن با دیتا بیس "
      ],
      "metadata": {
        "id": "bkFLV0j__sph"
      }
    },
    {
      "cell_type": "code",
      "execution_count": 2,
      "metadata": {
        "id": "YI2Bs81TgR74"
      },
      "outputs": [],
      "source": [
        "import keras\n",
        "import tensorflow\n",
        "from keras.datasets import mnist\n",
        "import numpy as np\n",
        "import matplotlib.pyplot as plt\n"
      ]
    },
    {
      "cell_type": "code",
      "source": [
        "(train_images, train_labels),(test_images,test_labels)=mnist.load_data()\n"
      ],
      "metadata": {
        "id": "asIgeAqJy5Tf",
        "colab": {
          "base_uri": "https://localhost:8080/"
        },
        "outputId": "c4888dbe-de72-49b4-8323-755e53154360"
      },
      "execution_count": 3,
      "outputs": [
        {
          "output_type": "stream",
          "name": "stdout",
          "text": [
            "Downloading data from https://storage.googleapis.com/tensorflow/tf-keras-datasets/mnist.npz\n",
            "11490434/11490434 [==============================] - 0s 0us/step\n"
          ]
        }
      ]
    },
    {
      "cell_type": "markdown",
      "source": [
        "## شناخت داده لود شده"
      ],
      "metadata": {
        "id": "d24fUKjFlMJO"
      }
    },
    {
      "cell_type": "code",
      "source": [
        "train_images.shape\n",
        "train_images.ndim\n",
        "train_images.dtype\n",
        "print('train_image shape is: ' ,train_images.shape)\n",
        "print('train_image dtype is: ' ,train_images.dtype)\n",
        "print('train_images ndim is: ' ,train_images.ndim)"
      ],
      "metadata": {
        "colab": {
          "base_uri": "https://localhost:8080/"
        },
        "id": "NhhTwHp4hwbS",
        "outputId": "295a4262-d39f-4fb7-a355-b6efaa0ed20d"
      },
      "execution_count": 4,
      "outputs": [
        {
          "output_type": "stream",
          "name": "stdout",
          "text": [
            "train_image shape is:  (60000, 28, 28)\n",
            "train_image dtype is:  uint8\n",
            "train_images ndim is:  3\n"
          ]
        }
      ]
    },
    {
      "cell_type": "markdown",
      "source": [
        "## پیش پردازش داده"
      ],
      "metadata": {
        "id": "2y_3OYdtlVhd"
      }
    },
    {
      "cell_type": "code",
      "source": [
        "from keras.utils import np_utils\n"
      ],
      "metadata": {
        "id": "xH1BVb7-7h_3"
      },
      "execution_count": 6,
      "outputs": []
    },
    {
      "cell_type": "code",
      "source": [
        "#در اینجا چون از ای پی آی وشبکه های سی ان ان استفاده میکنیم دیگر نیاز نیست داده را به وکتور تبدیل کرد فقط یک کانال رنگ به آن اضافه میکنیم\n",
        "X_train=train_images.reshape(60000,28,28,1)\n",
        "X_test=test_images.reshape(10000,28,28,1)\n",
        "#چون میخواهیم داده ها را نرمال کنیم آنها را اعشاری میکنیم\n",
        "X_train=X_train.astype('float32')\n",
        "X_test=X_test.astype('float32')\n",
        "X_train /=255\n",
        "X_test /=255\n",
        "#حال باید لیبل ها رو برای لایه سافت مکس آماده کنیم\n",
        "Y_train=np_utils.to_categorical(train_labels)\n",
        "Y_test=np_utils.to_categorical(test_labels)"
      ],
      "metadata": {
        "id": "yxkSg0s68B0y"
      },
      "execution_count": 7,
      "outputs": []
    },
    {
      "cell_type": "markdown",
      "source": [
        "# شبکه عصبی فولی کانکتد"
      ],
      "metadata": {
        "id": "_fNiYOcsy4CX"
      }
    },
    {
      "cell_type": "markdown",
      "source": [
        "## ساختن شبکه عصبی"
      ],
      "metadata": {
        "id": "yayFIYa7CmIj"
      }
    },
    {
      "cell_type": "code",
      "source": [
        ", flatten\n",
        "from keras.backend import dropout\n",
        "from keras.models import Model\n",
        "#from keras.layers import Input,Conv2D,MaxPool2D,Flatten,Dense\n",
        "#روش دیگر استفاده از لایه ها\n",
        "from keras import layers\n",
        "myInput=layers.Input(shape=(28,28,1))\n",
        "Conv1=layers.Conv2D(16,(3,3),activation='relu',padding='same')(myInput)\n",
        "Pool1=layers.MaxPool2D(pool_size=(2,2))(Conv1)\n",
        "#وقتی سایز داده ها را با پول نصف میکنیم میتوان تعداد فیچر ها را زیاد کرد\n",
        "Conv2=layers.Conv2D(32,(3,3),activation='relu',padding='same')(Pool1)\n",
        "Pool2=layers.MaxPool2D(pool_size=(2,2))(Conv2)\n",
        "flat=layers.Flatten()(Pool2)\n",
        "Out_layer=layers.Dense(10,activation='softmax')(flat)\n",
        "\n",
        "myModel=Model(myInput,Out_layer)"
      ],
      "metadata": {
        "id": "oG4gixk0B7kX"
      },
      "execution_count": 19,
      "outputs": []
    },
    {
      "cell_type": "code",
      "source": [
        "myModel.summary()"
      ],
      "metadata": {
        "colab": {
          "base_uri": "https://localhost:8080/"
        },
        "id": "7DIJcf9FF93G",
        "outputId": "a3d01de7-762a-4eab-aeed-621ba8aa94f7"
      },
      "execution_count": 15,
      "outputs": [
        {
          "output_type": "stream",
          "name": "stdout",
          "text": [
            "Model: \"model_1\"\n",
            "_________________________________________________________________\n",
            " Layer (type)                Output Shape              Param #   \n",
            "=================================================================\n",
            " input_4 (InputLayer)        [(None, 28, 28, 1)]       0         \n",
            "                                                                 \n",
            " conv2d_6 (Conv2D)           (None, 28, 28, 16)        160       \n",
            "                                                                 \n",
            " max_pooling2d_6 (MaxPooling  (None, 14, 14, 16)       0         \n",
            " 2D)                                                             \n",
            "                                                                 \n",
            " conv2d_7 (Conv2D)           (None, 14, 14, 32)        4640      \n",
            "                                                                 \n",
            " max_pooling2d_7 (MaxPooling  (None, 7, 7, 32)         0         \n",
            " 2D)                                                             \n",
            "                                                                 \n",
            " flatten_2 (Flatten)         (None, 1568)              0         \n",
            "                                                                 \n",
            " dense_2 (Dense)             (None, 10)                15690     \n",
            "                                                                 \n",
            "=================================================================\n",
            "Total params: 20,490\n",
            "Trainable params: 20,490\n",
            "Non-trainable params: 0\n",
            "_________________________________________________________________\n"
          ]
        }
      ]
    },
    {
      "cell_type": "markdown",
      "source": [
        "## کامپایل کردن وآموزش شبکه عصبی"
      ],
      "metadata": {
        "id": "XiKUILjYPpaB"
      }
    },
    {
      "cell_type": "code",
      "source": [
        "#یک روش دیگر فراخوانی توابع اپتیمایزر و لاس فانکشن\n",
        "#from keras.optimizers import SGD\n",
        "#from keras.losses import categorical_crossentropy\n",
        "import keras\n",
        "myModel.compile(optimizer=keras.optimizers.Adam(),loss=keras.losses.CategoricalCrossentropy(),metrics=['accuracy'])\n",
        "\n",
        "network_history=myModel.fit(X_train,Y_train,batch_size=128,epochs=5,validation_split=0.2)\n",
        "\n"
      ],
      "metadata": {
        "colab": {
          "base_uri": "https://localhost:8080/"
        },
        "id": "j41ubE2LGNb-",
        "outputId": "dff8191b-d93c-42ef-e319-9ab8bd485549"
      },
      "execution_count": 21,
      "outputs": [
        {
          "output_type": "stream",
          "name": "stdout",
          "text": [
            "Epoch 1/20\n",
            "375/375 [==============================] - 57s 150ms/step - loss: 0.3877 - accuracy: 0.8878 - val_loss: 0.1244 - val_accuracy: 0.9631\n",
            "Epoch 2/20\n",
            "375/375 [==============================] - 55s 146ms/step - loss: 0.0975 - accuracy: 0.9709 - val_loss: 0.0784 - val_accuracy: 0.9764\n",
            "Epoch 3/20\n",
            "375/375 [==============================] - 54s 145ms/step - loss: 0.0698 - accuracy: 0.9783 - val_loss: 0.0632 - val_accuracy: 0.9825\n",
            "Epoch 4/20\n",
            "375/375 [==============================] - 50s 134ms/step - loss: 0.0559 - accuracy: 0.9834 - val_loss: 0.0655 - val_accuracy: 0.9809\n",
            "Epoch 5/20\n",
            "375/375 [==============================] - 56s 149ms/step - loss: 0.0493 - accuracy: 0.9850 - val_loss: 0.0537 - val_accuracy: 0.9834\n",
            "Epoch 6/20\n",
            "375/375 [==============================] - 53s 141ms/step - loss: 0.0429 - accuracy: 0.9867 - val_loss: 0.0505 - val_accuracy: 0.9847\n",
            "Epoch 7/20\n",
            "375/375 [==============================] - 55s 148ms/step - loss: 0.0379 - accuracy: 0.9881 - val_loss: 0.0507 - val_accuracy: 0.9850\n",
            "Epoch 8/20\n",
            "375/375 [==============================] - 53s 142ms/step - loss: 0.0340 - accuracy: 0.9895 - val_loss: 0.0511 - val_accuracy: 0.9844\n",
            "Epoch 9/20\n",
            "375/375 [==============================] - 55s 147ms/step - loss: 0.0303 - accuracy: 0.9898 - val_loss: 0.0449 - val_accuracy: 0.9863\n",
            "Epoch 10/20\n",
            "375/375 [==============================] - 59s 158ms/step - loss: 0.0270 - accuracy: 0.9918 - val_loss: 0.0472 - val_accuracy: 0.9850\n",
            "Epoch 11/20\n",
            "375/375 [==============================] - 50s 134ms/step - loss: 0.0247 - accuracy: 0.9925 - val_loss: 0.0460 - val_accuracy: 0.9864\n",
            "Epoch 12/20\n",
            "375/375 [==============================] - 57s 152ms/step - loss: 0.0228 - accuracy: 0.9928 - val_loss: 0.0489 - val_accuracy: 0.9847\n",
            "Epoch 13/20\n",
            "375/375 [==============================] - 54s 144ms/step - loss: 0.0199 - accuracy: 0.9938 - val_loss: 0.0484 - val_accuracy: 0.9858\n",
            "Epoch 14/20\n",
            "375/375 [==============================] - 60s 160ms/step - loss: 0.0186 - accuracy: 0.9937 - val_loss: 0.0499 - val_accuracy: 0.9847\n",
            "Epoch 15/20\n",
            "375/375 [==============================] - 57s 151ms/step - loss: 0.0169 - accuracy: 0.9948 - val_loss: 0.0476 - val_accuracy: 0.9864\n",
            "Epoch 16/20\n",
            "375/375 [==============================] - 52s 140ms/step - loss: 0.0148 - accuracy: 0.9953 - val_loss: 0.0495 - val_accuracy: 0.9868\n",
            "Epoch 17/20\n",
            "375/375 [==============================] - 58s 155ms/step - loss: 0.0133 - accuracy: 0.9958 - val_loss: 0.0485 - val_accuracy: 0.9882\n",
            "Epoch 18/20\n",
            "375/375 [==============================] - 59s 157ms/step - loss: 0.0121 - accuracy: 0.9961 - val_loss: 0.0453 - val_accuracy: 0.9869\n",
            "Epoch 19/20\n",
            "375/375 [==============================] - 52s 139ms/step - loss: 0.0111 - accuracy: 0.9967 - val_loss: 0.0463 - val_accuracy: 0.9883\n",
            "Epoch 20/20\n",
            "375/375 [==============================] - 55s 147ms/step - loss: 0.0102 - accuracy: 0.9969 - val_loss: 0.0497 - val_accuracy: 0.9871\n"
          ]
        }
      ]
    },
    {
      "cell_type": "code",
      "source": [
        "history=network_history.history\n",
        "history.keys()"
      ],
      "metadata": {
        "colab": {
          "base_uri": "https://localhost:8080/"
        },
        "id": "iZck5UEjsMWp",
        "outputId": "c3a23efd-ccfc-4579-8738-0ddf4dd5b387"
      },
      "execution_count": 22,
      "outputs": [
        {
          "output_type": "execute_result",
          "data": {
            "text/plain": [
              "dict_keys(['loss', 'accuracy', 'val_loss', 'val_accuracy'])"
            ]
          },
          "metadata": {},
          "execution_count": 22
        }
      ]
    },
    {
      "cell_type": "code",
      "source": [
        "plot_history(network_history)"
      ],
      "metadata": {
        "colab": {
          "base_uri": "https://localhost:8080/",
          "height": 881
        },
        "id": "D9I7DWJpWkTS",
        "outputId": "4754defe-8361-473f-e010-3b17f628a09f"
      },
      "execution_count": 23,
      "outputs": [
        {
          "output_type": "display_data",
          "data": {
            "text/plain": [
              "<Figure size 640x480 with 1 Axes>"
            ],
            "image/png": "[encoded data removed]"
          },
          "metadata": {}
        },
        {
          "output_type": "display_data",
          "data": {
            "text/plain": [
              "<Figure size 640x480 with 1 Axes>"
            ],
            "image/png": "[encoded data removed]"
          },
          "metadata": {}
        }
      ]
    },
    {
      "cell_type": "markdown",
      "source": [
        "## ارزیابی مدل با داده های تست"
      ],
      "metadata": {
        "id": "kAjyMffvz-E1"
      }
    },
    {
      "cell_type": "code",
      "source": [
        "test_loss,test_accu=myModel.evaluate(X_test,Y_test)"
      ],
      "metadata": {
        "colab": {
          "base_uri": "https://localhost:8080/"
        },
        "id": "2pDdJ_g8z8p-",
        "outputId": "d21bf256-ae42-46c5-cd96-cb0929a9d23e"
      },
      "execution_count": null,
      "outputs": [
        {
          "output_type": "stream",
          "name": "stdout",
          "text": [
            "313/313 [==============================] - 2s 5ms/step - loss: 0.4240 - accuracy: 0.8902\n"
          ]
        }
      ]
    },
    {
      "cell_type": "markdown",
      "source": [
        "## پیشگویی مدل"
      ],
      "metadata": {
        "id": "O-0uZcge00hG"
      }
    },
    {
      "cell_type": "code",
      "source": [
        "test_label_p=myModel.predict(X_test)"
      ],
      "metadata": {
        "colab": {
          "base_uri": "https://localhost:8080/"
        },
        "id": "SVVWHnM006A9",
        "outputId": "4303cbfd-3d60-46d9-ce20-42aa4ad93975"
      },
      "execution_count": null,
      "outputs": [
        {
          "output_type": "stream",
          "name": "stdout",
          "text": [
            "313/313 [==============================] - 1s 3ms/step\n"
          ]
        }
      ]
    },
    {
      "cell_type": "markdown",
      "source": [
        "# مقدار پیشگویی شده با همان فرمت سافت مکس است ان را تبدیل میکنیم به مقدار شبیه ورودی"
      ],
      "metadata": {
        "id": "xs6RT1pG2Kr_"
      }
    },
    {
      "cell_type": "code",
      "source": [
        "#axis=1 یعنی روی سطرها نگاه کن و دنبال ماکسیمم بگرد\n",
        "#axis=0 یعنی روی ستون ها بگرد\n",
        "test_label_pt=np.argmax(test_label_p,axis=1)"
      ],
      "metadata": {
        "id": "Akyb7jox2Baw"
      },
      "execution_count": null,
      "outputs": []
    },
    {
      "cell_type": "code",
      "source": [
        "myModel.layers[0].name"
      ],
      "metadata": {
        "colab": {
          "base_uri": "https://localhost:8080/",
          "height": 36
        },
        "id": "13segbPL5miX",
        "outputId": "24211429-81d1-44a4-f0fa-9246e3d92234"
      },
      "execution_count": null,
      "outputs": [
        {
          "output_type": "execute_result",
          "data": {
            "text/plain": [
              "'dense_9'"
            ],
            "application/vnd.google.colaboratory.intrinsic+json": {
              "type": "string"
            }
          },
          "metadata": {},
          "execution_count": 137
        }
      ]
    },
    {
      "cell_type": "code",
      "source": [
        "myModel.layers[0].get_config()"
      ],
      "metadata": {
        "colab": {
          "base_uri": "https://localhost:8080/"
        },
        "id": "UbgXQ2IH58Hn",
        "outputId": "7c9d98d5-d557-4ba4-95e2-809316a3eb64"
      },
      "execution_count": null,
      "outputs": [
        {
          "output_type": "execute_result",
          "data": {
            "text/plain": [
              "{'name': 'dense_9',\n",
              " 'trainable': True,\n",
              " 'dtype': 'float32',\n",
              " 'batch_input_shape': (None, 784),\n",
              " 'units': 500,\n",
              " 'activation': 'relu',\n",
              " 'use_bias': True,\n",
              " 'kernel_initializer': {'class_name': 'GlorotUniform',\n",
              "  'config': {'seed': None}},\n",
              " 'bias_initializer': {'class_name': 'Zeros', 'config': {}},\n",
              " 'kernel_regularizer': None,\n",
              " 'bias_regularizer': None,\n",
              " 'activity_regularizer': None,\n",
              " 'kernel_constraint': None,\n",
              " 'bias_constraint': None}"
            ]
          },
          "metadata": {},
          "execution_count": 141
        }
      ]
    }
  ]
}