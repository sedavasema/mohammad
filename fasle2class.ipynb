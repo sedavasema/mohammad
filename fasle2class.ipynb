{
  "nbformat": 4,
  "nbformat_minor": 0,
  "metadata": {
    "colab": {
      "provenance": [],
      "authorship_tag": "ABX9TyP6vM1hB5fdk/NjVM6ll5NF",
      "include_colab_link": true
    },
    "kernelspec": {
      "name": "python3",
      "display_name": "Python 3"
    },
    "language_info": {
      "name": "python"
    }
  },
  "cells": [
    {
      "cell_type": "markdown",
      "metadata": {
        "id": "view-in-github",
        "colab_type": "text"
      },
      "source": [
        "<a href=\"https://colab.research.google.com/github/sedavasema/mohammad/blob/main/fasle2class.ipynb\" target=\"_parent\"><img src=\"https://colab.research.google.com/assets/colab-badge.svg\" alt=\"Open In Colab\"/></a>"
      ]
    },
    {
      "cell_type": "code",
      "source": [
        "from keras.datasets import mnist\n",
        "(train_images,train_labels),(test_images,test_labels)=mnist.load_data()"
      ],
      "metadata": {
        "id": "Bv43y5BDsPEm",
        "colab": {
          "base_uri": "https://localhost:8080/"
        },
        "outputId": "eca9e546-8d6a-4015-d0e7-e3572b6b240f"
      },
      "execution_count": 13,
      "outputs": [
        {
          "output_type": "stream",
          "name": "stdout",
          "text": [
            "Downloading data from https://storage.googleapis.com/tensorflow/tf-keras-datasets/mnist.npz\n",
            "11490434/11490434 [==============================] - 0s 0us/step\n"
          ]
        }
      ]
    },
    {
      "cell_type": "code",
      "source": [
        "from numpy import float32\n",
        "train_images=train_images.reshape((60000,28*28))\n",
        "train_images=train_images.astype('float32')/255\n",
        "test_images=test_images.reshape((10000,28*28))\n",
        "test_images=test_images.astype(float32)/255"
      ],
      "metadata": {
        "id": "RaxxYBNZs7aH"
      },
      "execution_count": null,
      "outputs": []
    },
    {
      "cell_type": "code",
      "source": [
        "from keras.utils import to_categorical\n",
        "train_labels=to_categorical(train_labels,num_classes=10)\n",
        "test_labels=to_categorical(test_labels)"
      ],
      "metadata": {
        "id": "7LkBjypRvjM9"
      },
      "execution_count": null,
      "outputs": []
    },
    {
      "cell_type": "code",
      "source": [
        "from keras import models\n",
        "from keras import layers\n",
        "from keras.activations import softmax,relu\n",
        "model=models.Sequential()\n",
        "model.add(layers.Input(shape=(28*28,),name='input_layer'))\n",
        "model.add(layers.Dense(512,activation=relu,name='prelogics'))\n",
        "model.add(layers.Dense(10,activation=softmax,name='logics'))\n",
        "model.summary()"
      ],
      "metadata": {
        "colab": {
          "base_uri": "https://localhost:8080/"
        },
        "id": "0Ruzj-_swfOz",
        "outputId": "cb8cfcf1-5fcc-4e2b-d41f-9537dfa9e624"
      },
      "execution_count": null,
      "outputs": [
        {
          "output_type": "stream",
          "name": "stdout",
          "text": [
            "Model: \"sequential_10\"\n",
            "_________________________________________________________________\n",
            " Layer (type)                Output Shape              Param #   \n",
            "=================================================================\n",
            " prelogics (Dense)           (None, 512)               401920    \n",
            "                                                                 \n",
            " logics (Dense)              (None, 10)                5130      \n",
            "                                                                 \n",
            "=================================================================\n",
            "Total params: 407,050\n",
            "Trainable params: 407,050\n",
            "Non-trainable params: 0\n",
            "_________________________________________________________________\n"
          ]
        }
      ]
    },
    {
      "cell_type": "code",
      "source": [
        "from keras.losses import categorical_crossentropy\n",
        "#from keras.optimizers import rmsprop\n",
        "\n",
        "model.compile(optimizer='rmsprop',loss=categorical_crossentropy,metrics='accuracy')\n",
        "history=model.fit(train_images,train_labels,batch_size=128,epochs=5)"
      ],
      "metadata": {
        "colab": {
          "base_uri": "https://localhost:8080/"
        },
        "id": "O7Af_LFy2VOR",
        "outputId": "55c065b6-d8d2-45e5-c873-c1b8dead6f7a"
      },
      "execution_count": null,
      "outputs": [
        {
          "output_type": "stream",
          "name": "stdout",
          "text": [
            "Epoch 1/5\n",
            "469/469 [==============================] - 9s 18ms/step - loss: 0.0304 - accuracy: 0.9912\n",
            "Epoch 2/5\n",
            "469/469 [==============================] - 9s 18ms/step - loss: 0.0224 - accuracy: 0.9935\n",
            "Epoch 3/5\n",
            "469/469 [==============================] - 9s 19ms/step - loss: 0.0168 - accuracy: 0.9955\n",
            "Epoch 4/5\n",
            "469/469 [==============================] - 7s 15ms/step - loss: 0.0130 - accuracy: 0.9964\n",
            "Epoch 5/5\n",
            "469/469 [==============================] - 10s 21ms/step - loss: 0.0094 - accuracy: 0.9977\n"
          ]
        }
      ]
    },
    {
      "cell_type": "code",
      "source": [
        "history.history.keys()"
      ],
      "metadata": {
        "colab": {
          "base_uri": "https://localhost:8080/"
        },
        "id": "k0sohovI-6p9",
        "outputId": "f94c8481-1da5-41dd-e498-b9f1cfcdb560"
      },
      "execution_count": null,
      "outputs": [
        {
          "output_type": "execute_result",
          "data": {
            "text/plain": [
              "dict_keys(['loss', 'accuracy'])"
            ]
          },
          "metadata": {},
          "execution_count": 48
        }
      ]
    },
    {
      "cell_type": "code",
      "source": [
        "import matplotlib.pyplot as plt\n",
        "\n",
        "loss=history.history['loss']\n",
        "accuracy=history.history['accuracy']\n",
        "plt.plot(loss)\n",
        "plt.plot(accuracy)\n",
        "plt.show()"
      ],
      "metadata": {
        "colab": {
          "base_uri": "https://localhost:8080/",
          "height": 430
        },
        "id": "6NRxaMooAW9T",
        "outputId": "a6708bbd-80c0-44db-9d08-048c12b340e2"
      },
      "execution_count": null,
      "outputs": [
        {
          "output_type": "display_data",
          "data": {
            "text/plain": [
              "<Figure size 640x480 with 1 Axes>"
            ],
            "image/png": "[encoded data removed]"
          },
          "metadata": {}
        }
      ]
    },
    {
      "cell_type": "code",
      "source": [
        "eva_loss,eva_accuracy=model.evaluate(test_images,test_labels)"
      ],
      "metadata": {
        "colab": {
          "base_uri": "https://localhost:8080/"
        },
        "id": "wXj3Dh-FDEb4",
        "outputId": "96b30691-6339-4975-9f43-87c737d337a6"
      },
      "execution_count": null,
      "outputs": [
        {
          "output_type": "stream",
          "name": "stdout",
          "text": [
            "313/313 [==============================] - 3s 8ms/step - loss: 0.0634 - accuracy: 0.9818\n"
          ]
        },
        {
          "output_type": "execute_result",
          "data": {
            "text/plain": [
              "[0.06340469419956207, 0.9818000197410583]"
            ]
          },
          "metadata": {},
          "execution_count": 57
        }
      ]
    },
    {
      "cell_type": "code",
      "source": [
        "predict_labels=model.predict(test_images)"
      ],
      "metadata": {
        "colab": {
          "base_uri": "https://localhost:8080/"
        },
        "id": "bfYmGbFADkCW",
        "outputId": "e43ea75b-383b-470e-c858-ab1282e94f63"
      },
      "execution_count": null,
      "outputs": [
        {
          "output_type": "stream",
          "name": "stdout",
          "text": [
            "313/313 [==============================] - 2s 7ms/step\n"
          ]
        }
      ]
    },
    {
      "cell_type": "code",
      "source": [
        "import numpy as np"
      ],
      "metadata": {
        "id": "mdXNHyKTOgzv"
      },
      "execution_count": 1,
      "outputs": []
    },
    {
      "cell_type": "code",
      "source": [
        "x=np.array(12)\n",
        "print(x.ndim)\n",
        "print(np.ndim(x))\n",
        "\n",
        "print(x.dtype)\n",
        "#print(np.dtype(x))\n",
        "\n",
        "print(x.shape)\n",
        "print(np.shape(x))\n"
      ],
      "metadata": {
        "colab": {
          "base_uri": "https://localhost:8080/"
        },
        "id": "ABD-3BtNOqeO",
        "outputId": "0f54b9ae-edaf-4aea-8e47-c5471124d7ab"
      },
      "execution_count": 8,
      "outputs": [
        {
          "output_type": "stream",
          "name": "stdout",
          "text": [
            "0\n",
            "0\n",
            "int64\n",
            "()\n",
            "()\n"
          ]
        }
      ]
    },
    {
      "cell_type": "code",
      "source": [
        "x=np.array([1,2,3,4,5])\n",
        "print(x.ndim)\n",
        "print(np.ndim(x))\n",
        "\n",
        "print(x.dtype)\n",
        "#print(np.dtype(x))\n",
        "\n",
        "print(x.shape)\n",
        "print(np.shape(x))"
      ],
      "metadata": {
        "colab": {
          "base_uri": "https://localhost:8080/"
        },
        "id": "W87hkvoLQr7F",
        "outputId": "127e7f12-49ad-435e-e118-2cf22b08ba2d"
      },
      "execution_count": 9,
      "outputs": [
        {
          "output_type": "stream",
          "name": "stdout",
          "text": [
            "1\n",
            "1\n",
            "int64\n",
            "(5,)\n",
            "(5,)\n"
          ]
        }
      ]
    },
    {
      "cell_type": "code",
      "source": [
        "x=np.array([[1,2,3,4,5],\n",
        "            [2,3,4,5,6],\n",
        "            [3,4,5,6,7]],dtype='int8')\n",
        "print(x.ndim)\n",
        "print(np.ndim(x))\n",
        "\n",
        "print(x.dtype)\n",
        "#print(np.dtype(x))\n",
        "\n",
        "print(x.shape)\n",
        "print(np.shape(x))"
      ],
      "metadata": {
        "colab": {
          "base_uri": "https://localhost:8080/"
        },
        "id": "DF2swIC5RaTz",
        "outputId": "8bf2c238-c3b7-4968-f450-bdf2aa3b33b7"
      },
      "execution_count": 11,
      "outputs": [
        {
          "output_type": "stream",
          "name": "stdout",
          "text": [
            "2\n",
            "2\n",
            "int8\n",
            "(3, 5)\n",
            "(3, 5)\n"
          ]
        }
      ]
    },
    {
      "cell_type": "code",
      "source": [
        "x=np.array([[[1,2,3,4,5],\n",
        "             [2,3,4,5,6],\n",
        "             [2,3,4,5,6]],\n",
        "            [[2,3,4,5,6],\n",
        "             [3,4,5,6,7],\n",
        "             [4,5,6,7,8]]])\n",
        "print(x.ndim)\n",
        "print(np.ndim(x))\n",
        "\n",
        "print(x.dtype)\n",
        "#print(np.dtype(x))\n",
        "\n",
        "print(x.shape)\n",
        "print(np.shape(x))"
      ],
      "metadata": {
        "colab": {
          "base_uri": "https://localhost:8080/"
        },
        "id": "iBidSew2SIcI",
        "outputId": "7618a050-c43a-4372-96d5-42a2f595b3cb"
      },
      "execution_count": 12,
      "outputs": [
        {
          "output_type": "stream",
          "name": "stdout",
          "text": [
            "3\n",
            "3\n",
            "int64\n",
            "(2, 3, 5)\n",
            "(2, 3, 5)\n"
          ]
        }
      ]
    },
    {
      "cell_type": "markdown",
      "source": [
        "# access to data"
      ],
      "metadata": {
        "id": "uvPTRxVqUUaz"
      }
    },
    {
      "cell_type": "code",
      "source": [
        "x[0,1,2]\n",
        "#OR\n",
        "x[0][1][2]\n",
        "#All result is same"
      ],
      "metadata": {
        "colab": {
          "base_uri": "https://localhost:8080/"
        },
        "id": "MCHHfpNoUTWC",
        "outputId": "ee3b121e-838a-46b7-838c-9e0603938d11"
      },
      "execution_count": 16,
      "outputs": [
        {
          "output_type": "execute_result",
          "data": {
            "text/plain": [
              "4"
            ]
          },
          "metadata": {},
          "execution_count": 16
        }
      ]
    },
    {
      "cell_type": "code",
      "source": [
        "print(train_images.ndim)\n",
        "print(train_images.dtype)\n",
        "print(train_images.shape)"
      ],
      "metadata": {
        "colab": {
          "base_uri": "https://localhost:8080/"
        },
        "id": "SFzqqUt2U3Co",
        "outputId": "3199e84c-0204-43e4-bbec-5cc09f287896"
      },
      "execution_count": 18,
      "outputs": [
        {
          "output_type": "stream",
          "name": "stdout",
          "text": [
            "3\n",
            "uint8\n",
            "(60000, 28, 28)\n"
          ]
        }
      ]
    },
    {
      "cell_type": "code",
      "source": [
        "train_images[200,10]"
      ],
      "metadata": {
        "colab": {
          "base_uri": "https://localhost:8080/"
        },
        "id": "dmPpmiBPVtOz",
        "outputId": "66554d58-3557-4758-9ffb-984618d559bf"
      },
      "execution_count": 19,
      "outputs": [
        {
          "output_type": "execute_result",
          "data": {
            "text/plain": [
              "array([  0,   0,   0,   0,   0,   0,   0,   0,   0,   0,   0,  86, 253,\n",
              "       254, 253, 169,   0,   0,   0,   0,   0,   0,   0,   0,   0,   0,\n",
              "         0,   0], dtype=uint8)"
            ]
          },
          "metadata": {},
          "execution_count": 19
        }
      ]
    },
    {
      "cell_type": "code",
      "source": [
        "#tensor slicing\n",
        "my_slice=train_images[10:100]\n",
        "print(my_slice.shape)\n",
        "my_slice2=train_images[:,7:-7,7:-7]\n",
        "print(my_slice2.shape)"
      ],
      "metadata": {
        "colab": {
          "base_uri": "https://localhost:8080/"
        },
        "id": "rKJLYD4YWabm",
        "outputId": "e03133e5-f9f6-4aab-9a3d-f847edc33691"
      },
      "execution_count": 22,
      "outputs": [
        {
          "output_type": "stream",
          "name": "stdout",
          "text": [
            "(90, 28, 28)\n",
            "(60000, 14, 14)\n"
          ]
        }
      ]
    },
    {
      "cell_type": "code",
      "source": [
        "import matplotlib.pyplot as plt\n",
        "plt.imshow(my_slice2[7])"
      ],
      "metadata": {
        "colab": {
          "base_uri": "https://localhost:8080/",
          "height": 447
        },
        "id": "I7VWSxxGXvzN",
        "outputId": "6bab06b1-14ee-4cb5-a623-79bc0c560499"
      },
      "execution_count": 24,
      "outputs": [
        {
          "output_type": "execute_result",
          "data": {
            "text/plain": [
              "<matplotlib.image.AxesImage at 0x7efb80bd7460>"
            ]
          },
          "metadata": {},
          "execution_count": 24
        },
        {
          "output_type": "display_data",
          "data": {
            "text/plain": [
              "<Figure size 640x480 with 1 Axes>"
            ],
            "image/png": "[encoded data removed]"
          },
          "metadata": {}
        }
      ]
    },
    {
      "cell_type": "code",
      "source": [
        "#data batches\n",
        "batch=train_images[:128]\n",
        "batch=train_images[128:256]"
      ],
      "metadata": {
        "colab": {
          "base_uri": "https://localhost:8080/",
          "height": 36
        },
        "id": "gFL1r-BrdwK4",
        "outputId": "a37e7d48-8a15-411c-b9fc-61b92e602213"
      },
      "execution_count": 39,
      "outputs": [
        {
          "output_type": "execute_result",
          "data": {
            "text/plain": [
              "'batch1'"
            ],
            "application/vnd.google.colaboratory.intrinsic+json": {
              "type": "string"
            }
          },
          "metadata": {},
          "execution_count": 39
        }
      ]
    },
    {
      "cell_type": "code",
      "source": [
        "\n",
        "from keras.utils.tf_utils import convert_variables_to_tensors\n",
        "batch_size=128\n",
        "for n in range(round(len(train_images)/batch_size)):\n",
        "  exec(f'batch_{n}=train_images[128*n:128*(n+1)]')"
      ],
      "metadata": {
        "id": "eFYb5YWbYS42"
      },
      "execution_count": 44,
      "outputs": []
    },
    {
      "cell_type": "markdown",
      "source": [
        "# ❑ Vector data—2D tensors of shape\n",
        " (samples, features)\n",
        "# ❑ Timeseries data or sequence data—3D tensors of shape \n",
        " (samples,timesteps, features)\n",
        "# ❑ Images—4D tensors of shape\n",
        " (samples, height, width,channels) or\n",
        " (samples, channels, height, width)\n",
        "# ❑ Video—5D tensors of shape\n",
        " (samples, frames, height, width,channels) or\n",
        " (samples, frames, channels, height, width)"
      ],
      "metadata": {
        "id": "SU4Qp9WpnQET"
      }
    },
    {
      "cell_type": "code",
      "source": [
        "a=np.array([1,2,4])\n"
      ],
      "metadata": {
        "id": "vzAu1XzanKz1"
      },
      "execution_count": null,
      "outputs": []
    }
  ]
}