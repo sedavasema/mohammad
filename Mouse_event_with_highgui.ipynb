{
  "nbformat": 4,
  "nbformat_minor": 0,
  "metadata": {
    "colab": {
      "provenance": [],
      "authorship_tag": "ABX9TyMCzQwJ/dytLiyo6ZVlzfeU",
      "include_colab_link": true
    },
    "kernelspec": {
      "name": "python3",
      "display_name": "Python 3"
    },
    "language_info": {
      "name": "python"
    }
  },
  "cells": [
    {
      "cell_type": "markdown",
      "metadata": {
        "id": "view-in-github",
        "colab_type": "text"
      },
      "source": [
        "<a href=\"https://colab.research.google.com/github/sedavasema/mohammad/blob/main/Mouse_event_with_highgui.ipynb\" target=\"_parent\"><img src=\"https://colab.research.google.com/assets/colab-badge.svg\" alt=\"Open In Colab\"/></a>"
      ]
    },
    {
      "cell_type": "code",
      "execution_count": 8,
      "metadata": {
        "colab": {
          "base_uri": "https://localhost:8080/"
        },
        "id": "BQ7QOOZj2KIq",
        "outputId": "945bac35-6db8-4c8e-e4b0-9a95236aad49"
      },
      "outputs": [
        {
          "output_type": "execute_result",
          "data": {
            "text/plain": [
              "[1, 2, 3, 4, 5, 6, 7, 8, 9, 10, 11, 12, 13, 14, 15, 16, 17, 18, 19]"
            ]
          },
          "metadata": {},
          "execution_count": 8
        }
      ],
      "source": [
        "test=[i for i in range (1,20) if i//i==1]\n",
        "test"
      ]
    },
    {
      "cell_type": "markdown",
      "source": [
        "# <div style=\"direction:rtl;text-align:right;font-family:B Lotus, B Nazanin, Tahoma\">رویدادهای ماوس در OpenCV</div>"
      ],
      "metadata": {
        "id": "pIPUXRFU5Ndc"
      }
    },
    {
      "cell_type": "markdown",
      "source": [
        "<div style=\"direction:rtl;text-align:right;font-family:Tahoma\">\n",
        "در ابتدا تمام event یا رویدادهای موجود را چاپ میکنیم:</div>"
      ],
      "metadata": {
        "id": "-Tkw6GWv5Q1e"
      }
    },
    {
      "cell_type": "code",
      "source": [
        "import cv2\n",
        "event=[i for i in dir(cv2) if 'EVENT' in i]\n",
        "print(event)"
      ],
      "metadata": {
        "colab": {
          "base_uri": "https://localhost:8080/"
        },
        "id": "w96ZBVaK5TT0",
        "outputId": "45e9dd59-5be8-4eb1-bdde-292eee23cc7d"
      },
      "execution_count": 11,
      "outputs": [
        {
          "output_type": "stream",
          "name": "stdout",
          "text": [
            "['EVENT_FLAG_ALTKEY', 'EVENT_FLAG_CTRLKEY', 'EVENT_FLAG_LBUTTON', 'EVENT_FLAG_MBUTTON', 'EVENT_FLAG_RBUTTON', 'EVENT_FLAG_SHIFTKEY', 'EVENT_LBUTTONDBLCLK', 'EVENT_LBUTTONDOWN', 'EVENT_LBUTTONUP', 'EVENT_MBUTTONDBLCLK', 'EVENT_MBUTTONDOWN', 'EVENT_MBUTTONUP', 'EVENT_MOUSEHWHEEL', 'EVENT_MOUSEMOVE', 'EVENT_MOUSEWHEEL', 'EVENT_RBUTTONDBLCLK', 'EVENT_RBUTTONDOWN', 'EVENT_RBUTTONUP']\n"
          ]
        }
      ]
    },
    {
      "cell_type": "code",
      "source": [
        "import numpy as np\n",
        "import cv2\n",
        "\n",
        "# mouse callback function\n",
        "def draw_circle(event,x,y,flags,param):\n",
        "    if event == cv2.EVENT_LBUTTONDOWN:\n",
        "        cv2.circle(img,(x,y),20,(150,0,200),-1)\n",
        "\n",
        "# Create a black image, a window and bind the function to window\n",
        "img = np.zeros((512,512,3), np.uint8)\n",
        "\n",
        "cv2.namedWindow('image')\n",
        "cv2.setMouseCallback('image',draw_circle)\n",
        "\n",
        "while(1):\n",
        "    cv2.imshow('image',img)\n",
        "    if cv2.waitKey(1) & 0xFF == 27:\n",
        "        break\n",
        "cv2.destroyAllWindows()\n",
        "\n"
      ],
      "metadata": {
        "id": "IKxAXM6q7qwU"
      },
      "execution_count": null,
      "outputs": []
    }
  ]
}