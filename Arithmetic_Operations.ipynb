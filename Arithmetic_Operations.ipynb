{
  "nbformat": 4,
  "nbformat_minor": 0,
  "metadata": {
    "colab": {
      "provenance": [],
      "authorship_tag": "ABX9TyMEPhQTWgpbw+DMSyQ8/3gt",
      "include_colab_link": true
    },
    "kernelspec": {
      "name": "python3",
      "display_name": "Python 3"
    },
    "language_info": {
      "name": "python"
    }
  },
  "cells": [
    {
      "cell_type": "markdown",
      "metadata": {
        "id": "view-in-github",
        "colab_type": "text"
      },
      "source": [
        "<a href=\"https://colab.research.google.com/github/sedavasema/mohammad/blob/main/Arithmetic_Operations.ipynb\" target=\"_parent\"><img src=\"https://colab.research.google.com/assets/colab-badge.svg\" alt=\"Open In Colab\"/></a>"
      ]
    },
    {
      "cell_type": "markdown",
      "source": [
        "# <div style=\"direction:rtl;text-align:right;font-family:B Lotus, B Nazanin, Tahoma\"> عملیات ریاضی (Arithmetic Operations) </div>\n",
        "\n",
        "<div style=\"direction:rtl;text-align:right;font-family:Tahoma\">\n",
        "    عملیات ساده‌ای است که به ما این امکان را می‌دهد که به طور مستقیم شدت رنگ را اضافه یا کم کنیم.\n",
        "    <br>\n",
        "    عملیات بر روی خانه های نظیر به نظیر دو آرایه با ابعاد یکسان انجام شده و نتیجه نهایی کاهش یا افزایش روشنایی تصویر خواهد بود.\n",
        "</div>"
      ],
      "metadata": {
        "id": "xCFWDkEUyCqh"
      }
    },
    {
      "cell_type": "markdown",
      "source": [
        "## <div style=\"direction:rtl;text-align:right;font-family:B Lotus, B Nazanin, Tahoma\"> یادآوری</div>\n",
        "<div style=\"direction:rtl;text-align:right;font-family:Tahoma\">\n",
        "با توجه به اینکه برای تصاویر در OpenCV ار نوع داده‌ای uint8 یعنی عدد صحیح بدون علامت 8 بیتی استفاده میکنیم\n",
        "    <br>\n",
        "و یا توجه به 8 بیتی بودن، این نوع 2 به توان 8 یا 256 عدد مختلف را در خود می‌تواند جای دهد مقادیر خارج از 0 تا 255 امکان پذیر نبود و در صورتی که عددی بزرگتر قرار میدادیم متغیر سر ریز می‌شد...\n",
        "</div>"
      ],
      "metadata": {
        "id": "BEpFC-V_yeha"
      }
    },
    {
      "cell_type": "code",
      "execution_count": null,
      "metadata": {
        "id": "26XM-dEVyBxJ"
      },
      "outputs": [],
      "source": [
        "!wget https://raw.githubusercontent.com/sedavasema/one-shot-learning/main/mydataset/input.jpg"
      ]
    }
  ]
}