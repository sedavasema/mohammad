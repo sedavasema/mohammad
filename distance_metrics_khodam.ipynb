{
  "nbformat": 4,
  "nbformat_minor": 0,
  "metadata": {
    "colab": {
      "provenance": [],
      "gpuType": "T4",
      "authorship_tag": "ABX9TyM81xFgeoH/n34hNzaXq5bM",
      "include_colab_link": true
    },
    "kernelspec": {
      "name": "python3",
      "display_name": "Python 3"
    },
    "language_info": {
      "name": "python"
    },
    "accelerator": "GPU"
  },
  "cells": [
    {
      "cell_type": "markdown",
      "metadata": {
        "id": "view-in-github",
        "colab_type": "text"
      },
      "source": [
        "<a href=\"https://colab.research.google.com/github/sedavasema/mohammad/blob/main/distance_metrics_khodam.ipynb\" target=\"_parent\"><img src=\"https://colab.research.google.com/assets/colab-badge.svg\" alt=\"Open In Colab\"/></a>"
      ]
    },
    {
      "cell_type": "code",
      "execution_count": 1,
      "metadata": {
        "id": "gvt_L7x8fQmg"
      },
      "outputs": [],
      "source": [
        "import pandas as pd"
      ]
    },
    {
      "cell_type": "code",
      "source": [
        "df=pd.DataFrame({ \"saeed\":  {\"m1\": 4, \"m2\": 2,\"m3\": 5},\n",
        "                  \"abbas\":  {\"m1\": 5, \"m2\": 4,\"m3\": 7},\n",
        "                  \"alireza\":{\"m1\": 3, \"m2\": 1,\"m3\": 4}\n",
        "                })"
      ],
      "metadata": {
        "id": "IHVeb8fefxVK"
      },
      "execution_count": 2,
      "outputs": []
    },
    {
      "cell_type": "code",
      "source": [],
      "metadata": {
        "id": "rSpGlqtvvMXU"
      },
      "execution_count": null,
      "outputs": []
    },
    {
      "cell_type": "code",
      "source": [
        "df=pd.DataFrame({ \"saeed\": { \"m1\": 4, \"m2\": 2,\"m3\": 5,\"m4\": \"-\",\"m5\": 2,\"m6\": 3,\"m7\": 4,\"m8\": 5,\"m9\": \"-\",\"m10\": \"-\"},\n",
        "                  \"abbas\": { \"m1\": 3, \"m2\": \"-\", \"m3\": 4,\"m4\": 2,\"m5\": \"-\",\"m6\": \"-\",\"m7\": \"-\",\"m8\": \"-\",\"m9\": \"-\",\"m10\": \"-\"},\n",
        "                  \"alireza\": {\"m1\": 3,\"m2\": \"-\",\"m3\": 4,\"m4\": 5,\"m5\": 2,\"m6\": 3,\"m7\": 4,\"m8\": 5,\"m9\": 5,\"m10\": 5 }\n",
        "                })"
      ],
      "metadata": {
        "id": "oy_DmonivMxj"
      },
      "execution_count": null,
      "outputs": []
    },
    {
      "cell_type": "code",
      "source": [
        "df"
      ],
      "metadata": {
        "colab": {
          "base_uri": "https://localhost:8080/",
          "height": 143
        },
        "id": "BbHzaOLuf4iy",
        "outputId": "279df8be-4b88-4c42-a0cd-8c4fa6512242"
      },
      "execution_count": 3,
      "outputs": [
        {
          "output_type": "execute_result",
          "data": {
            "text/plain": [
              "    saeed  abbas  alireza\n",
              "m1      4      5        3\n",
              "m2      2      4        1\n",
              "m3      5      7        4"
            ],
            "text/html": [
              "\n",
              "  <div id=\"df-2b09b1e8-e67b-40bd-9dce-66a6fc58cf0f\">\n",
              "    <div class=\"colab-df-container\">\n",
              "      <div>\n",
              "<style scoped>\n",
              "    .dataframe tbody tr th:only-of-type {\n",
              "        vertical-align: middle;\n",
              "    }\n",
              "\n",
              "    .dataframe tbody tr th {\n",
              "        vertical-align: top;\n",
              "    }\n",
              "\n",
              "    .dataframe thead th {\n",
              "        text-align: right;\n",
              "    }\n",
              "</style>\n",
              "<table border=\"1\" class=\"dataframe\">\n",
              "  <thead>\n",
              "    <tr style=\"text-align: right;\">\n",
              "      <th></th>\n",
              "      <th>saeed</th>\n",
              "      <th>abbas</th>\n",
              "      <th>alireza</th>\n",
              "    </tr>\n",
              "  </thead>\n",
              "  <tbody>\n",
              "    <tr>\n",
              "      <th>m1</th>\n",
              "      <td>4</td>\n",
              "      <td>5</td>\n",
              "      <td>3</td>\n",
              "    </tr>\n",
              "    <tr>\n",
              "      <th>m2</th>\n",
              "      <td>2</td>\n",
              "      <td>4</td>\n",
              "      <td>1</td>\n",
              "    </tr>\n",
              "    <tr>\n",
              "      <th>m3</th>\n",
              "      <td>5</td>\n",
              "      <td>7</td>\n",
              "      <td>4</td>\n",
              "    </tr>\n",
              "  </tbody>\n",
              "</table>\n",
              "</div>\n",
              "      <button class=\"colab-df-convert\" onclick=\"convertToInteractive('df-2b09b1e8-e67b-40bd-9dce-66a6fc58cf0f')\"\n",
              "              title=\"Convert this dataframe to an interactive table.\"\n",
              "              style=\"display:none;\">\n",
              "        \n",
              "  <svg xmlns=\"http://www.w3.org/2000/svg\" height=\"24px\"viewBox=\"0 0 24 24\"\n",
              "       width=\"24px\">\n",
              "    <path d=\"M0 0h24v24H0V0z\" fill=\"none\"/>\n",
              "    <path d=\"M18.56 5.44l.94 2.06.94-2.06 2.06-.94-2.06-.94-.94-2.06-.94 2.06-2.06.94zm-11 1L8.5 8.5l.94-2.06 2.06-.94-2.06-.94L8.5 2.5l-.94 2.06-2.06.94zm10 10l.94 2.06.94-2.06 2.06-.94-2.06-.94-.94-2.06-.94 2.06-2.06.94z\"/><path d=\"M17.41 7.96l-1.37-1.37c-.4-.4-.92-.59-1.43-.59-.52 0-1.04.2-1.43.59L10.3 9.45l-7.72 7.72c-.78.78-.78 2.05 0 2.83L4 21.41c.39.39.9.59 1.41.59.51 0 1.02-.2 1.41-.59l7.78-7.78 2.81-2.81c.8-.78.8-2.07 0-2.86zM5.41 20L4 18.59l7.72-7.72 1.47 1.35L5.41 20z\"/>\n",
              "  </svg>\n",
              "      </button>\n",
              "      \n",
              "  <style>\n",
              "    .colab-df-container {\n",
              "      display:flex;\n",
              "      flex-wrap:wrap;\n",
              "      gap: 12px;\n",
              "    }\n",
              "\n",
              "    .colab-df-convert {\n",
              "      background-color: #E8F0FE;\n",
              "      border: none;\n",
              "      border-radius: 50%;\n",
              "      cursor: pointer;\n",
              "      display: none;\n",
              "      fill: #1967D2;\n",
              "      height: 32px;\n",
              "      padding: 0 0 0 0;\n",
              "      width: 32px;\n",
              "    }\n",
              "\n",
              "    .colab-df-convert:hover {\n",
              "      background-color: #E2EBFA;\n",
              "      box-shadow: 0px 1px 2px rgba(60, 64, 67, 0.3), 0px 1px 3px 1px rgba(60, 64, 67, 0.15);\n",
              "      fill: #174EA6;\n",
              "    }\n",
              "\n",
              "    [theme=dark] .colab-df-convert {\n",
              "      background-color: #3B4455;\n",
              "      fill: #D2E3FC;\n",
              "    }\n",
              "\n",
              "    [theme=dark] .colab-df-convert:hover {\n",
              "      background-color: #434B5C;\n",
              "      box-shadow: 0px 1px 3px 1px rgba(0, 0, 0, 0.15);\n",
              "      filter: drop-shadow(0px 1px 2px rgba(0, 0, 0, 0.3));\n",
              "      fill: #FFFFFF;\n",
              "    }\n",
              "  </style>\n",
              "\n",
              "      <script>\n",
              "        const buttonEl =\n",
              "          document.querySelector('#df-2b09b1e8-e67b-40bd-9dce-66a6fc58cf0f button.colab-df-convert');\n",
              "        buttonEl.style.display =\n",
              "          google.colab.kernel.accessAllowed ? 'block' : 'none';\n",
              "\n",
              "        async function convertToInteractive(key) {\n",
              "          const element = document.querySelector('#df-2b09b1e8-e67b-40bd-9dce-66a6fc58cf0f');\n",
              "          const dataTable =\n",
              "            await google.colab.kernel.invokeFunction('convertToInteractive',\n",
              "                                                     [key], {});\n",
              "          if (!dataTable) return;\n",
              "\n",
              "          const docLinkHtml = 'Like what you see? Visit the ' +\n",
              "            '<a target=\"_blank\" href=https://colab.research.google.com/notebooks/data_table.ipynb>data table notebook</a>'\n",
              "            + ' to learn more about interactive tables.';\n",
              "          element.innerHTML = '';\n",
              "          dataTable['output_type'] = 'display_data';\n",
              "          await google.colab.output.renderOutput(dataTable, element);\n",
              "          const docLink = document.createElement('div');\n",
              "          docLink.innerHTML = docLinkHtml;\n",
              "          element.appendChild(docLink);\n",
              "        }\n",
              "      </script>\n",
              "    </div>\n",
              "  </div>\n",
              "  "
            ]
          },
          "metadata": {},
          "execution_count": 3
        }
      ]
    },
    {
      "cell_type": "code",
      "source": [
        "df_dict=df.to_dict()"
      ],
      "metadata": {
        "id": "Mvme96tAgCvL"
      },
      "execution_count": 4,
      "outputs": []
    },
    {
      "cell_type": "code",
      "source": [
        "df_dict.keys()"
      ],
      "metadata": {
        "colab": {
          "base_uri": "https://localhost:8080/"
        },
        "id": "-qNC4VjtgQ0t",
        "outputId": "b677dfb1-9e6e-43a4-9f59-ca3e4b626f3e"
      },
      "execution_count": 37,
      "outputs": [
        {
          "output_type": "execute_result",
          "data": {
            "text/plain": [
              "dict_keys(['saeed', 'abbas', 'alireza'])"
            ]
          },
          "metadata": {},
          "execution_count": 37
        }
      ]
    },
    {
      "cell_type": "code",
      "source": [
        "df_dict['saeed'].items()"
      ],
      "metadata": {
        "colab": {
          "base_uri": "https://localhost:8080/"
        },
        "id": "yMh-LtCogd5d",
        "outputId": "bacab3e1-6367-48a9-977f-a737d1dc5777"
      },
      "execution_count": 38,
      "outputs": [
        {
          "output_type": "execute_result",
          "data": {
            "text/plain": [
              "dict_items([('m1', 4), ('m2', 2), ('m3', 5)])"
            ]
          },
          "metadata": {},
          "execution_count": 38
        }
      ]
    },
    {
      "cell_type": "code",
      "source": [
        "rating1 = dict(filter(lambda x: x[1] != '-', df_dict['saeed'].items()))\n",
        "\n",
        "rating2 = dict(filter(lambda x: x[1] != '-', df_dict['alireza'].items()))"
      ],
      "metadata": {
        "id": "9HeSGMxJrYCS"
      },
      "execution_count": 8,
      "outputs": []
    },
    {
      "cell_type": "code",
      "execution_count": 31,
      "metadata": {
        "id": "jaPTMldB95x1",
        "outputId": "5af1a6fc-4da5-422b-8161-2bfbd76aba80",
        "colab": {
          "base_uri": "https://localhost:8080/"
        }
      },
      "outputs": [
        {
          "output_type": "stream",
          "name": "stdout",
          "text": [
            "saeed-alireza:1.732051\n",
            "saeed-abbas:3.000000\n"
          ]
        }
      ],
      "source": [
        "def get_euclidean_distance(rating1,rating2):\n",
        "    \n",
        "    \n",
        "    rating1 = dict(filter(lambda x: x[1] != '-', rating1.items()))\n",
        "    rating2 = dict(filter(lambda x: x[1] != '-', rating2.items()))\n",
        "    \n",
        "    distance = 0\n",
        "    for key in rating1:\n",
        "        if key in rating2:\n",
        "            distance += pow(abs(rating1[key]-rating2[key]), 2)\n",
        "    return pow(distance, 1/2)\n",
        "\n",
        "dt=df_dict\n",
        "\n",
        "print('saeed-alireza:%f'%get_euclidean_distance(dt['saeed'],dt['alireza']))\n",
        "print('saeed-abbas:%f'%+get_euclidean_distance(dt['saeed'],dt['abbas']))"
      ]
    },
    {
      "cell_type": "code",
      "source": [
        "def get_Minkowski_distance(rating1,rating2):\n",
        "    \n",
        "    \n",
        "    rating1 = dict(filter(lambda x: x[1] != '-', rating1.items()))\n",
        "    rating2 = dict(filter(lambda x: x[1] != '-', rating2.items()))\n",
        "    i=0\n",
        "    distance =[0,0,0,0,0,0,0,0,0,0]\n",
        "    for key in rating1:\n",
        "        if key in rating2:\n",
        "            distance[i] = abs(rating1[key]-rating2[key])\n",
        "            i+=1\n",
        "    return max(distance)\n",
        "\n",
        "dt=df_dict\n",
        "\n",
        "print('saeed-alireza:%f'%get_Minkowski_distance(dt['saeed'],dt['alireza']))\n",
        "print('saeed-abbas:%f'%get_Minkowski_distance(dt['saeed'],dt['abbas']))"
      ],
      "metadata": {
        "colab": {
          "base_uri": "https://localhost:8080/"
        },
        "id": "McQ27tZkuDgZ",
        "outputId": "58c8cddd-1ecb-47f7-fdd7-a6992fb1c17a"
      },
      "execution_count": 9,
      "outputs": [
        {
          "output_type": "stream",
          "name": "stdout",
          "text": [
            "saeed-alireza:1.000000\n",
            "saeed-abbas:2.000000\n"
          ]
        }
      ]
    }
  ]
}