{
  "nbformat": 4,
  "nbformat_minor": 0,
  "metadata": {
    "colab": {
      "provenance": [],
      "gpuType": "T4",
      "authorship_tag": "ABX9TyMnnpOV7Xu1/c+MAt3geYSo",
      "include_colab_link": true
    },
    "kernelspec": {
      "name": "python3",
      "display_name": "Python 3"
    },
    "language_info": {
      "name": "python"
    },
    "accelerator": "GPU"
  },
  "cells": [
    {
      "cell_type": "markdown",
      "metadata": {
        "id": "view-in-github",
        "colab_type": "text"
      },
      "source": [
        "<a href=\"https://colab.research.google.com/github/sedavasema/mohammad/blob/main/fasle3class.ipynb\" target=\"_parent\"><img src=\"https://colab.research.google.com/assets/colab-badge.svg\" alt=\"Open In Colab\"/></a>"
      ]
    },
    {
      "cell_type": "markdown",
      "source": [
        "# The IMDB dataset"
      ],
      "metadata": {
        "id": "aQK-wlrtMKU5"
      }
    },
    {
      "cell_type": "code",
      "execution_count": null,
      "metadata": {
        "id": "gbKFJD3UL_mO"
      },
      "outputs": [],
      "source": [
        "from keras.datasets import imdb"
      ]
    },
    {
      "cell_type": "code",
      "source": [
        "(train_data, train_labels), (test_data, test_labels) = imdb.load_data(num_words=10000)"
      ],
      "metadata": {
        "id": "Ahx2RwgYMxFY"
      },
      "execution_count": null,
      "outputs": []
    },
    {
      "cell_type": "code",
      "source": [
        "train_data.shape"
      ],
      "metadata": {
        "colab": {
          "base_uri": "https://localhost:8080/"
        },
        "id": "VBWlZa2zNsdV",
        "outputId": "aa769540-e4fd-42a5-fa70-99bc563630c8"
      },
      "execution_count": null,
      "outputs": [
        {
          "output_type": "execute_result",
          "data": {
            "text/plain": [
              "(25000,)"
            ]
          },
          "metadata": {},
          "execution_count": 3
        }
      ]
    },
    {
      "cell_type": "code",
      "source": [
        "list0=train_data[0]\n",
        "list1=train_data[1]\n",
        "lable0=train_labels[0]\n",
        "#for i in range(len(list0)):\n",
        "  #print(list0[i])"
      ],
      "metadata": {
        "id": "93RndC4WOlza"
      },
      "execution_count": null,
      "outputs": []
    },
    {
      "cell_type": "code",
      "source": [
        "#for sequence in train_data:\n",
        "#  print(max(sequence))\n",
        "max([max(sequence)for sequence in train_data])  "
      ],
      "metadata": {
        "colab": {
          "base_uri": "https://localhost:8080/"
        },
        "id": "Qj0bcerLQom9",
        "outputId": "3cb9aefa-03ae-4c85-909a-77c35445cdba"
      },
      "execution_count": null,
      "outputs": [
        {
          "output_type": "execute_result",
          "data": {
            "text/plain": [
              "9999"
            ]
          },
          "metadata": {},
          "execution_count": 5
        }
      ]
    },
    {
      "cell_type": "code",
      "source": [
        "word_index = imdb.get_word_index()"
      ],
      "metadata": {
        "id": "eWw9XWWx3OPw"
      },
      "execution_count": null,
      "outputs": []
    },
    {
      "cell_type": "code",
      "source": [
        "word_index.items()"
      ],
      "metadata": {
        "id": "2NN_dZvYb5VV"
      },
      "execution_count": 6,
      "outputs": []
    },
    {
      "cell_type": "markdown",
      "source": [
        "جای عدد و کلمه را برعکس کردیم تا بتوان از روی عدد کلمه را پیدا کرد"
      ],
      "metadata": {
        "id": "zWdN82V25mUQ"
      }
    },
    {
      "cell_type": "code",
      "source": [
        "reverse_word_index = dict([(value, key) for (key, value) in word_index.items()])\n",
        "decoded_review = ' '.join([reverse_word_index.get(i - 3, '?') for i in train_data[1]])"
      ],
      "metadata": {
        "id": "UIbXhHl3Vxm7"
      },
      "execution_count": null,
      "outputs": []
    },
    {
      "cell_type": "code",
      "source": [
        "reverse_word_index.get(1,'?')"
      ],
      "metadata": {
        "colab": {
          "base_uri": "https://localhost:8080/",
          "height": 36
        },
        "id": "vs8b8HmyXcWu",
        "outputId": "d46fda81-ca8b-47a3-c88e-c86bc6ce4846"
      },
      "execution_count": null,
      "outputs": [
        {
          "output_type": "execute_result",
          "data": {
            "text/plain": [
              "'the'"
            ],
            "application/vnd.google.colaboratory.intrinsic+json": {
              "type": "string"
            }
          },
          "metadata": {},
          "execution_count": 16
        }
      ]
    },
    {
      "cell_type": "markdown",
      "source": [
        "ما 10000 تا کلمه در متن داریم اگر در آن ده هزارتا جای خالی بود به جای آن یک و در غیر اینصورت به جای آن صفر میگذاریم"
      ],
      "metadata": {
        "id": "Vcxcpqq353L3"
      }
    },
    {
      "cell_type": "code",
      "source": [
        "import numpy as np\n",
        "def vectorize_sequences(sequences, dimension=10000):\n",
        " results = np.zeros((len(sequences), dimension))\n",
        " for i, sequence in enumerate(sequences):\n",
        "  results[i, sequence] = 1.\n",
        " return results\n",
        "x_train = vectorize_sequences(train_data)\n",
        "x_test = vectorize_sequences(test_data)"
      ],
      "metadata": {
        "id": "Gb1sqvhZegGs"
      },
      "execution_count": null,
      "outputs": []
    },
    {
      "cell_type": "markdown",
      "source": [
        "تست راه کار عجیب بالا::"
      ],
      "metadata": {
        "id": "XfqpUl_F6jT_"
      }
    },
    {
      "cell_type": "code",
      "source": [
        "results = np.zeros((1, 20))\n",
        "results[0,[1,6,2,3,7,10]]=1.\n",
        "for i in range(15):\n",
        "  print(results[0][i])"
      ],
      "metadata": {
        "colab": {
          "base_uri": "https://localhost:8080/"
        },
        "id": "VjwyS84Ox9w2",
        "outputId": "c4cb8113-e11a-4d7a-dcd1-33c0270ed29e"
      },
      "execution_count": null,
      "outputs": [
        {
          "output_type": "stream",
          "name": "stdout",
          "text": [
            "0.0\n",
            "1.0\n",
            "1.0\n",
            "1.0\n",
            "0.0\n",
            "0.0\n",
            "1.0\n",
            "1.0\n",
            "0.0\n",
            "0.0\n",
            "1.0\n",
            "0.0\n",
            "0.0\n",
            "0.0\n",
            "0.0\n"
          ]
        }
      ]
    },
    {
      "cell_type": "code",
      "source": [
        "a=[\"Mohammad\",\"Ali\",\"Hasan\",\"Hossein\"]\n",
        "for i,j in enumerate(a):\n",
        "    print(i,j)"
      ],
      "metadata": {
        "colab": {
          "base_uri": "https://localhost:8080/"
        },
        "id": "fadY-MO8iNEZ",
        "outputId": "753dcf9c-7f58-4d3f-9678-b30f4a0834cd"
      },
      "execution_count": null,
      "outputs": [
        {
          "output_type": "stream",
          "name": "stdout",
          "text": [
            "0 Mohammad\n",
            "1 Ali\n",
            "2 Hasan\n",
            "3 Hossein\n"
          ]
        }
      ]
    },
    {
      "cell_type": "code",
      "source": [
        "y_train = np.asarray(train_labels).astype('float32')\n",
        "y_test = np.asarray(test_labels).astype('float32')"
      ],
      "metadata": {
        "id": "x837r_DYznlP"
      },
      "execution_count": null,
      "outputs": []
    },
    {
      "cell_type": "code",
      "source": [
        "from keras import models\n",
        "from keras import layers\n",
        "model = models.Sequential()\n",
        "model.add(layers.Dense(16, activation='relu', input_shape=(10000,)))\n",
        "model.add(layers.Dense(16, activation='relu'))\n",
        "model.add(layers.Dense(1, activation='sigmoid'))\n"
      ],
      "metadata": {
        "id": "euXDkLxy8NDI"
      },
      "execution_count": null,
      "outputs": []
    },
    {
      "cell_type": "code",
      "source": [
        "model.compile(optimizer='rmsprop',loss='binary_crossentropy',metrics=['accuracy'])"
      ],
      "metadata": {
        "id": "Tq3mFm83Cfaw"
      },
      "execution_count": null,
      "outputs": []
    },
    {
      "cell_type": "markdown",
      "source": [
        "یا میتوان تابع اپتیمایزر را اینگونه صدا کرد"
      ],
      "metadata": {
        "id": "_2MTn_RxDNDV"
      }
    },
    {
      "cell_type": "code",
      "source": [
        "from keras import optimizers\n",
        "model.compile(optimizer=optimizers.RMSprop(learning_rate=0.001),loss='binary_crossentropy',metrics=['accuracy'])\n"
      ],
      "metadata": {
        "id": "ku3tffz4Clqn"
      },
      "execution_count": null,
      "outputs": []
    },
    {
      "cell_type": "markdown",
      "source": [
        "و همچنین توابه لاس فانکشن و اکیوریسی"
      ],
      "metadata": {
        "id": "UlDeQiHlDY6m"
      }
    },
    {
      "cell_type": "code",
      "source": [
        "from keras import optimizers\n",
        "from keras import losses\n",
        "from keras import metrics\n",
        "model.compile(optimizer=optimizers.RMSprop(learning_rate=0.001),\n",
        "loss=losses.binary_crossentropy,\n",
        "metrics=[metrics.binary_accuracy])"
      ],
      "metadata": {
        "id": "RlNM7YKIDZXl"
      },
      "execution_count": null,
      "outputs": []
    },
    {
      "cell_type": "markdown",
      "source": [
        "Setting aside a validation set"
      ],
      "metadata": {
        "id": "L9_rgsTREEnZ"
      }
    },
    {
      "cell_type": "code",
      "source": [
        "x_val = x_train[:10000]\n",
        "partial_x_train = x_train[10000:]\n",
        "y_val = y_train[:10000]\n",
        "partial_y_train = y_train[10000:]"
      ],
      "metadata": {
        "id": "N6-tYeADEGFZ"
      },
      "execution_count": null,
      "outputs": []
    },
    {
      "cell_type": "code",
      "source": [
        "history = model.fit(partial_x_train,\n",
        "partial_y_train,\n",
        "epochs=20,\n",
        "batch_size=512,\n",
        "validation_data=(x_val, y_val))"
      ],
      "metadata": {
        "colab": {
          "base_uri": "https://localhost:8080/"
        },
        "id": "BRygEma_EOxI",
        "outputId": "6f1efdb9-482d-423e-ab03-1ef80fd7a171"
      },
      "execution_count": null,
      "outputs": [
        {
          "output_type": "stream",
          "name": "stdout",
          "text": [
            "Epoch 1/20\n",
            "30/30 [==============================] - 4s 113ms/step - loss: 0.0528 - accuracy: 0.9866 - val_loss: 0.4007 - val_accuracy: 0.8699\n",
            "Epoch 2/20\n",
            "30/30 [==============================] - 2s 74ms/step - loss: 0.0473 - accuracy: 0.9882 - val_loss: 0.4057 - val_accuracy: 0.8784\n",
            "Epoch 3/20\n",
            "30/30 [==============================] - 3s 94ms/step - loss: 0.0405 - accuracy: 0.9914 - val_loss: 0.4552 - val_accuracy: 0.8645\n",
            "Epoch 4/20\n",
            "30/30 [==============================] - 3s 104ms/step - loss: 0.0346 - accuracy: 0.9925 - val_loss: 0.4590 - val_accuracy: 0.8700\n",
            "Epoch 5/20\n",
            "30/30 [==============================] - 2s 58ms/step - loss: 0.0281 - accuracy: 0.9950 - val_loss: 0.4791 - val_accuracy: 0.8732\n",
            "Epoch 6/20\n",
            "30/30 [==============================] - 2s 75ms/step - loss: 0.0223 - accuracy: 0.9969 - val_loss: 0.5030 - val_accuracy: 0.8701\n",
            "Epoch 7/20\n",
            "30/30 [==============================] - 1s 35ms/step - loss: 0.0221 - accuracy: 0.9963 - val_loss: 0.5248 - val_accuracy: 0.8718\n",
            "Epoch 8/20\n",
            "30/30 [==============================] - 2s 54ms/step - loss: 0.0195 - accuracy: 0.9959 - val_loss: 0.5488 - val_accuracy: 0.8725\n",
            "Epoch 9/20\n",
            "30/30 [==============================] - 4s 132ms/step - loss: 0.0126 - accuracy: 0.9993 - val_loss: 0.5751 - val_accuracy: 0.8726\n",
            "Epoch 10/20\n",
            "30/30 [==============================] - 2s 74ms/step - loss: 0.0142 - accuracy: 0.9980 - val_loss: 0.5983 - val_accuracy: 0.8680\n",
            "Epoch 11/20\n",
            "30/30 [==============================] - 3s 92ms/step - loss: 0.0126 - accuracy: 0.9987 - val_loss: 0.6202 - val_accuracy: 0.8687\n",
            "Epoch 12/20\n",
            "30/30 [==============================] - 2s 73ms/step - loss: 0.0118 - accuracy: 0.9975 - val_loss: 0.6568 - val_accuracy: 0.8660\n",
            "Epoch 13/20\n",
            "30/30 [==============================] - 2s 58ms/step - loss: 0.0058 - accuracy: 0.9998 - val_loss: 0.6658 - val_accuracy: 0.8669\n",
            "Epoch 14/20\n",
            "30/30 [==============================] - 1s 37ms/step - loss: 0.0069 - accuracy: 0.9996 - val_loss: 0.7963 - val_accuracy: 0.8504\n",
            "Epoch 15/20\n",
            "30/30 [==============================] - 3s 93ms/step - loss: 0.0091 - accuracy: 0.9981 - val_loss: 0.7024 - val_accuracy: 0.8657\n",
            "Epoch 16/20\n",
            "30/30 [==============================] - 2s 53ms/step - loss: 0.0070 - accuracy: 0.9990 - val_loss: 0.7242 - val_accuracy: 0.8664\n",
            "Epoch 17/20\n",
            "30/30 [==============================] - 3s 94ms/step - loss: 0.0033 - accuracy: 0.9999 - val_loss: 0.7878 - val_accuracy: 0.8666\n",
            "Epoch 18/20\n",
            "30/30 [==============================] - 3s 105ms/step - loss: 0.0099 - accuracy: 0.9977 - val_loss: 0.7737 - val_accuracy: 0.8657\n",
            "Epoch 19/20\n",
            "30/30 [==============================] - 2s 75ms/step - loss: 0.0024 - accuracy: 0.9999 - val_loss: 0.7830 - val_accuracy: 0.8661\n",
            "Epoch 20/20\n",
            "30/30 [==============================] - 2s 70ms/step - loss: 0.0029 - accuracy: 0.9997 - val_loss: 0.9637 - val_accuracy: 0.8477\n"
          ]
        }
      ]
    },
    {
      "cell_type": "code",
      "source": [
        "history_dict = history.history\n",
        "history_dict.keys()"
      ],
      "metadata": {
        "colab": {
          "base_uri": "https://localhost:8080/"
        },
        "id": "LrlUqAhVEsAT",
        "outputId": "82af8d25-219e-47a0-f11e-81c3a838f7af"
      },
      "execution_count": null,
      "outputs": [
        {
          "output_type": "execute_result",
          "data": {
            "text/plain": [
              "dict_keys(['loss', 'accuracy', 'val_loss', 'val_accuracy'])"
            ]
          },
          "metadata": {},
          "execution_count": 38
        }
      ]
    },
    {
      "cell_type": "markdown",
      "source": [
        "Plotting the training and validation loss"
      ],
      "metadata": {
        "id": "wfwQBzQIFOmy"
      }
    },
    {
      "cell_type": "code",
      "source": [
        "import matplotlib.pyplot as plt\n",
        "history_dict = history.history\n",
        "loss_values = history_dict['loss']\n",
        "val_loss_values = history_dict['val_loss']\n",
        "\n",
        "epochs = range(1, len(loss_values) + 1)\n",
        "\n",
        "plt.plot(epochs, loss_values, 'bo', label='Training loss')\n",
        "plt.plot(epochs, val_loss_values, 'b', label='Validation loss')\n",
        "plt.title('Training and validation loss')\n",
        "plt.xlabel('Epochs')\n",
        "plt.ylabel('Loss')\n",
        "plt.legend()\n",
        "plt.show()"
      ],
      "metadata": {
        "colab": {
          "base_uri": "https://localhost:8080/",
          "height": 472
        },
        "id": "jvPxvuQDFPnJ",
        "outputId": "3ad89ba2-ea07-467b-8fb2-4ca8abcf3890"
      },
      "execution_count": null,
      "outputs": [
        {
          "output_type": "display_data",
          "data": {
            "text/plain": [
              "<Figure size 640x480 with 1 Axes>"
            ],
            "image/png": "[encoded data removed]"
          },
          "metadata": {}
        }
      ]
    },
    {
      "cell_type": "markdown",
      "source": [
        "Plotting the training and validation accuracy"
      ],
      "metadata": {
        "id": "Frdr210RIG3R"
      }
    },
    {
      "cell_type": "code",
      "source": [
        "plt.clf()\n",
        "acc_values = history_dict['accuracy']\n",
        "val_acc_values = history_dict['val_accuracy']\n",
        "plt.plot(epochs, acc_values, 'bo', label='Training acc')\n",
        "plt.plot(epochs, val_acc_values, 'b', label='Validation acc')\n",
        "plt.title('Training and validation accuracy')\n",
        "plt.xlabel('Epochs')\n",
        "plt.ylabel('Loss')\n",
        "plt.legend()\n",
        "plt.show()\n"
      ],
      "metadata": {
        "colab": {
          "base_uri": "https://localhost:8080/",
          "height": 472
        },
        "id": "3Mz3h_7bIIjU",
        "outputId": "09664bfa-7e3d-477a-9aef-6e20070e88cb"
      },
      "execution_count": null,
      "outputs": [
        {
          "output_type": "display_data",
          "data": {
            "text/plain": [
              "<Figure size 640x480 with 1 Axes>"
            ],
            "image/png": "[encoded data removed]"
          },
          "metadata": {}
        }
      ]
    },
    {
      "cell_type": "markdown",
      "source": [
        "دیدیم که مدل اور فیت شده است پس بیایید آن را از اول اموزش دهیم با کل داده ها و ارزیابی کنیم با داده های تست"
      ],
      "metadata": {
        "id": "qqiH7mbAJJkI"
      }
    },
    {
      "cell_type": "code",
      "source": [
        "model = models.Sequential()\n",
        "model.add(layers.Dense(16, activation='relu', input_shape=(10000,)))\n",
        "model.add(layers.Dense(16, activation='relu'))\n",
        "model.add(layers.Dense(1, activation='sigmoid'))\n",
        "model.compile(optimizer='rmsprop',\n",
        "loss='binary_crossentropy',\n",
        "metrics=['accuracy'])\n",
        "model.fit(x_train, y_train, epochs=20, batch_size=512)"
      ],
      "metadata": {
        "colab": {
          "base_uri": "https://localhost:8080/"
        },
        "id": "EYjrG3f7JXBV",
        "outputId": "50ed8402-402d-4b42-cd01-b1b9b4c9bbef"
      },
      "execution_count": null,
      "outputs": [
        {
          "output_type": "stream",
          "name": "stdout",
          "text": [
            "Epoch 1/20\n",
            "49/49 [==============================] - 5s 81ms/step - loss: 0.4772 - accuracy: 0.8107\n",
            "Epoch 2/20\n",
            "49/49 [==============================] - 3s 62ms/step - loss: 0.2809 - accuracy: 0.9035\n",
            "Epoch 3/20\n",
            "49/49 [==============================] - 4s 74ms/step - loss: 0.2203 - accuracy: 0.9206\n",
            "Epoch 4/20\n",
            "49/49 [==============================] - 5s 103ms/step - loss: 0.1849 - accuracy: 0.9329\n",
            "Epoch 5/20\n",
            "49/49 [==============================] - 4s 87ms/step - loss: 0.1625 - accuracy: 0.9422\n",
            "Epoch 6/20\n",
            "49/49 [==============================] - 3s 62ms/step - loss: 0.1441 - accuracy: 0.9501\n",
            "Epoch 7/20\n",
            "49/49 [==============================] - 2s 49ms/step - loss: 0.1292 - accuracy: 0.9554\n",
            "Epoch 8/20\n",
            "49/49 [==============================] - 6s 116ms/step - loss: 0.1158 - accuracy: 0.9610\n",
            "Epoch 9/20\n",
            "49/49 [==============================] - 2s 50ms/step - loss: 0.1014 - accuracy: 0.9668\n",
            "Epoch 10/20\n",
            "49/49 [==============================] - 5s 113ms/step - loss: 0.0955 - accuracy: 0.9686\n",
            "Epoch 11/20\n",
            "49/49 [==============================] - 3s 59ms/step - loss: 0.0804 - accuracy: 0.9744\n",
            "Epoch 12/20\n",
            "49/49 [==============================] - 2s 50ms/step - loss: 0.0745 - accuracy: 0.9773\n",
            "Epoch 13/20\n",
            "49/49 [==============================] - 4s 73ms/step - loss: 0.0635 - accuracy: 0.9823\n",
            "Epoch 14/20\n",
            "49/49 [==============================] - 3s 72ms/step - loss: 0.0560 - accuracy: 0.9840\n",
            "Epoch 15/20\n",
            "49/49 [==============================] - 4s 77ms/step - loss: 0.0509 - accuracy: 0.9866\n",
            "Epoch 16/20\n",
            "49/49 [==============================] - 4s 72ms/step - loss: 0.0426 - accuracy: 0.9895\n",
            "Epoch 17/20\n",
            "49/49 [==============================] - 2s 49ms/step - loss: 0.0376 - accuracy: 0.9910\n",
            "Epoch 18/20\n",
            "49/49 [==============================] - 3s 72ms/step - loss: 0.0324 - accuracy: 0.9918\n",
            "Epoch 19/20\n",
            "49/49 [==============================] - 4s 73ms/step - loss: 0.0272 - accuracy: 0.9940\n",
            "Epoch 20/20\n",
            "49/49 [==============================] - 2s 51ms/step - loss: 0.0210 - accuracy: 0.9960\n"
          ]
        },
        {
          "output_type": "execute_result",
          "data": {
            "text/plain": [
              "<keras.callbacks.History at 0x7f52fb287e80>"
            ]
          },
          "metadata": {},
          "execution_count": 58
        }
      ]
    },
    {
      "cell_type": "markdown",
      "source": [
        "# The same model is defined using the functional API:"
      ],
      "metadata": {
        "id": "mbYfK_GJPf19"
      }
    },
    {
      "cell_type": "code",
      "source": [
        "input_tensor = layers.Input(shape=(10000,))\n",
        "x = layers.Dense(16, activation='relu')(input_tensor)\n",
        "x = layers.Dense(16, activation='relu')(x)\n",
        "output_tensor = layers.Dense(1, activation='sigmoid')(x)\n",
        "model = models.Model(inputs=input_tensor, outputs=output_tensor)\n",
        "model.compile(optimizer='rmsprop',\n",
        "loss='binary_crossentropy',\n",
        "metrics=['accuracy'])\n",
        "model.fit(x_train, y_train, epochs=5, batch_size=512)"
      ],
      "metadata": {
        "colab": {
          "base_uri": "https://localhost:8080/"
        },
        "id": "3VS3WeKYPgQK",
        "outputId": "d34d3da3-4435-4a78-83ea-24e563905457"
      },
      "execution_count": null,
      "outputs": [
        {
          "output_type": "stream",
          "name": "stdout",
          "text": [
            "Epoch 1/5\n",
            "49/49 [==============================] - 6s 112ms/step - loss: 0.4492 - accuracy: 0.8181\n",
            "Epoch 2/5\n",
            "49/49 [==============================] - 3s 62ms/step - loss: 0.2651 - accuracy: 0.9062\n",
            "Epoch 3/5\n",
            "49/49 [==============================] - 5s 95ms/step - loss: 0.2106 - accuracy: 0.9252\n",
            "Epoch 4/5\n",
            "49/49 [==============================] - 2s 49ms/step - loss: 0.1761 - accuracy: 0.9384\n",
            "Epoch 5/5\n",
            "49/49 [==============================] - 4s 74ms/step - loss: 0.1561 - accuracy: 0.9436\n"
          ]
        },
        {
          "output_type": "execute_result",
          "data": {
            "text/plain": [
              "<keras.callbacks.History at 0x7f52fb461390>"
            ]
          },
          "metadata": {},
          "execution_count": 63
        }
      ]
    },
    {
      "cell_type": "code",
      "source": [
        "results = model.evaluate(x_test, y_test)"
      ],
      "metadata": {
        "colab": {
          "base_uri": "https://localhost:8080/"
        },
        "id": "PqLk_H1yJgM_",
        "outputId": "0f544b56-074c-43a2-fc65-cf52c937a2f1"
      },
      "execution_count": null,
      "outputs": [
        {
          "output_type": "stream",
          "name": "stdout",
          "text": [
            "782/782 [==============================] - 6s 7ms/step - loss: 0.6892 - accuracy: 0.8546\n"
          ]
        }
      ]
    },
    {
      "cell_type": "code",
      "source": [
        "y_test_pridict=model.predict(x_test)"
      ],
      "metadata": {
        "colab": {
          "base_uri": "https://localhost:8080/"
        },
        "id": "aqwBGuSBJ6SH",
        "outputId": "24e2f50e-e840-446e-c120-222c80ded930"
      },
      "execution_count": null,
      "outputs": [
        {
          "output_type": "stream",
          "name": "stdout",
          "text": [
            "782/782 [==============================] - 5s 6ms/step\n"
          ]
        }
      ]
    },
    {
      "cell_type": "code",
      "source": [
        "y_test_pridict=y_test_pridict.reshape((25000,))\n",
        "y_test_pridict=np.round(y_test_pridict)\n",
        "\n",
        "print(y_test_pridict[:20])\n",
        "print(y_test[:20])"
      ],
      "metadata": {
        "colab": {
          "base_uri": "https://localhost:8080/"
        },
        "id": "71u0V6OoLwCv",
        "outputId": "d874b137-7f60-4c8d-a198-1369b0689ee5"
      },
      "execution_count": null,
      "outputs": [
        {
          "output_type": "stream",
          "name": "stdout",
          "text": [
            "[0. 1. 1. 1. 1. 1. 1. 0. 1. 1. 1. 0. 0. 1. 1. 0. 1. 1. 0. 0.]\n",
            "[0. 1. 1. 0. 1. 1. 1. 0. 0. 1. 1. 0. 0. 0. 1. 0. 1. 0. 0. 0.]\n"
          ]
        }
      ]
    },
    {
      "cell_type": "markdown",
      "source": [
        "# Classifying newswires:\n",
        "a multiclass classification example\n",
        "# :طبقه بندی اخبار\n",
        "یک مثال طبقه بندی چند کلاسه"
      ],
      "metadata": {
        "id": "_YJhgCfxTBMg"
      }
    },
    {
      "cell_type": "markdown",
      "source": [
        "There\n",
        "are 46 different topics; some topics are more represented than others, but each topic\n",
        "has at least 10 examples in the training set."
      ],
      "metadata": {
        "id": "Q7pC8V49U0hw"
      }
    },
    {
      "cell_type": "code",
      "source": [
        "from keras.datasets import reuters\n",
        "(train_data, train_labels), (test_data, test_labels) = reuters.load_data(num_words=10000)"
      ],
      "metadata": {
        "id": "yzf2s4bqTV6j",
        "colab": {
          "base_uri": "https://localhost:8080/"
        },
        "outputId": "20f0ae00-680a-46d3-d160-26e42a50aca2"
      },
      "execution_count": 1,
      "outputs": [
        {
          "output_type": "stream",
          "name": "stdout",
          "text": [
            "Downloading data from https://storage.googleapis.com/tensorflow/tf-keras-datasets/reuters.npz\n",
            "2110848/2110848 [==============================] - 1s 1us/step\n"
          ]
        }
      ]
    },
    {
      "cell_type": "markdown",
      "source": [
        "مثلا کد سه مربوط به اخبار اقتصادی بازار سهام است"
      ],
      "metadata": {
        "id": "KbYW8I8UV88q"
      }
    },
    {
      "cell_type": "code",
      "source": [
        "word_index = reuters.get_word_index()\n",
        "reverse_word_index = dict([(value, key) for (key, value) in word_index.items()])\n",
        "decoded_newswire = ' '.join([reverse_word_index.get(i - 3, '?') for i in train_data[2]])"
      ],
      "metadata": {
        "id": "DsbYv0AbV9I6"
      },
      "execution_count": 5,
      "outputs": []
    },
    {
      "cell_type": "code",
      "source": [
        "train_labels[2]"
      ],
      "metadata": {
        "colab": {
          "base_uri": "https://localhost:8080/"
        },
        "id": "PlFo2T0XYcnR",
        "outputId": "369ab96c-deb1-48f0-ce4b-9e2770754448"
      },
      "execution_count": 7,
      "outputs": [
        {
          "output_type": "execute_result",
          "data": {
            "text/plain": [
              "3"
            ]
          },
          "metadata": {},
          "execution_count": 7
        }
      ]
    },
    {
      "cell_type": "markdown",
      "source": [
        "Encoding the data"
      ],
      "metadata": {
        "id": "s8K9k5gtZGf5"
      }
    },
    {
      "cell_type": "code",
      "source": [
        "import numpy as np\n",
        "def vectorize_sequences(sequences, dimension=10000):\n",
        " results = np.zeros((len(sequences), dimension))\n",
        " for i, sequence in enumerate(sequences):\n",
        "  results[i, sequence] = 1.\n",
        " return results\n",
        "x_train = vectorize_sequences(train_data)\n",
        "x_test = vectorize_sequences(test_data)"
      ],
      "metadata": {
        "id": "QCZzHD_vZHma"
      },
      "execution_count": 8,
      "outputs": []
    },
    {
      "cell_type": "markdown",
      "source": [
        "To vectorize the labels, there are two possibilities: you can cast the label list as an integer tensor, or you can use one-hot encoding. One-hot encoding is a widely used format for categorical data, also called categorical encoding"
      ],
      "metadata": {
        "id": "zr7fWMFnaGdb"
      }
    },
    {
      "cell_type": "markdown",
      "source": [
        "روش اول برای وان هات کردن"
      ],
      "metadata": {
        "id": "fCwB0GhKbNyv"
      }
    },
    {
      "cell_type": "code",
      "source": [
        "def to_one_hot(labels, dimension=46):\n",
        " results = np.zeros((len(labels), dimension))\n",
        " for i, label in enumerate(labels):\n",
        "  results[i, label] = 1.\n",
        " return results\n",
        "one_hot_train_labels = to_one_hot(train_labels)\n",
        "one_hot_test_labels = to_one_hot(test_labels)\n",
        "print(one_hot_train_labels[0])"
      ],
      "metadata": {
        "colab": {
          "base_uri": "https://localhost:8080/"
        },
        "id": "doIJYOoFaH5k",
        "outputId": "cdeb6a13-3b9f-409b-cc44-4ef7268ebe4b"
      },
      "execution_count": 14,
      "outputs": [
        {
          "output_type": "stream",
          "name": "stdout",
          "text": [
            "[0. 0. 0. 1. 0. 0. 0. 0. 0. 0. 0. 0. 0. 0. 0. 0. 0. 0. 0. 0. 0. 0. 0. 0.\n",
            " 0. 0. 0. 0. 0. 0. 0. 0. 0. 0. 0. 0. 0. 0. 0. 0. 0. 0. 0. 0. 0. 0.]\n"
          ]
        }
      ]
    },
    {
      "cell_type": "markdown",
      "source": [
        "روش دوم برای وان هات کردن"
      ],
      "metadata": {
        "id": "ca5AKVPab3MN"
      }
    },
    {
      "cell_type": "code",
      "source": [
        "from keras.utils.np_utils import to_categorical\n",
        "one_hot_train_labels = to_categorical(train_labels)\n",
        "one_hot_test_labels = to_categorical(test_labels)\n",
        "print(one_hot_train_labels[0])"
      ],
      "metadata": {
        "colab": {
          "base_uri": "https://localhost:8080/"
        },
        "id": "0cHiCFaLb7nk",
        "outputId": "2e8e0df4-be5d-4e59-9f61-e897c1e63c53"
      },
      "execution_count": 15,
      "outputs": [
        {
          "output_type": "stream",
          "name": "stdout",
          "text": [
            "[0. 0. 0. 1. 0. 0. 0. 0. 0. 0. 0. 0. 0. 0. 0. 0. 0. 0. 0. 0. 0. 0. 0. 0.\n",
            " 0. 0. 0. 0. 0. 0. 0. 0. 0. 0. 0. 0. 0. 0. 0. 0. 0. 0. 0. 0. 0. 0.]\n"
          ]
        }
      ]
    },
    {
      "cell_type": "markdown",
      "source": [
        "Building your network"
      ],
      "metadata": {
        "id": "eLkRhtx2cPBi"
      }
    },
    {
      "cell_type": "code",
      "source": [
        "from keras import models\n",
        "from keras import layers\n",
        "model = models.Sequential()\n",
        "model.add(layers.Input(shape=(10000,)))\n",
        "#model.add(layers.Dense(64, activation='relu', input_shape=(10000,)))\n",
        "model.add(layers.Dense(64, activation='relu'))\n",
        "model.add(layers.Dense(64, activation='relu'))\n",
        "model.add(layers.Dense(46, activation='softmax'))"
      ],
      "metadata": {
        "id": "-ymjgJhIcPq8"
      },
      "execution_count": 16,
      "outputs": []
    },
    {
      "cell_type": "markdown",
      "source": [
        "Compiling the model"
      ],
      "metadata": {
        "id": "VC1uBeC6dfE5"
      }
    },
    {
      "cell_type": "code",
      "source": [
        "model.compile(optimizer='rmsprop',\n",
        "loss='categorical_crossentropy',\n",
        "metrics=['accuracy'])\n"
      ],
      "metadata": {
        "id": "WiQdKRqrdeZJ"
      },
      "execution_count": 17,
      "outputs": []
    },
    {
      "cell_type": "markdown",
      "source": [
        "Validating your approach"
      ],
      "metadata": {
        "id": "I6TEVIjhd_uO"
      }
    },
    {
      "cell_type": "code",
      "source": [
        "x_val = x_train[:1000]\n",
        "partial_x_train = x_train[1000:]\n",
        "y_val = one_hot_train_labels[:1000]\n",
        "partial_y_train = one_hot_train_labels[1000:]"
      ],
      "metadata": {
        "id": "JNj5-gRIeAzS"
      },
      "execution_count": 18,
      "outputs": []
    },
    {
      "cell_type": "markdown",
      "source": [
        " Training the model"
      ],
      "metadata": {
        "id": "op6DpaKteOjF"
      }
    },
    {
      "cell_type": "code",
      "source": [
        "history = model.fit(partial_x_train,\n",
        "partial_y_train,\n",
        "epochs=20,\n",
        "batch_size=512,\n",
        "validation_data=(x_val, y_val))"
      ],
      "metadata": {
        "colab": {
          "base_uri": "https://localhost:8080/"
        },
        "id": "e4oqG7z1ePam",
        "outputId": "0711c7f9-d75d-44a5-d3e5-808d328cc5dd"
      },
      "execution_count": 19,
      "outputs": [
        {
          "output_type": "stream",
          "name": "stdout",
          "text": [
            "Epoch 1/20\n",
            "16/16 [==============================] - 6s 40ms/step - loss: 2.7114 - accuracy: 0.5006 - val_loss: 1.8547 - val_accuracy: 0.6290\n",
            "Epoch 2/20\n",
            "16/16 [==============================] - 1s 36ms/step - loss: 1.5541 - accuracy: 0.6763 - val_loss: 1.3808 - val_accuracy: 0.6950\n",
            "Epoch 3/20\n",
            "16/16 [==============================] - 0s 18ms/step - loss: 1.1825 - accuracy: 0.7417 - val_loss: 1.1797 - val_accuracy: 0.7270\n",
            "Epoch 4/20\n",
            "16/16 [==============================] - 0s 17ms/step - loss: 0.9569 - accuracy: 0.7958 - val_loss: 1.0730 - val_accuracy: 0.7600\n",
            "Epoch 5/20\n",
            "16/16 [==============================] - 0s 18ms/step - loss: 0.7933 - accuracy: 0.8321 - val_loss: 1.0178 - val_accuracy: 0.7690\n",
            "Epoch 6/20\n",
            "16/16 [==============================] - 1s 72ms/step - loss: 0.6633 - accuracy: 0.8638 - val_loss: 0.9502 - val_accuracy: 0.7960\n",
            "Epoch 7/20\n",
            "16/16 [==============================] - 1s 39ms/step - loss: 0.5534 - accuracy: 0.8842 - val_loss: 0.9014 - val_accuracy: 0.8140\n",
            "Epoch 8/20\n",
            "16/16 [==============================] - 0s 18ms/step - loss: 0.4703 - accuracy: 0.9033 - val_loss: 0.8960 - val_accuracy: 0.8100\n",
            "Epoch 9/20\n",
            "16/16 [==============================] - 0s 17ms/step - loss: 0.3952 - accuracy: 0.9174 - val_loss: 0.9101 - val_accuracy: 0.7920\n",
            "Epoch 10/20\n",
            "16/16 [==============================] - 1s 85ms/step - loss: 0.3385 - accuracy: 0.9246 - val_loss: 0.8659 - val_accuracy: 0.8090\n",
            "Epoch 11/20\n",
            "16/16 [==============================] - 0s 21ms/step - loss: 0.2912 - accuracy: 0.9347 - val_loss: 0.8532 - val_accuracy: 0.8280\n",
            "Epoch 12/20\n",
            "16/16 [==============================] - 0s 20ms/step - loss: 0.2606 - accuracy: 0.9391 - val_loss: 0.8598 - val_accuracy: 0.8130\n",
            "Epoch 13/20\n",
            "16/16 [==============================] - 1s 71ms/step - loss: 0.2281 - accuracy: 0.9469 - val_loss: 0.8872 - val_accuracy: 0.8050\n",
            "Epoch 14/20\n",
            "16/16 [==============================] - 1s 35ms/step - loss: 0.2054 - accuracy: 0.9503 - val_loss: 0.9077 - val_accuracy: 0.8080\n",
            "Epoch 15/20\n",
            "16/16 [==============================] - 0s 19ms/step - loss: 0.1821 - accuracy: 0.9545 - val_loss: 0.9022 - val_accuracy: 0.8040\n",
            "Epoch 16/20\n",
            "16/16 [==============================] - 0s 19ms/step - loss: 0.1733 - accuracy: 0.9543 - val_loss: 0.9153 - val_accuracy: 0.8080\n",
            "Epoch 17/20\n",
            "16/16 [==============================] - 1s 68ms/step - loss: 0.1600 - accuracy: 0.9549 - val_loss: 0.9263 - val_accuracy: 0.8120\n",
            "Epoch 18/20\n",
            "16/16 [==============================] - 1s 71ms/step - loss: 0.1469 - accuracy: 0.9544 - val_loss: 0.9452 - val_accuracy: 0.8150\n",
            "Epoch 19/20\n",
            "16/16 [==============================] - 0s 17ms/step - loss: 0.1459 - accuracy: 0.9560 - val_loss: 0.9359 - val_accuracy: 0.8080\n",
            "Epoch 20/20\n",
            "16/16 [==============================] - 0s 17ms/step - loss: 0.1340 - accuracy: 0.9568 - val_loss: 0.9708 - val_accuracy: 0.7930\n"
          ]
        }
      ]
    },
    {
      "cell_type": "markdown",
      "source": [
        "Plotting the training and validation loss"
      ],
      "metadata": {
        "id": "FM1XBmKnedLy"
      }
    },
    {
      "cell_type": "code",
      "source": [
        "import matplotlib.pyplot as plt\n",
        "loss = history.history['loss']\n",
        "val_loss = history.history['val_loss']\n",
        "epochs = range(1, len(loss) + 1)\n",
        "plt.plot(epochs, loss, 'bo', label='Training loss')\n",
        "plt.plot(epochs, val_loss, 'b', label='Validation loss')\n",
        "plt.title('Training and validation loss')\n",
        "plt.xlabel('Epochs')\n",
        "plt.ylabel('Loss')\n",
        "plt.legend()\n",
        "plt.show()"
      ],
      "metadata": {
        "colab": {
          "base_uri": "https://localhost:8080/",
          "height": 472
        },
        "id": "JMDftUQ5eeSJ",
        "outputId": "2c309a36-64cf-4698-b4b1-28a98787a808"
      },
      "execution_count": 20,
      "outputs": [
        {
          "output_type": "display_data",
          "data": {
            "text/plain": [
              "<Figure size 640x480 with 1 Axes>"
            ],
            "image/png": "[encoded data removed]"
          },
          "metadata": {}
        }
      ]
    },
    {
      "cell_type": "markdown",
      "source": [
        "Plotting the training and validation accuracy"
      ],
      "metadata": {
        "id": "7unp2iD2epqK"
      }
    },
    {
      "cell_type": "code",
      "source": [
        "plt.clf()\n",
        "acc = history.history['accuracy']\n",
        "val_acc = history.history['val_accuracy']\n",
        "plt.plot(epochs, acc, 'bo', label='Training acc')\n",
        "plt.plot(epochs, val_acc, 'b', label='Validation acc')\n",
        "plt.title('Training and validation accuracy')\n",
        "plt.xlabel('Epochs')\n",
        "plt.ylabel('Loss')\n",
        "plt.legend()\n",
        "plt.show()\n"
      ],
      "metadata": {
        "colab": {
          "base_uri": "https://localhost:8080/",
          "height": 472
        },
        "id": "L4anzv5zesC-",
        "outputId": "69c81e1c-f60e-4dcb-d260-84906b5d13ed"
      },
      "execution_count": 21,
      "outputs": [
        {
          "output_type": "display_data",
          "data": {
            "text/plain": [
              "<Figure size 640x480 with 1 Axes>"
            ],
            "image/png": "[encoded data removed]"
          },
          "metadata": {}
        }
      ]
    },
    {
      "cell_type": "markdown",
      "source": [
        "Retraining a model from scratch"
      ],
      "metadata": {
        "id": "1xqqwYRZfJxn"
      }
    },
    {
      "cell_type": "code",
      "source": [
        "model = models.Sequential()\n",
        "model.add(layers.Dense(64, activation='relu', input_shape=(10000,)))\n",
        "model.add(layers.Dense(64, activation='relu'))\n",
        "model.add(layers.Dense(46, activation='softmax'))\n",
        "model.compile(optimizer='rmsprop',\n",
        "loss='categorical_crossentropy',\n",
        "metrics=['accuracy'])\n",
        "model.fit(partial_x_train,\n",
        "partial_y_train,\n",
        "epochs=9,\n",
        "batch_size=512,\n",
        "validation_data=(x_val, y_val))\n",
        "results = model.evaluate(x_test, one_hot_test_labels)"
      ],
      "metadata": {
        "colab": {
          "base_uri": "https://localhost:8080/"
        },
        "id": "TUpgltDUfKoe",
        "outputId": "d4df2bb7-8e12-4204-876f-0e0d5c894b91"
      },
      "execution_count": 22,
      "outputs": [
        {
          "output_type": "stream",
          "name": "stdout",
          "text": [
            "Epoch 1/9\n",
            "16/16 [==============================] - 2s 47ms/step - loss: 2.8011 - accuracy: 0.4397 - val_loss: 1.9003 - val_accuracy: 0.6260\n",
            "Epoch 2/9\n",
            "16/16 [==============================] - 0s 16ms/step - loss: 1.5824 - accuracy: 0.6784 - val_loss: 1.4105 - val_accuracy: 0.7090\n",
            "Epoch 3/9\n",
            "16/16 [==============================] - 0s 17ms/step - loss: 1.1996 - accuracy: 0.7504 - val_loss: 1.2003 - val_accuracy: 0.7350\n",
            "Epoch 4/9\n",
            "16/16 [==============================] - 0s 16ms/step - loss: 0.9615 - accuracy: 0.7968 - val_loss: 1.0751 - val_accuracy: 0.7650\n",
            "Epoch 5/9\n",
            "16/16 [==============================] - 0s 17ms/step - loss: 0.7892 - accuracy: 0.8307 - val_loss: 1.0011 - val_accuracy: 0.7830\n",
            "Epoch 6/9\n",
            "16/16 [==============================] - 0s 16ms/step - loss: 0.6590 - accuracy: 0.8608 - val_loss: 0.9399 - val_accuracy: 0.7990\n",
            "Epoch 7/9\n",
            "16/16 [==============================] - 1s 33ms/step - loss: 0.5504 - accuracy: 0.8882 - val_loss: 0.9131 - val_accuracy: 0.8090\n",
            "Epoch 8/9\n",
            "16/16 [==============================] - 0s 18ms/step - loss: 0.4647 - accuracy: 0.9044 - val_loss: 0.8792 - val_accuracy: 0.8180\n",
            "Epoch 9/9\n",
            "16/16 [==============================] - 0s 16ms/step - loss: 0.3937 - accuracy: 0.9162 - val_loss: 0.8869 - val_accuracy: 0.8130\n",
            "71/71 [==============================] - 0s 3ms/step - loss: 0.9608 - accuracy: 0.7832\n"
          ]
        }
      ]
    },
    {
      "cell_type": "markdown",
      "source": [
        "این روش به دقت 80% می رسد. با طبقه بندی باینری متعادل\n",
        "مشکل، دقت به دست آمده توسط یک طبقه بندی کاملا تصادفی 50٪ خواهد بود. ولی در\n",
        "این مورد نزدیک به 19٪ است، بنابراین نتایج بسیار خوب به نظر می رسد، حداقل در مقایسه با\n",
        "یک پایه تصادفی:"
      ],
      "metadata": {
        "id": "kl3BXbEghj5f"
      }
    },
    {
      "cell_type": "markdown",
      "source": [
        "This approach reaches an accuracy of ~80%. With a balanced binary classification\n",
        "problem, the accuracy reached by a purely random classifier would be 50%. But in\n",
        "this case it’s closer to 19%, so the results seem pretty good, at least when compared to\n",
        "a random baseline:"
      ],
      "metadata": {
        "id": "qIXvtVQoieSg"
      }
    },
    {
      "cell_type": "code",
      "source": [
        "import copy\n",
        "test_labels_copy = copy.copy(test_labels)\n",
        "np.random.shuffle(test_labels_copy)\n",
        "hits_array = np.array(test_labels) == np.array(test_labels_copy)\n",
        "float(np.sum(hits_array)) / len(test_labels)"
      ],
      "metadata": {
        "colab": {
          "base_uri": "https://localhost:8080/"
        },
        "id": "0JUJ-ZGqhkBc",
        "outputId": "e77f28d4-5c60-49a0-a053-df998311f3d1"
      },
      "execution_count": 24,
      "outputs": [
        {
          "output_type": "execute_result",
          "data": {
            "text/plain": [
              "0.18432769367764915"
            ]
          },
          "metadata": {},
          "execution_count": 24
        }
      ]
    },
    {
      "cell_type": "markdown",
      "source": [
        "Generating predictions on new data"
      ],
      "metadata": {
        "id": "vSyzGEfmjEmz"
      }
    },
    {
      "cell_type": "code",
      "source": [
        "predictions = model.predict(x_test)\n",
        "print(predictions.shape)"
      ],
      "metadata": {
        "colab": {
          "base_uri": "https://localhost:8080/"
        },
        "id": "BzEfyj-zjFsi",
        "outputId": "ffb24b75-9ff5-4786-fc31-ef9d228cee9d"
      },
      "execution_count": 26,
      "outputs": [
        {
          "output_type": "stream",
          "name": "stdout",
          "text": [
            "71/71 [==============================] - 0s 6ms/step\n",
            "(2246, 46)\n"
          ]
        }
      ]
    },
    {
      "cell_type": "code",
      "source": [
        "print(np.sum(predictions[0]))"
      ],
      "metadata": {
        "colab": {
          "base_uri": "https://localhost:8080/"
        },
        "id": "cSENdncajfdE",
        "outputId": "84f754e8-31bc-440a-c092-1364e240925b"
      },
      "execution_count": 27,
      "outputs": [
        {
          "output_type": "stream",
          "name": "stdout",
          "text": [
            "1.0000001\n"
          ]
        }
      ]
    },
    {
      "cell_type": "code",
      "source": [
        "print(predictions[0])"
      ],
      "metadata": {
        "colab": {
          "base_uri": "https://localhost:8080/"
        },
        "id": "gl_nq7QlkDXw",
        "outputId": "11c9f94d-4cc9-4ec6-9236-6cff6ae7acd1"
      },
      "execution_count": 33,
      "outputs": [
        {
          "output_type": "stream",
          "name": "stdout",
          "text": [
            "[7.0819992e-04 2.6286746e-04 4.9228111e-05 6.2293881e-01 3.4788549e-01\n",
            " 2.2157437e-04 5.6916720e-05 3.2719952e-05 8.3303228e-03 3.6592473e-04\n",
            " 1.0034005e-04 4.8605751e-04 1.4962403e-04 3.1640206e-03 1.2762385e-04\n",
            " 4.5565175e-05 2.5355786e-03 2.5979654e-04 8.3811661e-05 2.3858421e-03\n",
            " 2.8589698e-03 5.3756707e-04 2.9567207e-05 7.9126284e-04 6.2294173e-05\n",
            " 9.7450007e-05 2.0122781e-05 2.7992160e-04 6.7256210e-06 8.2509924e-04\n",
            " 2.2054660e-04 1.2802808e-04 1.1607092e-04 2.4699257e-05 1.6751855e-04\n",
            " 1.5707697e-05 1.8391508e-03 8.0777565e-05 7.4171726e-06 1.3143405e-03\n",
            " 1.4475019e-04 3.1922486e-05 2.9161545e-05 3.7122456e-05 4.9731429e-06\n",
            " 1.3852486e-04]\n"
          ]
        }
      ]
    },
    {
      "cell_type": "code",
      "source": [
        "print(np.argmax(predictions[0]))"
      ],
      "metadata": {
        "colab": {
          "base_uri": "https://localhost:8080/"
        },
        "id": "HlqEVldYjpyV",
        "outputId": "45ec442a-0c78-4513-a2da-ff18c5decadb"
      },
      "execution_count": 30,
      "outputs": [
        {
          "output_type": "stream",
          "name": "stdout",
          "text": [
            "3\n"
          ]
        }
      ]
    },
    {
      "cell_type": "markdown",
      "source": [
        "همیت داشتن لایه های میانی به اندازه کافی بزرگ"
      ],
      "metadata": {
        "id": "HZIBEKM3l7pt"
      }
    },
    {
      "cell_type": "markdown",
      "source": [
        "A model with an information bottleneck"
      ],
      "metadata": {
        "id": "s6sdRetHmKls"
      }
    },
    {
      "cell_type": "markdown",
      "source": [
        "The network now peaks at ~71% validation accuracy, an 8% absolute drop. This drop\n",
        "is mostly due to the fact that you’re trying to compress a lot of information (enough\n",
        "information to recover the separation hyperplanes of 46 classes) into an intermediate\n",
        "space that is too low-dimensional. The network is able to cram most of the necessary\n",
        "information into these eight-dimensional representations, but not all of it."
      ],
      "metadata": {
        "id": "ChcYjaBvnEp2"
      }
    },
    {
      "cell_type": "code",
      "source": [
        "model = models.Sequential()\n",
        "model.add(layers.Dense(64, activation='relu', input_shape=(10000,)))\n",
        "model.add(layers.Dense(4, activation='relu'))\n",
        "model.add(layers.Dense(46, activation='softmax'))\n",
        "model.compile(optimizer='rmsprop',\n",
        "loss='categorical_crossentropy',\n",
        "metrics=['accuracy'])\n",
        "model.fit(partial_x_train,partial_y_train,\n",
        "epochs=20,\n",
        "batch_size=128,\n",
        "validation_data=(x_val, y_val))"
      ],
      "metadata": {
        "colab": {
          "base_uri": "https://localhost:8080/"
        },
        "id": "lbJs-t8bmGCU",
        "outputId": "7dd53f47-6846-4b18-a201-00c521e00cff"
      },
      "execution_count": 35,
      "outputs": [
        {
          "output_type": "stream",
          "name": "stdout",
          "text": [
            "Epoch 1/20\n",
            "63/63 [==============================] - 3s 32ms/step - loss: 2.8925 - accuracy: 0.3354 - val_loss: 2.1128 - val_accuracy: 0.5940\n",
            "Epoch 2/20\n",
            "63/63 [==============================] - 1s 20ms/step - loss: 1.8030 - accuracy: 0.6102 - val_loss: 1.5654 - val_accuracy: 0.6380\n",
            "Epoch 3/20\n",
            "63/63 [==============================] - 0s 6ms/step - loss: 1.4045 - accuracy: 0.6805 - val_loss: 1.4005 - val_accuracy: 0.6650\n",
            "Epoch 4/20\n",
            "63/63 [==============================] - 1s 8ms/step - loss: 1.2193 - accuracy: 0.7185 - val_loss: 1.3190 - val_accuracy: 0.6810\n",
            "Epoch 5/20\n",
            "63/63 [==============================] - 2s 30ms/step - loss: 1.1003 - accuracy: 0.7412 - val_loss: 1.2784 - val_accuracy: 0.7060\n",
            "Epoch 6/20\n",
            "63/63 [==============================] - 1s 17ms/step - loss: 1.0104 - accuracy: 0.7566 - val_loss: 1.2563 - val_accuracy: 0.7060\n",
            "Epoch 7/20\n",
            "63/63 [==============================] - 0s 6ms/step - loss: 0.9396 - accuracy: 0.7667 - val_loss: 1.2678 - val_accuracy: 0.7160\n",
            "Epoch 8/20\n",
            "63/63 [==============================] - 0s 6ms/step - loss: 0.8808 - accuracy: 0.7721 - val_loss: 1.2411 - val_accuracy: 0.7160\n",
            "Epoch 9/20\n",
            "63/63 [==============================] - 1s 17ms/step - loss: 0.8294 - accuracy: 0.7795 - val_loss: 1.2422 - val_accuracy: 0.7060\n",
            "Epoch 10/20\n",
            "63/63 [==============================] - 1s 17ms/step - loss: 0.7840 - accuracy: 0.7820 - val_loss: 1.2687 - val_accuracy: 0.7130\n",
            "Epoch 11/20\n",
            "63/63 [==============================] - 0s 6ms/step - loss: 0.7453 - accuracy: 0.7854 - val_loss: 1.2694 - val_accuracy: 0.7070\n",
            "Epoch 12/20\n",
            "63/63 [==============================] - 0s 6ms/step - loss: 0.7072 - accuracy: 0.7909 - val_loss: 1.3333 - val_accuracy: 0.7130\n",
            "Epoch 13/20\n",
            "63/63 [==============================] - 1s 18ms/step - loss: 0.6779 - accuracy: 0.7970 - val_loss: 1.3154 - val_accuracy: 0.7110\n",
            "Epoch 14/20\n",
            "63/63 [==============================] - 1s 18ms/step - loss: 0.6464 - accuracy: 0.8077 - val_loss: 1.3366 - val_accuracy: 0.7100\n",
            "Epoch 15/20\n",
            "63/63 [==============================] - 0s 7ms/step - loss: 0.6176 - accuracy: 0.8195 - val_loss: 1.3707 - val_accuracy: 0.7150\n",
            "Epoch 16/20\n",
            "63/63 [==============================] - 0s 6ms/step - loss: 0.5908 - accuracy: 0.8297 - val_loss: 1.3992 - val_accuracy: 0.7110\n",
            "Epoch 17/20\n",
            "63/63 [==============================] - 0s 8ms/step - loss: 0.5700 - accuracy: 0.8429 - val_loss: 1.4186 - val_accuracy: 0.7140\n",
            "Epoch 18/20\n",
            "63/63 [==============================] - 0s 8ms/step - loss: 0.5464 - accuracy: 0.8507 - val_loss: 1.4103 - val_accuracy: 0.7180\n",
            "Epoch 19/20\n",
            "63/63 [==============================] - 1s 18ms/step - loss: 0.5235 - accuracy: 0.8594 - val_loss: 1.4804 - val_accuracy: 0.7140\n",
            "Epoch 20/20\n",
            "63/63 [==============================] - 1s 17ms/step - loss: 0.5056 - accuracy: 0.8642 - val_loss: 1.5191 - val_accuracy: 0.7170\n"
          ]
        },
        {
          "output_type": "execute_result",
          "data": {
            "text/plain": [
              "<keras.callbacks.History at 0x7f098cd75c60>"
            ]
          },
          "metadata": {},
          "execution_count": 35
        }
      ]
    },
    {
      "cell_type": "markdown",
      "source": [
        " Predicting house prices: a regression example"
      ],
      "metadata": {
        "id": "eP39pY8drjrU"
      }
    },
    {
      "cell_type": "markdown",
      "source": [
        "شما سعی خواهید کرد میانگین قیمت خانه‌ها را در حومه بوستون پیش‌بینی کنید\n",
        "اواسط دهه 1970، با توجه به اطلاعات مربوط به حومه در آن زمان، مانند میزان جرم و جنایت،\n",
        "نرخ مالیات بر دارایی محلی، و غیره. مجموعه داده ای که استفاده می کنید تفاوت جالبی دارد\n",
        "از دو مثال قبلی نقاط داده نسبتا کمی دارد: فقط 506، تقسیم\n",
        "بین 404 نمونه آموزشی و 102 نمونه آزمایشی. و هر ویژگی در داده های ورودی\n",
        "(مثلاً میزان جرم و جنایت) مقیاس متفاوتی دارد. به عنوان مثال، برخی از مقادیر نسبت هایی هستند که مقادیری بین 0 و 1 دارند. برخی دیگر مقادیر بین 1 تا 12، برخی دیگر بین 0 تا 100 و غیره می گیرند."
      ],
      "metadata": {
        "id": "iEM3vIpHrkD8"
      }
    },
    {
      "cell_type": "code",
      "source": [
        "from keras.datasets import boston_housing\n",
        "(train_data, train_targets), (test_data, test_targets) = boston_housing.load_data()"
      ],
      "metadata": {
        "id": "7vsoqsChrswM"
      },
      "execution_count": 1,
      "outputs": []
    },
    {
      "cell_type": "code",
      "source": [
        "print(train_data.shape)\n",
        "print(test_data.shape)"
      ],
      "metadata": {
        "colab": {
          "base_uri": "https://localhost:8080/"
        },
        "id": "g0qJCSHptnnd",
        "outputId": "7306e620-42e8-4521-eed6-f74328d43a08"
      },
      "execution_count": 2,
      "outputs": [
        {
          "output_type": "stream",
          "name": "stdout",
          "text": [
            "(404, 13)\n",
            "(102, 13)\n"
          ]
        }
      ]
    },
    {
      "cell_type": "markdown",
      "source": [
        "هر داده ورودی سیزده تا فیچر دارد "
      ],
      "metadata": {
        "id": "Ni3LE35TuJWE"
      }
    },
    {
      "cell_type": "code",
      "source": [
        "print(train_data[0])"
      ],
      "metadata": {
        "colab": {
          "base_uri": "https://localhost:8080/"
        },
        "id": "3_ieYzcPt9Fj",
        "outputId": "f7b3a642-3721-4522-d058-850e76c1e27f"
      },
      "execution_count": 3,
      "outputs": [
        {
          "output_type": "stream",
          "name": "stdout",
          "text": [
            "[  1.23247   0.        8.14      0.        0.538     6.142    91.7\n",
            "   3.9769    4.      307.       21.      396.9      18.72   ]\n"
          ]
        }
      ]
    },
    {
      "cell_type": "markdown",
      "source": [
        "مثلا خانه اول با مشخصات بالا حدودا 15 هزار دلار قیمت گذاری شده است"
      ],
      "metadata": {
        "id": "KY4rQ3SGuZHD"
      }
    },
    {
      "cell_type": "code",
      "source": [
        "print(train_targets[0])"
      ],
      "metadata": {
        "colab": {
          "base_uri": "https://localhost:8080/"
        },
        "id": "PbL7mkcPuZrc",
        "outputId": "928aac19-c029-45b6-b108-630beb9f93fa"
      },
      "execution_count": 4,
      "outputs": [
        {
          "output_type": "stream",
          "name": "stdout",
          "text": [
            "15.2\n"
          ]
        }
      ]
    },
    {
      "cell_type": "markdown",
      "source": [
        "# Preparing the data"
      ],
      "metadata": {
        "id": "DmP-R49RvDFE"
      }
    },
    {
      "cell_type": "markdown",
      "source": [
        "Normalizing the data"
      ],
      "metadata": {
        "id": "SHO8Y33FwGVY"
      }
    },
    {
      "cell_type": "markdown",
      "source": [
        "توجه داشته باشید که مقادیر استفاده شده برای نرمال سازی داده های تست با استفاده از عدد داده های آموزشی محاسبه می شوند\n",
        " "
      ],
      "metadata": {
        "id": "6ezU3h9EwIeG"
      }
    },
    {
      "cell_type": "code",
      "source": [
        "mean = train_data.mean(axis=0)\n",
        "train_data -= mean\n",
        "std = train_data.std(axis=0)\n",
        "train_data /= std\n",
        "test_data -= mean\n",
        "test_data /= std"
      ],
      "metadata": {
        "id": "zPsSKGNUvE_l"
      },
      "execution_count": 5,
      "outputs": []
    },
    {
      "cell_type": "markdown",
      "source": [
        "Building your network"
      ],
      "metadata": {
        "id": "YIUUFFzmxfSP"
      }
    },
    {
      "cell_type": "markdown",
      "source": [
        "از آنجایی که نمونه های کمی در دسترس است، از یک شبکه بسیار کوچک با دو لایه مخفی استفاده خواهید کرد\n",
        "هر کدام با 64 واحد. به طور کلی، هرچه داده های آموزشی کمتری داشته باشید، اضافه برازش بدتر خواهد بود و استفاده از یک شبکه کوچک یکی از راه های کاهش اضافه برازش است."
      ],
      "metadata": {
        "id": "kvFAXwIVy4Yg"
      }
    },
    {
      "cell_type": "markdown",
      "source": [
        "شبکه با یک واحد و بدون فعال سازی به پایان می رسد (این یک لایه خطی خواهد بود). این هست\n",
        "یک تنظیم معمولی برای رگرسیون اسکالر (رگرسیونی که در آن شما سعی می کنید یک واحد را پیش بینی کنید\n",
        "مقدار پیوسته). اعمال یک تابع فعال سازی محدوده ای را که خروجی می تواند بگیرد محدود می کند. به عنوان مثال، اگر یک تابع فعال سازی سیگموئید را در آخرین لایه اعمال کنید،\n",
        "شبکه فقط می تواند یاد بگیرد که مقادیر بین 0 و 1 را پیش بینی کند. در اینجا، زیرا آخرین\n",
        "لایه کاملاً خطی است، شبکه آزاد است تا پیش بینی مقادیر را در هر محدوده ای بیاموزد"
      ],
      "metadata": {
        "id": "tGBxURUKziqY"
      }
    },
    {
      "cell_type": "code",
      "source": [
        "from keras import models\n",
        "from keras import layers\n",
        "def build_model():\n",
        " model = models.Sequential()\n",
        " model.add(layers.Dense(64, activation='relu',\n",
        " input_shape=(train_data.shape[1],)))\n",
        " model.add(layers.Dense(64, activation='relu'))\n",
        " model.add(layers.Dense(1))\n",
        " model.compile(optimizer='rmsprop', loss='mse', metrics=['mae'])\n",
        " return model"
      ],
      "metadata": {
        "id": "J5ti_SxUxgcG"
      },
      "execution_count": null,
      "outputs": []
    }
  ]
}