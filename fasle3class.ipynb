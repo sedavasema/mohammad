{
  "nbformat": 4,
  "nbformat_minor": 0,
  "metadata": {
    "colab": {
      "provenance": [],
      "gpuType": "T4",
      "authorship_tag": "ABX9TyNZ2u+R+RDdSlsrCY22sGhH",
      "include_colab_link": true
    },
    "kernelspec": {
      "name": "python3",
      "display_name": "Python 3"
    },
    "language_info": {
      "name": "python"
    },
    "accelerator": "GPU"
  },
  "cells": [
    {
      "cell_type": "markdown",
      "metadata": {
        "id": "view-in-github",
        "colab_type": "text"
      },
      "source": [
        "<a href=\"https://colab.research.google.com/github/sedavasema/mohammad/blob/main/fasle3class.ipynb\" target=\"_parent\"><img src=\"https://colab.research.google.com/assets/colab-badge.svg\" alt=\"Open In Colab\"/></a>"
      ]
    },
    {
      "cell_type": "markdown",
      "source": [
        "# The IMDB dataset"
      ],
      "metadata": {
        "id": "aQK-wlrtMKU5"
      }
    },
    {
      "cell_type": "code",
      "execution_count": null,
      "metadata": {
        "id": "gbKFJD3UL_mO"
      },
      "outputs": [],
      "source": [
        "from keras.datasets import imdb"
      ]
    },
    {
      "cell_type": "code",
      "source": [
        "(train_data, train_labels), (test_data, test_labels) = imdb.load_data(num_words=10000)"
      ],
      "metadata": {
        "id": "Ahx2RwgYMxFY"
      },
      "execution_count": null,
      "outputs": []
    },
    {
      "cell_type": "code",
      "source": [
        "train_data.shape"
      ],
      "metadata": {
        "colab": {
          "base_uri": "https://localhost:8080/"
        },
        "id": "VBWlZa2zNsdV",
        "outputId": "aa769540-e4fd-42a5-fa70-99bc563630c8"
      },
      "execution_count": null,
      "outputs": [
        {
          "output_type": "execute_result",
          "data": {
            "text/plain": [
              "(25000,)"
            ]
          },
          "metadata": {},
          "execution_count": 3
        }
      ]
    },
    {
      "cell_type": "code",
      "source": [
        "list0=train_data[0]\n",
        "list1=train_data[1]\n",
        "lable0=train_labels[0]\n",
        "#for i in range(len(list0)):\n",
        "  #print(list0[i])"
      ],
      "metadata": {
        "id": "93RndC4WOlza"
      },
      "execution_count": null,
      "outputs": []
    },
    {
      "cell_type": "code",
      "source": [
        "#for sequence in train_data:\n",
        "#  print(max(sequence))\n",
        "max([max(sequence)for sequence in train_data])  "
      ],
      "metadata": {
        "colab": {
          "base_uri": "https://localhost:8080/"
        },
        "id": "Qj0bcerLQom9",
        "outputId": "3cb9aefa-03ae-4c85-909a-77c35445cdba"
      },
      "execution_count": null,
      "outputs": [
        {
          "output_type": "execute_result",
          "data": {
            "text/plain": [
              "9999"
            ]
          },
          "metadata": {},
          "execution_count": 5
        }
      ]
    },
    {
      "cell_type": "code",
      "source": [
        "word_index = imdb.get_word_index()"
      ],
      "metadata": {
        "id": "eWw9XWWx3OPw"
      },
      "execution_count": null,
      "outputs": []
    },
    {
      "cell_type": "code",
      "source": [
        "word_index.items()"
      ],
      "metadata": {
        "id": "2NN_dZvYb5VV"
      },
      "execution_count": null,
      "outputs": []
    },
    {
      "cell_type": "markdown",
      "source": [
        "جای عدد و کلمه را برعکس کردیم تا بتوان از روی عدد کلمه را پیدا کرد"
      ],
      "metadata": {
        "id": "zWdN82V25mUQ"
      }
    },
    {
      "cell_type": "code",
      "source": [
        "reverse_word_index = dict([(value, key) for (key, value) in word_index.items()])\n",
        "decoded_review = ' '.join([reverse_word_index.get(i - 3, '?') for i in train_data[1]])"
      ],
      "metadata": {
        "id": "UIbXhHl3Vxm7"
      },
      "execution_count": null,
      "outputs": []
    },
    {
      "cell_type": "code",
      "source": [
        "reverse_word_index.get(1,'?')"
      ],
      "metadata": {
        "colab": {
          "base_uri": "https://localhost:8080/",
          "height": 36
        },
        "id": "vs8b8HmyXcWu",
        "outputId": "d46fda81-ca8b-47a3-c88e-c86bc6ce4846"
      },
      "execution_count": null,
      "outputs": [
        {
          "output_type": "execute_result",
          "data": {
            "text/plain": [
              "'the'"
            ],
            "application/vnd.google.colaboratory.intrinsic+json": {
              "type": "string"
            }
          },
          "metadata": {},
          "execution_count": 16
        }
      ]
    },
    {
      "cell_type": "markdown",
      "source": [
        "ما 10000 تا کلمه در متن داریم اگر در آن ده هزارتا جای خالی بود به جای آن یک و در غیر اینصورت به جای آن صفر میگذاریم"
      ],
      "metadata": {
        "id": "Vcxcpqq353L3"
      }
    },
    {
      "cell_type": "code",
      "source": [
        "import numpy as np\n",
        "def vectorize_sequences(sequences, dimension=10000):\n",
        " results = np.zeros((len(sequences), dimension))\n",
        " for i, sequence in enumerate(sequences):\n",
        "  results[i, sequence] = 1.\n",
        " return results\n",
        "x_train = vectorize_sequences(train_data)\n",
        "x_test = vectorize_sequences(test_data)"
      ],
      "metadata": {
        "id": "Gb1sqvhZegGs"
      },
      "execution_count": null,
      "outputs": []
    },
    {
      "cell_type": "markdown",
      "source": [
        "تست راه کار عجیب بالا::"
      ],
      "metadata": {
        "id": "XfqpUl_F6jT_"
      }
    },
    {
      "cell_type": "code",
      "source": [
        "results = np.zeros((1, 20))\n",
        "results[0,[1,6,2,3,7,10]]=1.\n",
        "for i in range(15):\n",
        "  print(results[0][i])"
      ],
      "metadata": {
        "colab": {
          "base_uri": "https://localhost:8080/"
        },
        "id": "VjwyS84Ox9w2",
        "outputId": "c4cb8113-e11a-4d7a-dcd1-33c0270ed29e"
      },
      "execution_count": null,
      "outputs": [
        {
          "output_type": "stream",
          "name": "stdout",
          "text": [
            "0.0\n",
            "1.0\n",
            "1.0\n",
            "1.0\n",
            "0.0\n",
            "0.0\n",
            "1.0\n",
            "1.0\n",
            "0.0\n",
            "0.0\n",
            "1.0\n",
            "0.0\n",
            "0.0\n",
            "0.0\n",
            "0.0\n"
          ]
        }
      ]
    },
    {
      "cell_type": "code",
      "source": [
        "a=[\"Mohammad\",\"Ali\",\"Hasan\",\"Hossein\"]\n",
        "for i,j in enumerate(a):\n",
        "    print(i,j)"
      ],
      "metadata": {
        "colab": {
          "base_uri": "https://localhost:8080/"
        },
        "id": "fadY-MO8iNEZ",
        "outputId": "753dcf9c-7f58-4d3f-9678-b30f4a0834cd"
      },
      "execution_count": null,
      "outputs": [
        {
          "output_type": "stream",
          "name": "stdout",
          "text": [
            "0 Mohammad\n",
            "1 Ali\n",
            "2 Hasan\n",
            "3 Hossein\n"
          ]
        }
      ]
    },
    {
      "cell_type": "code",
      "source": [
        "y_train = np.asarray(train_labels).astype('float32')\n",
        "y_test = np.asarray(test_labels).astype('float32')"
      ],
      "metadata": {
        "id": "x837r_DYznlP"
      },
      "execution_count": null,
      "outputs": []
    },
    {
      "cell_type": "code",
      "source": [
        "from keras import models\n",
        "from keras import layers\n",
        "model = models.Sequential()\n",
        "model.add(layers.Dense(16, activation='relu', input_shape=(10000,)))\n",
        "model.add(layers.Dense(16, activation='relu'))\n",
        "model.add(layers.Dense(1, activation='sigmoid'))\n"
      ],
      "metadata": {
        "id": "euXDkLxy8NDI"
      },
      "execution_count": null,
      "outputs": []
    },
    {
      "cell_type": "code",
      "source": [
        "model.compile(optimizer='rmsprop',loss='binary_crossentropy',metrics=['accuracy'])"
      ],
      "metadata": {
        "id": "Tq3mFm83Cfaw"
      },
      "execution_count": null,
      "outputs": []
    },
    {
      "cell_type": "markdown",
      "source": [
        "یا میتوان تابع اپتیمایزر را اینگونه صدا کرد"
      ],
      "metadata": {
        "id": "_2MTn_RxDNDV"
      }
    },
    {
      "cell_type": "code",
      "source": [
        "from keras import optimizers\n",
        "model.compile(optimizer=optimizers.RMSprop(learning_rate=0.001),loss='binary_crossentropy',metrics=['accuracy'])\n"
      ],
      "metadata": {
        "id": "ku3tffz4Clqn"
      },
      "execution_count": null,
      "outputs": []
    },
    {
      "cell_type": "markdown",
      "source": [
        "و همچنین توابه لاس فانکشن و اکیوریسی"
      ],
      "metadata": {
        "id": "UlDeQiHlDY6m"
      }
    },
    {
      "cell_type": "code",
      "source": [
        "from keras import optimizers\n",
        "from keras import losses\n",
        "from keras import metrics\n",
        "model.compile(optimizer=optimizers.RMSprop(learning_rate=0.001),\n",
        "loss=losses.binary_crossentropy,\n",
        "metrics=[metrics.binary_accuracy])"
      ],
      "metadata": {
        "id": "RlNM7YKIDZXl"
      },
      "execution_count": null,
      "outputs": []
    },
    {
      "cell_type": "markdown",
      "source": [
        "Setting aside a validation set"
      ],
      "metadata": {
        "id": "L9_rgsTREEnZ"
      }
    },
    {
      "cell_type": "code",
      "source": [
        "x_val = x_train[:10000]\n",
        "partial_x_train = x_train[10000:]\n",
        "y_val = y_train[:10000]\n",
        "partial_y_train = y_train[10000:]"
      ],
      "metadata": {
        "id": "N6-tYeADEGFZ"
      },
      "execution_count": null,
      "outputs": []
    },
    {
      "cell_type": "code",
      "source": [
        "history = model.fit(partial_x_train,\n",
        "partial_y_train,\n",
        "epochs=20,\n",
        "batch_size=512,\n",
        "validation_data=(x_val, y_val))"
      ],
      "metadata": {
        "colab": {
          "base_uri": "https://localhost:8080/"
        },
        "id": "BRygEma_EOxI",
        "outputId": "6f1efdb9-482d-423e-ab03-1ef80fd7a171"
      },
      "execution_count": null,
      "outputs": [
        {
          "output_type": "stream",
          "name": "stdout",
          "text": [
            "Epoch 1/20\n",
            "30/30 [==============================] - 4s 113ms/step - loss: 0.0528 - accuracy: 0.9866 - val_loss: 0.4007 - val_accuracy: 0.8699\n",
            "Epoch 2/20\n",
            "30/30 [==============================] - 2s 74ms/step - loss: 0.0473 - accuracy: 0.9882 - val_loss: 0.4057 - val_accuracy: 0.8784\n",
            "Epoch 3/20\n",
            "30/30 [==============================] - 3s 94ms/step - loss: 0.0405 - accuracy: 0.9914 - val_loss: 0.4552 - val_accuracy: 0.8645\n",
            "Epoch 4/20\n",
            "30/30 [==============================] - 3s 104ms/step - loss: 0.0346 - accuracy: 0.9925 - val_loss: 0.4590 - val_accuracy: 0.8700\n",
            "Epoch 5/20\n",
            "30/30 [==============================] - 2s 58ms/step - loss: 0.0281 - accuracy: 0.9950 - val_loss: 0.4791 - val_accuracy: 0.8732\n",
            "Epoch 6/20\n",
            "30/30 [==============================] - 2s 75ms/step - loss: 0.0223 - accuracy: 0.9969 - val_loss: 0.5030 - val_accuracy: 0.8701\n",
            "Epoch 7/20\n",
            "30/30 [==============================] - 1s 35ms/step - loss: 0.0221 - accuracy: 0.9963 - val_loss: 0.5248 - val_accuracy: 0.8718\n",
            "Epoch 8/20\n",
            "30/30 [==============================] - 2s 54ms/step - loss: 0.0195 - accuracy: 0.9959 - val_loss: 0.5488 - val_accuracy: 0.8725\n",
            "Epoch 9/20\n",
            "30/30 [==============================] - 4s 132ms/step - loss: 0.0126 - accuracy: 0.9993 - val_loss: 0.5751 - val_accuracy: 0.8726\n",
            "Epoch 10/20\n",
            "30/30 [==============================] - 2s 74ms/step - loss: 0.0142 - accuracy: 0.9980 - val_loss: 0.5983 - val_accuracy: 0.8680\n",
            "Epoch 11/20\n",
            "30/30 [==============================] - 3s 92ms/step - loss: 0.0126 - accuracy: 0.9987 - val_loss: 0.6202 - val_accuracy: 0.8687\n",
            "Epoch 12/20\n",
            "30/30 [==============================] - 2s 73ms/step - loss: 0.0118 - accuracy: 0.9975 - val_loss: 0.6568 - val_accuracy: 0.8660\n",
            "Epoch 13/20\n",
            "30/30 [==============================] - 2s 58ms/step - loss: 0.0058 - accuracy: 0.9998 - val_loss: 0.6658 - val_accuracy: 0.8669\n",
            "Epoch 14/20\n",
            "30/30 [==============================] - 1s 37ms/step - loss: 0.0069 - accuracy: 0.9996 - val_loss: 0.7963 - val_accuracy: 0.8504\n",
            "Epoch 15/20\n",
            "30/30 [==============================] - 3s 93ms/step - loss: 0.0091 - accuracy: 0.9981 - val_loss: 0.7024 - val_accuracy: 0.8657\n",
            "Epoch 16/20\n",
            "30/30 [==============================] - 2s 53ms/step - loss: 0.0070 - accuracy: 0.9990 - val_loss: 0.7242 - val_accuracy: 0.8664\n",
            "Epoch 17/20\n",
            "30/30 [==============================] - 3s 94ms/step - loss: 0.0033 - accuracy: 0.9999 - val_loss: 0.7878 - val_accuracy: 0.8666\n",
            "Epoch 18/20\n",
            "30/30 [==============================] - 3s 105ms/step - loss: 0.0099 - accuracy: 0.9977 - val_loss: 0.7737 - val_accuracy: 0.8657\n",
            "Epoch 19/20\n",
            "30/30 [==============================] - 2s 75ms/step - loss: 0.0024 - accuracy: 0.9999 - val_loss: 0.7830 - val_accuracy: 0.8661\n",
            "Epoch 20/20\n",
            "30/30 [==============================] - 2s 70ms/step - loss: 0.0029 - accuracy: 0.9997 - val_loss: 0.9637 - val_accuracy: 0.8477\n"
          ]
        }
      ]
    },
    {
      "cell_type": "code",
      "source": [
        "history_dict = history.history\n",
        "history_dict.keys()"
      ],
      "metadata": {
        "colab": {
          "base_uri": "https://localhost:8080/"
        },
        "id": "LrlUqAhVEsAT",
        "outputId": "82af8d25-219e-47a0-f11e-81c3a838f7af"
      },
      "execution_count": null,
      "outputs": [
        {
          "output_type": "execute_result",
          "data": {
            "text/plain": [
              "dict_keys(['loss', 'accuracy', 'val_loss', 'val_accuracy'])"
            ]
          },
          "metadata": {},
          "execution_count": 38
        }
      ]
    },
    {
      "cell_type": "markdown",
      "source": [
        "Plotting the training and validation loss"
      ],
      "metadata": {
        "id": "wfwQBzQIFOmy"
      }
    },
    {
      "cell_type": "code",
      "source": [
        "import matplotlib.pyplot as plt\n",
        "history_dict = history.history\n",
        "loss_values = history_dict['loss']\n",
        "val_loss_values = history_dict['val_loss']\n",
        "\n",
        "epochs = range(1, len(loss_values) + 1)\n",
        "\n",
        "plt.plot(epochs, loss_values, 'bo', label='Training loss')\n",
        "plt.plot(epochs, val_loss_values, 'b', label='Validation loss')\n",
        "plt.title('Training and validation loss')\n",
        "plt.xlabel('Epochs')\n",
        "plt.ylabel('Loss')\n",
        "plt.legend()\n",
        "plt.show()"
      ],
      "metadata": {
        "colab": {
          "base_uri": "https://localhost:8080/",
          "height": 472
        },
        "id": "jvPxvuQDFPnJ",
        "outputId": "3ad89ba2-ea07-467b-8fb2-4ca8abcf3890"
      },
      "execution_count": null,
      "outputs": [
        {
          "output_type": "display_data",
          "data": {
            "text/plain": [
              "<Figure size 640x480 with 1 Axes>"
            ],
            "image/png": "[encoded data removed]"
          },
          "metadata": {}
        }
      ]
    },
    {
      "cell_type": "markdown",
      "source": [
        "Plotting the training and validation accuracy"
      ],
      "metadata": {
        "id": "Frdr210RIG3R"
      }
    },
    {
      "cell_type": "code",
      "source": [
        "plt.clf()\n",
        "acc_values = history_dict['accuracy']\n",
        "val_acc_values = history_dict['val_accuracy']\n",
        "plt.plot(epochs, acc_values, 'bo', label='Training acc')\n",
        "plt.plot(epochs, val_acc_values, 'b', label='Validation acc')\n",
        "plt.title('Training and validation accuracy')\n",
        "plt.xlabel('Epochs')\n",
        "plt.ylabel('Loss')\n",
        "plt.legend()\n",
        "plt.show()\n"
      ],
      "metadata": {
        "colab": {
          "base_uri": "https://localhost:8080/",
          "height": 472
        },
        "id": "3Mz3h_7bIIjU",
        "outputId": "09664bfa-7e3d-477a-9aef-6e20070e88cb"
      },
      "execution_count": null,
      "outputs": [
        {
          "output_type": "display_data",
          "data": {
            "text/plain": [
              "<Figure size 640x480 with 1 Axes>"
            ],
            "image/png": "[encoded data removed]"
          },
          "metadata": {}
        }
      ]
    },
    {
      "cell_type": "markdown",
      "source": [
        "دیدیم که مدل اور فیت شده است پس بیایید آن را از اول اموزش دهیم با کل داده ها و ارزیابی کنیم با داده های تست"
      ],
      "metadata": {
        "id": "qqiH7mbAJJkI"
      }
    },
    {
      "cell_type": "code",
      "source": [
        "model = models.Sequential()\n",
        "model.add(layers.Dense(16, activation='relu', input_shape=(10000,)))\n",
        "model.add(layers.Dense(16, activation='relu'))\n",
        "model.add(layers.Dense(1, activation='sigmoid'))\n",
        "model.compile(optimizer='rmsprop',\n",
        "loss='binary_crossentropy',\n",
        "metrics=['accuracy'])\n",
        "model.fit(x_train, y_train, epochs=20, batch_size=512)"
      ],
      "metadata": {
        "colab": {
          "base_uri": "https://localhost:8080/"
        },
        "id": "EYjrG3f7JXBV",
        "outputId": "50ed8402-402d-4b42-cd01-b1b9b4c9bbef"
      },
      "execution_count": null,
      "outputs": [
        {
          "output_type": "stream",
          "name": "stdout",
          "text": [
            "Epoch 1/20\n",
            "49/49 [==============================] - 5s 81ms/step - loss: 0.4772 - accuracy: 0.8107\n",
            "Epoch 2/20\n",
            "49/49 [==============================] - 3s 62ms/step - loss: 0.2809 - accuracy: 0.9035\n",
            "Epoch 3/20\n",
            "49/49 [==============================] - 4s 74ms/step - loss: 0.2203 - accuracy: 0.9206\n",
            "Epoch 4/20\n",
            "49/49 [==============================] - 5s 103ms/step - loss: 0.1849 - accuracy: 0.9329\n",
            "Epoch 5/20\n",
            "49/49 [==============================] - 4s 87ms/step - loss: 0.1625 - accuracy: 0.9422\n",
            "Epoch 6/20\n",
            "49/49 [==============================] - 3s 62ms/step - loss: 0.1441 - accuracy: 0.9501\n",
            "Epoch 7/20\n",
            "49/49 [==============================] - 2s 49ms/step - loss: 0.1292 - accuracy: 0.9554\n",
            "Epoch 8/20\n",
            "49/49 [==============================] - 6s 116ms/step - loss: 0.1158 - accuracy: 0.9610\n",
            "Epoch 9/20\n",
            "49/49 [==============================] - 2s 50ms/step - loss: 0.1014 - accuracy: 0.9668\n",
            "Epoch 10/20\n",
            "49/49 [==============================] - 5s 113ms/step - loss: 0.0955 - accuracy: 0.9686\n",
            "Epoch 11/20\n",
            "49/49 [==============================] - 3s 59ms/step - loss: 0.0804 - accuracy: 0.9744\n",
            "Epoch 12/20\n",
            "49/49 [==============================] - 2s 50ms/step - loss: 0.0745 - accuracy: 0.9773\n",
            "Epoch 13/20\n",
            "49/49 [==============================] - 4s 73ms/step - loss: 0.0635 - accuracy: 0.9823\n",
            "Epoch 14/20\n",
            "49/49 [==============================] - 3s 72ms/step - loss: 0.0560 - accuracy: 0.9840\n",
            "Epoch 15/20\n",
            "49/49 [==============================] - 4s 77ms/step - loss: 0.0509 - accuracy: 0.9866\n",
            "Epoch 16/20\n",
            "49/49 [==============================] - 4s 72ms/step - loss: 0.0426 - accuracy: 0.9895\n",
            "Epoch 17/20\n",
            "49/49 [==============================] - 2s 49ms/step - loss: 0.0376 - accuracy: 0.9910\n",
            "Epoch 18/20\n",
            "49/49 [==============================] - 3s 72ms/step - loss: 0.0324 - accuracy: 0.9918\n",
            "Epoch 19/20\n",
            "49/49 [==============================] - 4s 73ms/step - loss: 0.0272 - accuracy: 0.9940\n",
            "Epoch 20/20\n",
            "49/49 [==============================] - 2s 51ms/step - loss: 0.0210 - accuracy: 0.9960\n"
          ]
        },
        {
          "output_type": "execute_result",
          "data": {
            "text/plain": [
              "<keras.callbacks.History at 0x7f52fb287e80>"
            ]
          },
          "metadata": {},
          "execution_count": 58
        }
      ]
    },
    {
      "cell_type": "markdown",
      "source": [
        "# The same model is defined using the functional API:"
      ],
      "metadata": {
        "id": "mbYfK_GJPf19"
      }
    },
    {
      "cell_type": "code",
      "source": [
        "input_tensor = layers.Input(shape=(10000,))\n",
        "x = layers.Dense(16, activation='relu')(input_tensor)\n",
        "x = layers.Dense(16, activation='relu')(x)\n",
        "output_tensor = layers.Dense(1, activation='sigmoid')(x)\n",
        "model = models.Model(inputs=input_tensor, outputs=output_tensor)\n",
        "model.compile(optimizer='rmsprop',\n",
        "loss='binary_crossentropy',\n",
        "metrics=['accuracy'])\n",
        "model.fit(x_train, y_train, epochs=5, batch_size=512)"
      ],
      "metadata": {
        "colab": {
          "base_uri": "https://localhost:8080/"
        },
        "id": "3VS3WeKYPgQK",
        "outputId": "d34d3da3-4435-4a78-83ea-24e563905457"
      },
      "execution_count": null,
      "outputs": [
        {
          "output_type": "stream",
          "name": "stdout",
          "text": [
            "Epoch 1/5\n",
            "49/49 [==============================] - 6s 112ms/step - loss: 0.4492 - accuracy: 0.8181\n",
            "Epoch 2/5\n",
            "49/49 [==============================] - 3s 62ms/step - loss: 0.2651 - accuracy: 0.9062\n",
            "Epoch 3/5\n",
            "49/49 [==============================] - 5s 95ms/step - loss: 0.2106 - accuracy: 0.9252\n",
            "Epoch 4/5\n",
            "49/49 [==============================] - 2s 49ms/step - loss: 0.1761 - accuracy: 0.9384\n",
            "Epoch 5/5\n",
            "49/49 [==============================] - 4s 74ms/step - loss: 0.1561 - accuracy: 0.9436\n"
          ]
        },
        {
          "output_type": "execute_result",
          "data": {
            "text/plain": [
              "<keras.callbacks.History at 0x7f52fb461390>"
            ]
          },
          "metadata": {},
          "execution_count": 63
        }
      ]
    },
    {
      "cell_type": "code",
      "source": [
        "results = model.evaluate(x_test, y_test)"
      ],
      "metadata": {
        "colab": {
          "base_uri": "https://localhost:8080/"
        },
        "id": "PqLk_H1yJgM_",
        "outputId": "0f544b56-074c-43a2-fc65-cf52c937a2f1"
      },
      "execution_count": null,
      "outputs": [
        {
          "output_type": "stream",
          "name": "stdout",
          "text": [
            "782/782 [==============================] - 6s 7ms/step - loss: 0.6892 - accuracy: 0.8546\n"
          ]
        }
      ]
    },
    {
      "cell_type": "code",
      "source": [
        "y_test_pridict=model.predict(x_test)"
      ],
      "metadata": {
        "colab": {
          "base_uri": "https://localhost:8080/"
        },
        "id": "aqwBGuSBJ6SH",
        "outputId": "24e2f50e-e840-446e-c120-222c80ded930"
      },
      "execution_count": null,
      "outputs": [
        {
          "output_type": "stream",
          "name": "stdout",
          "text": [
            "782/782 [==============================] - 5s 6ms/step\n"
          ]
        }
      ]
    },
    {
      "cell_type": "code",
      "source": [
        "y_test_pridict=y_test_pridict.reshape((25000,))\n",
        "y_test_pridict=np.round(y_test_pridict)\n",
        "\n",
        "print(y_test_pridict[:20])\n",
        "print(y_test[:20])"
      ],
      "metadata": {
        "colab": {
          "base_uri": "https://localhost:8080/"
        },
        "id": "71u0V6OoLwCv",
        "outputId": "d874b137-7f60-4c8d-a198-1369b0689ee5"
      },
      "execution_count": null,
      "outputs": [
        {
          "output_type": "stream",
          "name": "stdout",
          "text": [
            "[0. 1. 1. 1. 1. 1. 1. 0. 1. 1. 1. 0. 0. 1. 1. 0. 1. 1. 0. 0.]\n",
            "[0. 1. 1. 0. 1. 1. 1. 0. 0. 1. 1. 0. 0. 0. 1. 0. 1. 0. 0. 0.]\n"
          ]
        }
      ]
    },
    {
      "cell_type": "markdown",
      "source": [
        "# Classifying newswires:\n",
        "a multiclass classification example\n",
        "# :طبقه بندی اخبار\n",
        "یک مثال طبقه بندی چند کلاسه"
      ],
      "metadata": {
        "id": "_YJhgCfxTBMg"
      }
    },
    {
      "cell_type": "markdown",
      "source": [
        "There\n",
        "are 46 different topics; some topics are more represented than others, but each topic\n",
        "has at least 10 examples in the training set."
      ],
      "metadata": {
        "id": "Q7pC8V49U0hw"
      }
    },
    {
      "cell_type": "code",
      "source": [
        "from keras.datasets import reuters\n",
        "(train_data, train_labels), (test_data, test_labels) = reuters.load_data(num_words=10000)"
      ],
      "metadata": {
        "id": "yzf2s4bqTV6j",
        "colab": {
          "base_uri": "https://localhost:8080/"
        },
        "outputId": "20f0ae00-680a-46d3-d160-26e42a50aca2"
      },
      "execution_count": null,
      "outputs": [
        {
          "output_type": "stream",
          "name": "stdout",
          "text": [
            "Downloading data from https://storage.googleapis.com/tensorflow/tf-keras-datasets/reuters.npz\n",
            "2110848/2110848 [==============================] - 1s 1us/step\n"
          ]
        }
      ]
    },
    {
      "cell_type": "markdown",
      "source": [
        "مثلا کد سه مربوط به اخبار اقتصادی بازار سهام است"
      ],
      "metadata": {
        "id": "KbYW8I8UV88q"
      }
    },
    {
      "cell_type": "code",
      "source": [
        "word_index = reuters.get_word_index()\n",
        "reverse_word_index = dict([(value, key) for (key, value) in word_index.items()])\n",
        "decoded_newswire = ' '.join([reverse_word_index.get(i - 3, '?') for i in train_data[2]])"
      ],
      "metadata": {
        "id": "DsbYv0AbV9I6"
      },
      "execution_count": null,
      "outputs": []
    },
    {
      "cell_type": "code",
      "source": [
        "train_labels[2]"
      ],
      "metadata": {
        "colab": {
          "base_uri": "https://localhost:8080/"
        },
        "id": "PlFo2T0XYcnR",
        "outputId": "369ab96c-deb1-48f0-ce4b-9e2770754448"
      },
      "execution_count": null,
      "outputs": [
        {
          "output_type": "execute_result",
          "data": {
            "text/plain": [
              "3"
            ]
          },
          "metadata": {},
          "execution_count": 7
        }
      ]
    },
    {
      "cell_type": "markdown",
      "source": [
        "Encoding the data"
      ],
      "metadata": {
        "id": "s8K9k5gtZGf5"
      }
    },
    {
      "cell_type": "code",
      "source": [
        "import numpy as np\n",
        "def vectorize_sequences(sequences, dimension=10000):\n",
        " results = np.zeros((len(sequences), dimension))\n",
        " for i, sequence in enumerate(sequences):\n",
        "  results[i, sequence] = 1.\n",
        " return results\n",
        "x_train = vectorize_sequences(train_data)\n",
        "x_test = vectorize_sequences(test_data)"
      ],
      "metadata": {
        "id": "QCZzHD_vZHma"
      },
      "execution_count": null,
      "outputs": []
    },
    {
      "cell_type": "markdown",
      "source": [
        "To vectorize the labels, there are two possibilities: you can cast the label list as an integer tensor, or you can use one-hot encoding. One-hot encoding is a widely used format for categorical data, also called categorical encoding"
      ],
      "metadata": {
        "id": "zr7fWMFnaGdb"
      }
    },
    {
      "cell_type": "markdown",
      "source": [
        "روش اول برای وان هات کردن"
      ],
      "metadata": {
        "id": "fCwB0GhKbNyv"
      }
    },
    {
      "cell_type": "code",
      "source": [
        "def to_one_hot(labels, dimension=46):\n",
        " results = np.zeros((len(labels), dimension))\n",
        " for i, label in enumerate(labels):\n",
        "  results[i, label] = 1.\n",
        " return results\n",
        "one_hot_train_labels = to_one_hot(train_labels)\n",
        "one_hot_test_labels = to_one_hot(test_labels)\n",
        "print(one_hot_train_labels[0])"
      ],
      "metadata": {
        "colab": {
          "base_uri": "https://localhost:8080/"
        },
        "id": "doIJYOoFaH5k",
        "outputId": "cdeb6a13-3b9f-409b-cc44-4ef7268ebe4b"
      },
      "execution_count": null,
      "outputs": [
        {
          "output_type": "stream",
          "name": "stdout",
          "text": [
            "[0. 0. 0. 1. 0. 0. 0. 0. 0. 0. 0. 0. 0. 0. 0. 0. 0. 0. 0. 0. 0. 0. 0. 0.\n",
            " 0. 0. 0. 0. 0. 0. 0. 0. 0. 0. 0. 0. 0. 0. 0. 0. 0. 0. 0. 0. 0. 0.]\n"
          ]
        }
      ]
    },
    {
      "cell_type": "markdown",
      "source": [
        "روش دوم برای وان هات کردن"
      ],
      "metadata": {
        "id": "ca5AKVPab3MN"
      }
    },
    {
      "cell_type": "code",
      "source": [
        "from keras.utils.np_utils import to_categorical\n",
        "one_hot_train_labels = to_categorical(train_labels)\n",
        "one_hot_test_labels = to_categorical(test_labels)\n",
        "print(one_hot_train_labels[0])"
      ],
      "metadata": {
        "colab": {
          "base_uri": "https://localhost:8080/"
        },
        "id": "0cHiCFaLb7nk",
        "outputId": "2e8e0df4-be5d-4e59-9f61-e897c1e63c53"
      },
      "execution_count": null,
      "outputs": [
        {
          "output_type": "stream",
          "name": "stdout",
          "text": [
            "[0. 0. 0. 1. 0. 0. 0. 0. 0. 0. 0. 0. 0. 0. 0. 0. 0. 0. 0. 0. 0. 0. 0. 0.\n",
            " 0. 0. 0. 0. 0. 0. 0. 0. 0. 0. 0. 0. 0. 0. 0. 0. 0. 0. 0. 0. 0. 0.]\n"
          ]
        }
      ]
    },
    {
      "cell_type": "markdown",
      "source": [
        "Building your network"
      ],
      "metadata": {
        "id": "eLkRhtx2cPBi"
      }
    },
    {
      "cell_type": "code",
      "source": [
        "from keras import models\n",
        "from keras import layers\n",
        "model = models.Sequential()\n",
        "model.add(layers.Input(shape=(10000,)))\n",
        "#model.add(layers.Dense(64, activation='relu', input_shape=(10000,)))\n",
        "model.add(layers.Dense(64, activation='relu'))\n",
        "model.add(layers.Dense(64, activation='relu'))\n",
        "model.add(layers.Dense(46, activation='softmax'))"
      ],
      "metadata": {
        "id": "-ymjgJhIcPq8"
      },
      "execution_count": null,
      "outputs": []
    },
    {
      "cell_type": "markdown",
      "source": [
        "Compiling the model"
      ],
      "metadata": {
        "id": "VC1uBeC6dfE5"
      }
    },
    {
      "cell_type": "code",
      "source": [
        "model.compile(optimizer='rmsprop',\n",
        "loss='categorical_crossentropy',\n",
        "metrics=['accuracy'])\n"
      ],
      "metadata": {
        "id": "WiQdKRqrdeZJ"
      },
      "execution_count": null,
      "outputs": []
    },
    {
      "cell_type": "markdown",
      "source": [
        "Validating your approach"
      ],
      "metadata": {
        "id": "I6TEVIjhd_uO"
      }
    },
    {
      "cell_type": "code",
      "source": [
        "x_val = x_train[:1000]\n",
        "partial_x_train = x_train[1000:]\n",
        "y_val = one_hot_train_labels[:1000]\n",
        "partial_y_train = one_hot_train_labels[1000:]"
      ],
      "metadata": {
        "id": "JNj5-gRIeAzS"
      },
      "execution_count": null,
      "outputs": []
    },
    {
      "cell_type": "markdown",
      "source": [
        " Training the model"
      ],
      "metadata": {
        "id": "op6DpaKteOjF"
      }
    },
    {
      "cell_type": "code",
      "source": [
        "history = model.fit(partial_x_train,\n",
        "partial_y_train,\n",
        "epochs=20,\n",
        "batch_size=512,\n",
        "validation_data=(x_val, y_val))"
      ],
      "metadata": {
        "colab": {
          "base_uri": "https://localhost:8080/"
        },
        "id": "e4oqG7z1ePam",
        "outputId": "0711c7f9-d75d-44a5-d3e5-808d328cc5dd"
      },
      "execution_count": null,
      "outputs": [
        {
          "output_type": "stream",
          "name": "stdout",
          "text": [
            "Epoch 1/20\n",
            "16/16 [==============================] - 6s 40ms/step - loss: 2.7114 - accuracy: 0.5006 - val_loss: 1.8547 - val_accuracy: 0.6290\n",
            "Epoch 2/20\n",
            "16/16 [==============================] - 1s 36ms/step - loss: 1.5541 - accuracy: 0.6763 - val_loss: 1.3808 - val_accuracy: 0.6950\n",
            "Epoch 3/20\n",
            "16/16 [==============================] - 0s 18ms/step - loss: 1.1825 - accuracy: 0.7417 - val_loss: 1.1797 - val_accuracy: 0.7270\n",
            "Epoch 4/20\n",
            "16/16 [==============================] - 0s 17ms/step - loss: 0.9569 - accuracy: 0.7958 - val_loss: 1.0730 - val_accuracy: 0.7600\n",
            "Epoch 5/20\n",
            "16/16 [==============================] - 0s 18ms/step - loss: 0.7933 - accuracy: 0.8321 - val_loss: 1.0178 - val_accuracy: 0.7690\n",
            "Epoch 6/20\n",
            "16/16 [==============================] - 1s 72ms/step - loss: 0.6633 - accuracy: 0.8638 - val_loss: 0.9502 - val_accuracy: 0.7960\n",
            "Epoch 7/20\n",
            "16/16 [==============================] - 1s 39ms/step - loss: 0.5534 - accuracy: 0.8842 - val_loss: 0.9014 - val_accuracy: 0.8140\n",
            "Epoch 8/20\n",
            "16/16 [==============================] - 0s 18ms/step - loss: 0.4703 - accuracy: 0.9033 - val_loss: 0.8960 - val_accuracy: 0.8100\n",
            "Epoch 9/20\n",
            "16/16 [==============================] - 0s 17ms/step - loss: 0.3952 - accuracy: 0.9174 - val_loss: 0.9101 - val_accuracy: 0.7920\n",
            "Epoch 10/20\n",
            "16/16 [==============================] - 1s 85ms/step - loss: 0.3385 - accuracy: 0.9246 - val_loss: 0.8659 - val_accuracy: 0.8090\n",
            "Epoch 11/20\n",
            "16/16 [==============================] - 0s 21ms/step - loss: 0.2912 - accuracy: 0.9347 - val_loss: 0.8532 - val_accuracy: 0.8280\n",
            "Epoch 12/20\n",
            "16/16 [==============================] - 0s 20ms/step - loss: 0.2606 - accuracy: 0.9391 - val_loss: 0.8598 - val_accuracy: 0.8130\n",
            "Epoch 13/20\n",
            "16/16 [==============================] - 1s 71ms/step - loss: 0.2281 - accuracy: 0.9469 - val_loss: 0.8872 - val_accuracy: 0.8050\n",
            "Epoch 14/20\n",
            "16/16 [==============================] - 1s 35ms/step - loss: 0.2054 - accuracy: 0.9503 - val_loss: 0.9077 - val_accuracy: 0.8080\n",
            "Epoch 15/20\n",
            "16/16 [==============================] - 0s 19ms/step - loss: 0.1821 - accuracy: 0.9545 - val_loss: 0.9022 - val_accuracy: 0.8040\n",
            "Epoch 16/20\n",
            "16/16 [==============================] - 0s 19ms/step - loss: 0.1733 - accuracy: 0.9543 - val_loss: 0.9153 - val_accuracy: 0.8080\n",
            "Epoch 17/20\n",
            "16/16 [==============================] - 1s 68ms/step - loss: 0.1600 - accuracy: 0.9549 - val_loss: 0.9263 - val_accuracy: 0.8120\n",
            "Epoch 18/20\n",
            "16/16 [==============================] - 1s 71ms/step - loss: 0.1469 - accuracy: 0.9544 - val_loss: 0.9452 - val_accuracy: 0.8150\n",
            "Epoch 19/20\n",
            "16/16 [==============================] - 0s 17ms/step - loss: 0.1459 - accuracy: 0.9560 - val_loss: 0.9359 - val_accuracy: 0.8080\n",
            "Epoch 20/20\n",
            "16/16 [==============================] - 0s 17ms/step - loss: 0.1340 - accuracy: 0.9568 - val_loss: 0.9708 - val_accuracy: 0.7930\n"
          ]
        }
      ]
    },
    {
      "cell_type": "markdown",
      "source": [
        "Plotting the training and validation loss"
      ],
      "metadata": {
        "id": "FM1XBmKnedLy"
      }
    },
    {
      "cell_type": "code",
      "source": [
        "import matplotlib.pyplot as plt\n",
        "loss = history.history['loss']\n",
        "val_loss = history.history['val_loss']\n",
        "epochs = range(1, len(loss) + 1)\n",
        "plt.plot(epochs, loss, 'bo', label='Training loss')\n",
        "plt.plot(epochs, val_loss, 'b', label='Validation loss')\n",
        "plt.title('Training and validation loss')\n",
        "plt.xlabel('Epochs')\n",
        "plt.ylabel('Loss')\n",
        "plt.legend()\n",
        "plt.show()"
      ],
      "metadata": {
        "colab": {
          "base_uri": "https://localhost:8080/",
          "height": 472
        },
        "id": "JMDftUQ5eeSJ",
        "outputId": "2c309a36-64cf-4698-b4b1-28a98787a808"
      },
      "execution_count": null,
      "outputs": [
        {
          "output_type": "display_data",
          "data": {
            "text/plain": [
              "<Figure size 640x480 with 1 Axes>"
            ],
            "image/png": "[encoded data removed]"
          },
          "metadata": {}
        }
      ]
    },
    {
      "cell_type": "markdown",
      "source": [
        "Plotting the training and validation accuracy"
      ],
      "metadata": {
        "id": "7unp2iD2epqK"
      }
    },
    {
      "cell_type": "code",
      "source": [
        "plt.clf()\n",
        "acc = history.history['accuracy']\n",
        "val_acc = history.history['val_accuracy']\n",
        "plt.plot(epochs, acc, 'bo', label='Training acc')\n",
        "plt.plot(epochs, val_acc, 'b', label='Validation acc')\n",
        "plt.title('Training and validation accuracy')\n",
        "plt.xlabel('Epochs')\n",
        "plt.ylabel('Loss')\n",
        "plt.legend()\n",
        "plt.show()\n"
      ],
      "metadata": {
        "colab": {
          "base_uri": "https://localhost:8080/",
          "height": 472
        },
        "id": "L4anzv5zesC-",
        "outputId": "69c81e1c-f60e-4dcb-d260-84906b5d13ed"
      },
      "execution_count": null,
      "outputs": [
        {
          "output_type": "display_data",
          "data": {
            "text/plain": [
              "<Figure size 640x480 with 1 Axes>"
            ],
            "image/png": "[encoded data removed]"
          },
          "metadata": {}
        }
      ]
    },
    {
      "cell_type": "markdown",
      "source": [
        "Retraining a model from scratch"
      ],
      "metadata": {
        "id": "1xqqwYRZfJxn"
      }
    },
    {
      "cell_type": "code",
      "source": [
        "model = models.Sequential()\n",
        "model.add(layers.Dense(64, activation='relu', input_shape=(10000,)))\n",
        "model.add(layers.Dense(64, activation='relu'))\n",
        "model.add(layers.Dense(46, activation='softmax'))\n",
        "model.compile(optimizer='rmsprop',\n",
        "loss='categorical_crossentropy',\n",
        "metrics=['accuracy'])\n",
        "model.fit(partial_x_train,\n",
        "partial_y_train,\n",
        "epochs=9,\n",
        "batch_size=512,\n",
        "validation_data=(x_val, y_val))\n",
        "results = model.evaluate(x_test, one_hot_test_labels)"
      ],
      "metadata": {
        "colab": {
          "base_uri": "https://localhost:8080/"
        },
        "id": "TUpgltDUfKoe",
        "outputId": "d4df2bb7-8e12-4204-876f-0e0d5c894b91"
      },
      "execution_count": null,
      "outputs": [
        {
          "output_type": "stream",
          "name": "stdout",
          "text": [
            "Epoch 1/9\n",
            "16/16 [==============================] - 2s 47ms/step - loss: 2.8011 - accuracy: 0.4397 - val_loss: 1.9003 - val_accuracy: 0.6260\n",
            "Epoch 2/9\n",
            "16/16 [==============================] - 0s 16ms/step - loss: 1.5824 - accuracy: 0.6784 - val_loss: 1.4105 - val_accuracy: 0.7090\n",
            "Epoch 3/9\n",
            "16/16 [==============================] - 0s 17ms/step - loss: 1.1996 - accuracy: 0.7504 - val_loss: 1.2003 - val_accuracy: 0.7350\n",
            "Epoch 4/9\n",
            "16/16 [==============================] - 0s 16ms/step - loss: 0.9615 - accuracy: 0.7968 - val_loss: 1.0751 - val_accuracy: 0.7650\n",
            "Epoch 5/9\n",
            "16/16 [==============================] - 0s 17ms/step - loss: 0.7892 - accuracy: 0.8307 - val_loss: 1.0011 - val_accuracy: 0.7830\n",
            "Epoch 6/9\n",
            "16/16 [==============================] - 0s 16ms/step - loss: 0.6590 - accuracy: 0.8608 - val_loss: 0.9399 - val_accuracy: 0.7990\n",
            "Epoch 7/9\n",
            "16/16 [==============================] - 1s 33ms/step - loss: 0.5504 - accuracy: 0.8882 - val_loss: 0.9131 - val_accuracy: 0.8090\n",
            "Epoch 8/9\n",
            "16/16 [==============================] - 0s 18ms/step - loss: 0.4647 - accuracy: 0.9044 - val_loss: 0.8792 - val_accuracy: 0.8180\n",
            "Epoch 9/9\n",
            "16/16 [==============================] - 0s 16ms/step - loss: 0.3937 - accuracy: 0.9162 - val_loss: 0.8869 - val_accuracy: 0.8130\n",
            "71/71 [==============================] - 0s 3ms/step - loss: 0.9608 - accuracy: 0.7832\n"
          ]
        }
      ]
    },
    {
      "cell_type": "markdown",
      "source": [
        "این روش به دقت 80% می رسد. با طبقه بندی باینری متعادل\n",
        "مشکل، دقت به دست آمده توسط یک طبقه بندی کاملا تصادفی 50٪ خواهد بود. ولی در\n",
        "این مورد نزدیک به 19٪ است، بنابراین نتایج بسیار خوب به نظر می رسد، حداقل در مقایسه با\n",
        "یک پایه تصادفی:"
      ],
      "metadata": {
        "id": "kl3BXbEghj5f"
      }
    },
    {
      "cell_type": "markdown",
      "source": [
        "This approach reaches an accuracy of ~80%. With a balanced binary classification\n",
        "problem, the accuracy reached by a purely random classifier would be 50%. But in\n",
        "this case it’s closer to 19%, so the results seem pretty good, at least when compared to\n",
        "a random baseline:"
      ],
      "metadata": {
        "id": "qIXvtVQoieSg"
      }
    },
    {
      "cell_type": "code",
      "source": [
        "import copy\n",
        "test_labels_copy = copy.copy(test_labels)\n",
        "np.random.shuffle(test_labels_copy)\n",
        "hits_array = np.array(test_labels) == np.array(test_labels_copy)\n",
        "float(np.sum(hits_array)) / len(test_labels)"
      ],
      "metadata": {
        "colab": {
          "base_uri": "https://localhost:8080/"
        },
        "id": "0JUJ-ZGqhkBc",
        "outputId": "e77f28d4-5c60-49a0-a053-df998311f3d1"
      },
      "execution_count": null,
      "outputs": [
        {
          "output_type": "execute_result",
          "data": {
            "text/plain": [
              "0.18432769367764915"
            ]
          },
          "metadata": {},
          "execution_count": 24
        }
      ]
    },
    {
      "cell_type": "markdown",
      "source": [
        "Generating predictions on new data"
      ],
      "metadata": {
        "id": "vSyzGEfmjEmz"
      }
    },
    {
      "cell_type": "code",
      "source": [
        "predictions = model.predict(x_test)\n",
        "print(predictions.shape)"
      ],
      "metadata": {
        "colab": {
          "base_uri": "https://localhost:8080/"
        },
        "id": "BzEfyj-zjFsi",
        "outputId": "ffb24b75-9ff5-4786-fc31-ef9d228cee9d"
      },
      "execution_count": null,
      "outputs": [
        {
          "output_type": "stream",
          "name": "stdout",
          "text": [
            "71/71 [==============================] - 0s 6ms/step\n",
            "(2246, 46)\n"
          ]
        }
      ]
    },
    {
      "cell_type": "code",
      "source": [
        "print(np.sum(predictions[0]))"
      ],
      "metadata": {
        "colab": {
          "base_uri": "https://localhost:8080/"
        },
        "id": "cSENdncajfdE",
        "outputId": "84f754e8-31bc-440a-c092-1364e240925b"
      },
      "execution_count": null,
      "outputs": [
        {
          "output_type": "stream",
          "name": "stdout",
          "text": [
            "1.0000001\n"
          ]
        }
      ]
    },
    {
      "cell_type": "code",
      "source": [
        "print(predictions[0])"
      ],
      "metadata": {
        "colab": {
          "base_uri": "https://localhost:8080/"
        },
        "id": "gl_nq7QlkDXw",
        "outputId": "11c9f94d-4cc9-4ec6-9236-6cff6ae7acd1"
      },
      "execution_count": null,
      "outputs": [
        {
          "output_type": "stream",
          "name": "stdout",
          "text": [
            "[7.0819992e-04 2.6286746e-04 4.9228111e-05 6.2293881e-01 3.4788549e-01\n",
            " 2.2157437e-04 5.6916720e-05 3.2719952e-05 8.3303228e-03 3.6592473e-04\n",
            " 1.0034005e-04 4.8605751e-04 1.4962403e-04 3.1640206e-03 1.2762385e-04\n",
            " 4.5565175e-05 2.5355786e-03 2.5979654e-04 8.3811661e-05 2.3858421e-03\n",
            " 2.8589698e-03 5.3756707e-04 2.9567207e-05 7.9126284e-04 6.2294173e-05\n",
            " 9.7450007e-05 2.0122781e-05 2.7992160e-04 6.7256210e-06 8.2509924e-04\n",
            " 2.2054660e-04 1.2802808e-04 1.1607092e-04 2.4699257e-05 1.6751855e-04\n",
            " 1.5707697e-05 1.8391508e-03 8.0777565e-05 7.4171726e-06 1.3143405e-03\n",
            " 1.4475019e-04 3.1922486e-05 2.9161545e-05 3.7122456e-05 4.9731429e-06\n",
            " 1.3852486e-04]\n"
          ]
        }
      ]
    },
    {
      "cell_type": "code",
      "source": [
        "print(np.argmax(predictions[0]))"
      ],
      "metadata": {
        "colab": {
          "base_uri": "https://localhost:8080/"
        },
        "id": "HlqEVldYjpyV",
        "outputId": "45ec442a-0c78-4513-a2da-ff18c5decadb"
      },
      "execution_count": null,
      "outputs": [
        {
          "output_type": "stream",
          "name": "stdout",
          "text": [
            "3\n"
          ]
        }
      ]
    },
    {
      "cell_type": "markdown",
      "source": [
        "اهمیت داشتن لایه های میانی به اندازه کافی بزرگ"
      ],
      "metadata": {
        "id": "HZIBEKM3l7pt"
      }
    },
    {
      "cell_type": "markdown",
      "source": [
        "A model with an information bottleneck"
      ],
      "metadata": {
        "id": "s6sdRetHmKls"
      }
    },
    {
      "cell_type": "markdown",
      "source": [
        "The network now peaks at ~71% validation accuracy, an 8% absolute drop. This drop\n",
        "is mostly due to the fact that you’re trying to compress a lot of information (enough\n",
        "information to recover the separation hyperplanes of 46 classes) into an intermediate\n",
        "space that is too low-dimensional. The network is able to cram most of the necessary\n",
        "information into these eight-dimensional representations, but not all of it."
      ],
      "metadata": {
        "id": "ChcYjaBvnEp2"
      }
    },
    {
      "cell_type": "code",
      "source": [
        "model = models.Sequential()\n",
        "model.add(layers.Dense(64, activation='relu', input_shape=(10000,)))\n",
        "model.add(layers.Dense(4, activation='relu'))\n",
        "model.add(layers.Dense(46, activation='softmax'))\n",
        "model.compile(optimizer='rmsprop',\n",
        "loss='categorical_crossentropy',\n",
        "metrics=['accuracy'])\n",
        "model.fit(partial_x_train,partial_y_train,\n",
        "epochs=20,\n",
        "batch_size=128,\n",
        "validation_data=(x_val, y_val))"
      ],
      "metadata": {
        "colab": {
          "base_uri": "https://localhost:8080/"
        },
        "id": "lbJs-t8bmGCU",
        "outputId": "7dd53f47-6846-4b18-a201-00c521e00cff"
      },
      "execution_count": null,
      "outputs": [
        {
          "output_type": "stream",
          "name": "stdout",
          "text": [
            "Epoch 1/20\n",
            "63/63 [==============================] - 3s 32ms/step - loss: 2.8925 - accuracy: 0.3354 - val_loss: 2.1128 - val_accuracy: 0.5940\n",
            "Epoch 2/20\n",
            "63/63 [==============================] - 1s 20ms/step - loss: 1.8030 - accuracy: 0.6102 - val_loss: 1.5654 - val_accuracy: 0.6380\n",
            "Epoch 3/20\n",
            "63/63 [==============================] - 0s 6ms/step - loss: 1.4045 - accuracy: 0.6805 - val_loss: 1.4005 - val_accuracy: 0.6650\n",
            "Epoch 4/20\n",
            "63/63 [==============================] - 1s 8ms/step - loss: 1.2193 - accuracy: 0.7185 - val_loss: 1.3190 - val_accuracy: 0.6810\n",
            "Epoch 5/20\n",
            "63/63 [==============================] - 2s 30ms/step - loss: 1.1003 - accuracy: 0.7412 - val_loss: 1.2784 - val_accuracy: 0.7060\n",
            "Epoch 6/20\n",
            "63/63 [==============================] - 1s 17ms/step - loss: 1.0104 - accuracy: 0.7566 - val_loss: 1.2563 - val_accuracy: 0.7060\n",
            "Epoch 7/20\n",
            "63/63 [==============================] - 0s 6ms/step - loss: 0.9396 - accuracy: 0.7667 - val_loss: 1.2678 - val_accuracy: 0.7160\n",
            "Epoch 8/20\n",
            "63/63 [==============================] - 0s 6ms/step - loss: 0.8808 - accuracy: 0.7721 - val_loss: 1.2411 - val_accuracy: 0.7160\n",
            "Epoch 9/20\n",
            "63/63 [==============================] - 1s 17ms/step - loss: 0.8294 - accuracy: 0.7795 - val_loss: 1.2422 - val_accuracy: 0.7060\n",
            "Epoch 10/20\n",
            "63/63 [==============================] - 1s 17ms/step - loss: 0.7840 - accuracy: 0.7820 - val_loss: 1.2687 - val_accuracy: 0.7130\n",
            "Epoch 11/20\n",
            "63/63 [==============================] - 0s 6ms/step - loss: 0.7453 - accuracy: 0.7854 - val_loss: 1.2694 - val_accuracy: 0.7070\n",
            "Epoch 12/20\n",
            "63/63 [==============================] - 0s 6ms/step - loss: 0.7072 - accuracy: 0.7909 - val_loss: 1.3333 - val_accuracy: 0.7130\n",
            "Epoch 13/20\n",
            "63/63 [==============================] - 1s 18ms/step - loss: 0.6779 - accuracy: 0.7970 - val_loss: 1.3154 - val_accuracy: 0.7110\n",
            "Epoch 14/20\n",
            "63/63 [==============================] - 1s 18ms/step - loss: 0.6464 - accuracy: 0.8077 - val_loss: 1.3366 - val_accuracy: 0.7100\n",
            "Epoch 15/20\n",
            "63/63 [==============================] - 0s 7ms/step - loss: 0.6176 - accuracy: 0.8195 - val_loss: 1.3707 - val_accuracy: 0.7150\n",
            "Epoch 16/20\n",
            "63/63 [==============================] - 0s 6ms/step - loss: 0.5908 - accuracy: 0.8297 - val_loss: 1.3992 - val_accuracy: 0.7110\n",
            "Epoch 17/20\n",
            "63/63 [==============================] - 0s 8ms/step - loss: 0.5700 - accuracy: 0.8429 - val_loss: 1.4186 - val_accuracy: 0.7140\n",
            "Epoch 18/20\n",
            "63/63 [==============================] - 0s 8ms/step - loss: 0.5464 - accuracy: 0.8507 - val_loss: 1.4103 - val_accuracy: 0.7180\n",
            "Epoch 19/20\n",
            "63/63 [==============================] - 1s 18ms/step - loss: 0.5235 - accuracy: 0.8594 - val_loss: 1.4804 - val_accuracy: 0.7140\n",
            "Epoch 20/20\n",
            "63/63 [==============================] - 1s 17ms/step - loss: 0.5056 - accuracy: 0.8642 - val_loss: 1.5191 - val_accuracy: 0.7170\n"
          ]
        },
        {
          "output_type": "execute_result",
          "data": {
            "text/plain": [
              "<keras.callbacks.History at 0x7f098cd75c60>"
            ]
          },
          "metadata": {},
          "execution_count": 35
        }
      ]
    },
    {
      "cell_type": "markdown",
      "source": [
        " Predicting house prices: a regression example"
      ],
      "metadata": {
        "id": "eP39pY8drjrU"
      }
    },
    {
      "cell_type": "markdown",
      "source": [
        "شما سعی خواهید کرد میانگین قیمت خانه‌ها را در حومه بوستون پیش‌بینی کنید\n",
        "اواسط دهه 1970، با توجه به اطلاعات مربوط به حومه در آن زمان، مانند میزان جرم و جنایت،\n",
        "نرخ مالیات بر دارایی محلی، و غیره. مجموعه داده ای که استفاده می کنید تفاوت جالبی دارد\n",
        "از دو مثال قبلی نقاط داده نسبتا کمی دارد: فقط 506، تقسیم\n",
        "بین 404 نمونه آموزشی و 102 نمونه آزمایشی. و هر ویژگی در داده های ورودی\n",
        "(مثلاً میزان جرم و جنایت) مقیاس متفاوتی دارد. به عنوان مثال، برخی از مقادیر نسبت هایی هستند که مقادیری بین 0 و 1 دارند. برخی دیگر مقادیر بین 1 تا 12، برخی دیگر بین 0 تا 100 و غیره می گیرند."
      ],
      "metadata": {
        "id": "iEM3vIpHrkD8"
      }
    },
    {
      "cell_type": "code",
      "source": [
        "from keras.datasets import boston_housing\n",
        "(train_data, train_targets), (test_data, test_targets) = boston_housing.load_data()"
      ],
      "metadata": {
        "id": "7vsoqsChrswM",
        "colab": {
          "base_uri": "https://localhost:8080/"
        },
        "outputId": "213f1969-1222-423f-ca13-f850d61df808"
      },
      "execution_count": 1,
      "outputs": [
        {
          "output_type": "stream",
          "name": "stdout",
          "text": [
            "Downloading data from https://storage.googleapis.com/tensorflow/tf-keras-datasets/boston_housing.npz\n",
            "57026/57026 [==============================] - 0s 0us/step\n"
          ]
        }
      ]
    },
    {
      "cell_type": "code",
      "source": [
        "print(train_data.shape)\n",
        "print(test_data.shape)"
      ],
      "metadata": {
        "colab": {
          "base_uri": "https://localhost:8080/"
        },
        "id": "g0qJCSHptnnd",
        "outputId": "7306e620-42e8-4521-eed6-f74328d43a08"
      },
      "execution_count": null,
      "outputs": [
        {
          "output_type": "stream",
          "name": "stdout",
          "text": [
            "(404, 13)\n",
            "(102, 13)\n"
          ]
        }
      ]
    },
    {
      "cell_type": "markdown",
      "source": [
        "هر داده ورودی سیزده تا فیچر دارد "
      ],
      "metadata": {
        "id": "Ni3LE35TuJWE"
      }
    },
    {
      "cell_type": "code",
      "source": [
        "print(train_data[0])"
      ],
      "metadata": {
        "colab": {
          "base_uri": "https://localhost:8080/"
        },
        "id": "3_ieYzcPt9Fj",
        "outputId": "f7b3a642-3721-4522-d058-850e76c1e27f"
      },
      "execution_count": null,
      "outputs": [
        {
          "output_type": "stream",
          "name": "stdout",
          "text": [
            "[  1.23247   0.        8.14      0.        0.538     6.142    91.7\n",
            "   3.9769    4.      307.       21.      396.9      18.72   ]\n"
          ]
        }
      ]
    },
    {
      "cell_type": "markdown",
      "source": [
        "مثلا خانه اول با مشخصات بالا حدودا 15 هزار دلار قیمت گذاری شده است"
      ],
      "metadata": {
        "id": "KY4rQ3SGuZHD"
      }
    },
    {
      "cell_type": "code",
      "source": [
        "print(train_targets[0])"
      ],
      "metadata": {
        "colab": {
          "base_uri": "https://localhost:8080/"
        },
        "id": "PbL7mkcPuZrc",
        "outputId": "928aac19-c029-45b6-b108-630beb9f93fa"
      },
      "execution_count": null,
      "outputs": [
        {
          "output_type": "stream",
          "name": "stdout",
          "text": [
            "15.2\n"
          ]
        }
      ]
    },
    {
      "cell_type": "markdown",
      "source": [
        "# Preparing the data"
      ],
      "metadata": {
        "id": "DmP-R49RvDFE"
      }
    },
    {
      "cell_type": "markdown",
      "source": [
        "Normalizing the data"
      ],
      "metadata": {
        "id": "SHO8Y33FwGVY"
      }
    },
    {
      "cell_type": "markdown",
      "source": [
        "توجه داشته باشید که مقادیر استفاده شده برای نرمال سازی داده های تست با استفاده از عدد داده های آموزشی محاسبه می شوند\n",
        " "
      ],
      "metadata": {
        "id": "6ezU3h9EwIeG"
      }
    },
    {
      "cell_type": "code",
      "source": [
        "mean = train_data.mean(axis=0)\n",
        "train_data -= mean\n",
        "std = train_data.std(axis=0)\n",
        "train_data /= std\n",
        "test_data -= mean\n",
        "test_data /= std"
      ],
      "metadata": {
        "id": "zPsSKGNUvE_l"
      },
      "execution_count": 2,
      "outputs": []
    },
    {
      "cell_type": "markdown",
      "source": [
        "Building your network"
      ],
      "metadata": {
        "id": "YIUUFFzmxfSP"
      }
    },
    {
      "cell_type": "markdown",
      "source": [
        "از آنجایی که نمونه های کمی در دسترس است، از یک شبکه بسیار کوچک با دو لایه مخفی استفاده خواهید کرد\n",
        "هر کدام با 64 واحد. به طور کلی، هرچه داده های آموزشی کمتری داشته باشید، اضافه برازش بدتر خواهد بود و استفاده از یک شبکه کوچک یکی از راه های کاهش اضافه برازش است."
      ],
      "metadata": {
        "id": "kvFAXwIVy4Yg"
      }
    },
    {
      "cell_type": "markdown",
      "source": [
        "شبکه با یک واحد و بدون فعال سازی به پایان می رسد (این یک لایه خطی خواهد بود). این هست\n",
        "یک تنظیم معمولی برای رگرسیون اسکالر (رگرسیونی که در آن شما سعی می کنید یک واحد را پیش بینی کنید\n",
        "مقدار پیوسته). اعمال یک تابع فعال سازی محدوده ای را که خروجی می تواند بگیرد محدود می کند. به عنوان مثال، اگر یک تابع فعال سازی سیگموئید را در آخرین لایه اعمال کنید،\n",
        "شبکه فقط می تواند یاد بگیرد که مقادیر بین 0 و 1 را پیش بینی کند. در اینجا، زیرا آخرین\n",
        "لایه کاملاً خطی است، شبکه آزاد است تا پیش بینی مقادیر را در هر محدوده ای بیاموزد"
      ],
      "metadata": {
        "id": "tGBxURUKziqY"
      }
    },
    {
      "cell_type": "code",
      "source": [
        "from keras import models\n",
        "from keras import layers\n",
        "def build_model():\n",
        " model = models.Sequential()\n",
        " model.add(layers.Dense(64, activation='relu',\n",
        " input_shape=(train_data.shape[1],)))\n",
        " model.add(layers.Dense(64, activation='relu'))\n",
        " model.add(layers.Dense(1))\n",
        " model.compile(optimizer='rmsprop', loss='mse', metrics=['mae'])\n",
        " return model"
      ],
      "metadata": {
        "id": "J5ti_SxUxgcG"
      },
      "execution_count": 3,
      "outputs": []
    },
    {
      "cell_type": "markdown",
      "source": [
        "Validating your approach using ***K-fold*** validation"
      ],
      "metadata": {
        "id": "_cRXq5oMxOMa"
      }
    },
    {
      "cell_type": "markdown",
      "source": [
        "برای ارزیابی شبکه خود در حالی که به تنظیم پارامترهای آن (مانند تعداد\n",
        "از دوره های مورد استفاده برای آموزش)، می توانید داده ها را به یک مجموعه آموزشی و یک مجموعه اعتبار سنجی تقسیم کنید، همانطور که در مثال های قبلی انجام دادید. اما از آنجایی که شما نقاط داده بسیار کمی دارید،\n",
        "مجموعه اعتبارسنجی در نهایت بسیار کوچک خواهد بود (به عنوان مثال، حدود 100 نمونه).\n",
        "در نتیجه، امتیازات اعتبار سنجی ممکن است بسته به اینکه کدام داده تغییر زیادی کند\n",
        "نکاتی که برای اعتبار سنجی انتخاب کردید و برای آموزش انتخاب کردید: اعتبارسنجی\n",
        "نمرات ممکن است واریانس بالایی با توجه به تقسیم اعتبار داشته باشند. این شما را از ارزیابی قابل اعتماد مدل خود باز می دارد.\n",
        " بهترین روش در چنین شرایطی استفاده از اعتبارسنجی متقاطع K-fold است (شکل 3.11 را ببینید).\n",
        "این شامل تقسیم داده های موجود به پارتیشن های K (معمولاً K = 4 یا 5)، نمونه سازی K مدل های یکسان، و آموزش هر یک بر روی پارتیشن های K - 1 در حین ارزیابی است.\n",
        "پارتیشن باقی مانده امتیاز اعتبارسنجی برای مدل مورد استفاده میانگین است\n",
        "نمرات اعتبارسنجی K به دست آمده است. از نظر کد، این ساده است."
      ],
      "metadata": {
        "id": "w0vu_rjwxR0R"
      }
    },
    {
      "cell_type": "markdown",
      "source": [
        "![k-fold.jpg](data:image/jpeg;base64,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)"
      ],
      "metadata": {
        "id": "zFYwJYTLx4si"
      }
    },
    {
      "cell_type": "markdown",
      "source": [
        "# K-fold validation code"
      ],
      "metadata": {
        "id": "P5dpZneAyVjs"
      }
    },
    {
      "cell_type": "code",
      "source": [
        "import numpy as np\n",
        "k=4\n",
        "num_val_samples = len(train_data) // k\n",
        "num_epochs = 100\n",
        "all_scores = []"
      ],
      "metadata": {
        "id": "c7fKJ2Jnya0p"
      },
      "execution_count": 4,
      "outputs": []
    },
    {
      "cell_type": "code",
      "source": [
        "for i in range(k):\n",
        " print('processing fold #', i)\n",
        " val_data = train_data[i * num_val_samples: (i + 1) * num_val_samples]\n",
        " val_targets = train_targets[i * num_val_samples: (i + 1) * num_val_samples]\n",
        " partial_train_data = np.concatenate([train_data[:i * num_val_samples],train_data[(i + 1) * num_val_samples:]],axis=0)\n",
        " partial_train_targets = np.concatenate([train_targets[:i * num_val_samples],train_targets[(i + 1) * num_val_samples:]],axis=0)\n",
        " model = build_model()\n",
        " model.fit(partial_train_data, partial_train_targets,epochs=num_epochs, batch_size=1, verbose=0)\n",
        " val_mse, val_mae = model.evaluate(val_data, val_targets, verbose=0)\n",
        " all_scores.append(val_mae)"
      ],
      "metadata": {
        "colab": {
          "base_uri": "https://localhost:8080/"
        },
        "id": "ZsaurCM0z3xJ",
        "outputId": "e76eeda0-2b01-4708-ffe0-1e7e467a5d32"
      },
      "execution_count": 5,
      "outputs": [
        {
          "output_type": "stream",
          "name": "stdout",
          "text": [
            "processing fold # 0\n",
            "processing fold # 1\n",
            "processing fold # 2\n",
            "processing fold # 3\n"
          ]
        }
      ]
    },
    {
      "cell_type": "markdown",
      "source": [
        "# Saving the validation logs at each fold"
      ],
      "metadata": {
        "id": "nBpu8hO5Cyg7"
      }
    },
    {
      "cell_type": "code",
      "source": [
        "num_epochs = 500\n",
        "all_mae_histories = []\n",
        "for i in range(k):\n",
        " print('processing fold #', i)\n",
        " val_data = train_data[i * num_val_samples: (i + 1) * num_val_samples]\n",
        " val_targets = train_targets[i * num_val_samples: (i + 1) * num_val_samples]\n",
        " partial_train_data = np.concatenate([train_data[:i * num_val_samples],\n",
        "                                      train_data[(i + 1) * num_val_samples:]],axis=0)\n",
        " partial_train_targets = np.concatenate([train_targets[:i * num_val_samples],\n",
        "                                         train_targets[(i + 1) * num_val_samples:]],axis=0)\n",
        " model = build_model()\n",
        " history = model.fit(partial_train_data, partial_train_targets,validation_data=(val_data, val_targets),\n",
        "                     epochs=num_epochs, batch_size=1, verbose=0)\n",
        " mae_history = history.history['val_mae']\n",
        " all_mae_histories.append(mae_history)"
      ],
      "metadata": {
        "colab": {
          "base_uri": "https://localhost:8080/"
        },
        "id": "UrJgvbAKC0p3",
        "outputId": "5db043ae-38a4-4987-e3f0-be23fb3495aa"
      },
      "execution_count": 12,
      "outputs": [
        {
          "output_type": "stream",
          "name": "stdout",
          "text": [
            "processing fold # 0\n",
            "processing fold # 1\n",
            "processing fold # 2\n",
            "processing fold # 3\n"
          ]
        }
      ]
    },
    {
      "cell_type": "code",
      "source": [
        "history.history.keys()"
      ],
      "metadata": {
        "colab": {
          "base_uri": "https://localhost:8080/"
        },
        "id": "s4zPjC5hNR1h",
        "outputId": "66520930-f54d-4cac-b64f-849f26ee6feb"
      },
      "execution_count": 11,
      "outputs": [
        {
          "output_type": "execute_result",
          "data": {
            "text/plain": [
              "dict_keys(['loss', 'mae', 'val_loss', 'val_mae'])"
            ]
          },
          "metadata": {},
          "execution_count": 11
        }
      ]
    },
    {
      "cell_type": "markdown",
      "source": [
        "Building the history of successive mean K-fold validation scores"
      ],
      "metadata": {
        "id": "VQML4vjBRReJ"
      }
    },
    {
      "cell_type": "code",
      "source": [
        "average_mae_history = [np.mean([x[i] for x in all_mae_histories]) for i in range(num_epochs)]"
      ],
      "metadata": {
        "id": "C92pM7bIRZ03"
      },
      "execution_count": 13,
      "outputs": []
    },
    {
      "cell_type": "markdown",
      "source": [
        "# Plotting validation scores"
      ],
      "metadata": {
        "id": "VqwriO0sRj3I"
      }
    },
    {
      "cell_type": "code",
      "source": [
        "import matplotlib.pyplot as plt\n",
        "plt.plot(range(1, len(average_mae_history) + 1), average_mae_history)\n",
        "plt.xlabel('Epochs')\n",
        "plt.ylabel('Validation MAE')\n",
        "plt.show()"
      ],
      "metadata": {
        "colab": {
          "base_uri": "https://localhost:8080/",
          "height": 449
        },
        "id": "NrE0HVBjRnug",
        "outputId": "1c2a6985-fd09-4b41-d404-ff24271b64ee"
      },
      "execution_count": 14,
      "outputs": [
        {
          "output_type": "display_data",
          "data": {
            "text/plain": [
              "<Figure size 640x480 with 1 Axes>"
            ],
            "image/png": "[encoded data removed]"
          },
          "metadata": {}
        }
      ]
    },
    {
      "cell_type": "markdown",
      "source": [
        "ممکن است به دلیل مسائل مربوط به مقیاس بندی و واریانس نسبتاً زیاد، دیدن طرح کمی دشوار باشد. بیایید کارهای زیر را انجام دهیم: ده نقطه داده اول را که در مقیاسی متفاوت از بقیه منحنی هستند حذف کنید و برای به دست آوردن یک منحنی صاف هر نقطه را با میانگین متحرک نمایی نقاط قبلی جایگزین کنید"
      ],
      "metadata": {
        "id": "Gqp1S5xHTfFz"
      }
    },
    {
      "cell_type": "code",
      "source": [
        "def smooth_curve(points, factor=0.9):\n",
        " smoothed_points = []\n",
        " for point in points:\n",
        "  if smoothed_points:\n",
        "   previous = smoothed_points[-1]\n",
        "   smoothed_points.append(previous * factor + point * (1 - factor))\n",
        "  else:\n",
        "   smoothed_points.append(point)\n",
        " return smoothed_points\n",
        "smooth_mae_history = smooth_curve(average_mae_history[10:])\n",
        "plt.plot(range(1, len(smooth_mae_history) + 1), smooth_mae_history)\n",
        "plt.xlabel('Epochs')\n",
        "plt.ylabel('Validation MAE')\n",
        "plt.show()"
      ],
      "metadata": {
        "colab": {
          "base_uri": "https://localhost:8080/",
          "height": 449
        },
        "id": "6rh16evLTy5o",
        "outputId": "65ad9740-0e9c-44de-f0c5-9b2ad57c6609"
      },
      "execution_count": 15,
      "outputs": [
        {
          "output_type": "display_data",
          "data": {
            "text/plain": [
              "<Figure size 640x480 with 1 Axes>"
            ],
            "image/png": "[encoded data removed]"
          },
          "metadata": {}
        }
      ]
    },
    {
      "cell_type": "markdown",
      "source": [
        "# Training the final model"
      ],
      "metadata": {
        "id": "VNufgzydXVPj"
      }
    },
    {
      "cell_type": "code",
      "source": [
        "model = build_model()\n",
        "model.fit(train_data, train_targets,epochs=80, batch_size=16, verbose=0)\n",
        "test_mse_score, test_mae_score = model.evaluate(test_data, test_targets)"
      ],
      "metadata": {
        "colab": {
          "base_uri": "https://localhost:8080/"
        },
        "id": "8mC_ZgW-XV2B",
        "outputId": "a07ed92e-b1fc-4449-8dc1-9683f8b06af7"
      },
      "execution_count": 17,
      "outputs": [
        {
          "output_type": "stream",
          "name": "stdout",
          "text": [
            "4/4 [==============================] - 0s 4ms/step - loss: 19.2055 - mae: 2.9695\n"
          ]
        }
      ]
    },
    {
      "cell_type": "markdown",
      "source": [
        "You’re still off by about $2,960."
      ],
      "metadata": {
        "id": "mLsX5GOYXtjM"
      }
    },
    {
      "cell_type": "code",
      "source": [
        "print(test_mae_score)"
      ],
      "metadata": {
        "colab": {
          "base_uri": "https://localhost:8080/"
        },
        "id": "fhSKpRdPXdgP",
        "outputId": "3d0eaa87-4ad9-48aa-8924-f08802b4da43"
      },
      "execution_count": 18,
      "outputs": [
        {
          "output_type": "stream",
          "name": "stdout",
          "text": [
            "2.9694764614105225\n"
          ]
        }
      ]
    }
  ]
}