{
  "nbformat": 4,
  "nbformat_minor": 0,
  "metadata": {
    "colab": {
      "provenance": [],
      "authorship_tag": "ABX9TyOjrb6K/UbwyJivKMttZleX",
      "include_colab_link": true
    },
    "kernelspec": {
      "name": "python3",
      "display_name": "Python 3"
    },
    "language_info": {
      "name": "python"
    }
  },
  "cells": [
    {
      "cell_type": "markdown",
      "metadata": {
        "id": "view-in-github",
        "colab_type": "text"
      },
      "source": [
        "<a href=\"https://colab.research.google.com/github/sedavasema/mohammad/blob/main/mnist.ipynb\" target=\"_parent\"><img src=\"https://colab.research.google.com/assets/colab-badge.svg\" alt=\"Open In Colab\"/></a>"
      ]
    },
    {
      "cell_type": "code",
      "execution_count": 40,
      "metadata": {
        "id": "YI2Bs81TgR74"
      },
      "outputs": [],
      "source": [
        "import numpy as np\n",
        "import matplotlib as plt"
      ]
    },
    {
      "cell_type": "code",
      "source": [
        "x0=np.array(12)\n",
        "x1=np.array([12,10,20])\n",
        "x2=np.array([[[1,2,3],\n",
        "             [4,5,6],\n",
        "             [7,8,9]],\n",
        "             [[10,11,12],\n",
        "              [14,15,16],\n",
        "              [17,18,19]]])\n",
        "print('x2',x2.ndim)"
      ],
      "metadata": {
        "colab": {
          "base_uri": "https://localhost:8080/"
        },
        "id": "xCNG5WrnuIVh",
        "outputId": "b90e5e08-7f25-42c7-f6b2-8e38712519bd"
      },
      "execution_count": 47,
      "outputs": [
        {
          "output_type": "stream",
          "name": "stdout",
          "text": [
            "x2 3\n"
          ]
        }
      ]
    },
    {
      "cell_type": "code",
      "source": [
        "#@title\n",
        "train_images.shape\n",
        "train_images.ndim\n",
        "train_images.dtype\n",
        "print('train_image shape is: ' ,train_images.shape)\n",
        "print('train_image dtype is: ' ,train_images.dtype)\n",
        "print('train_images ndim is: ' ,train_images.ndim)"
      ],
      "metadata": {
        "colab": {
          "base_uri": "https://localhost:8080/"
        },
        "id": "NhhTwHp4hwbS",
        "outputId": "a69dba64-51c3-41da-ef9f-d6432b696a71"
      },
      "execution_count": 37,
      "outputs": [
        {
          "output_type": "stream",
          "name": "stdout",
          "text": [
            "train_image shape is:  (60000, 28, 28)\n",
            "train_image dtype is:  uint8\n",
            "train_images ndim is:  3\n"
          ]
        }
      ]
    },
    {
      "cell_type": "markdown",
      "source": [
        "# شبکه عصبی فولی کانکتد"
      ],
      "metadata": {
        "id": "_fNiYOcsy4CX"
      }
    },
    {
      "cell_type": "markdown",
      "source": [
        "## mnist کار کردن با دیتا بیس "
      ],
      "metadata": {
        "id": "bkFLV0j__sph"
      }
    },
    {
      "cell_type": "code",
      "source": [
        "import keras\n",
        "import tensorflow\n",
        "from keras.datasets import mnist\n",
        "from keras.utils import np_utils\n"
      ],
      "metadata": {
        "id": "xH1BVb7-7h_3"
      },
      "execution_count": 55,
      "outputs": []
    },
    {
      "cell_type": "code",
      "source": [
        "(train_images, train_labels),(test_images,test_labels)=mnist.load_data()\n"
      ],
      "metadata": {
        "id": "asIgeAqJy5Tf"
      },
      "execution_count": 51,
      "outputs": []
    },
    {
      "cell_type": "code",
      "source": [
        "#داده دیگر تصویر نیست پس به آن ایمیج نمیگوییم\n",
        "X_train=train_images.reshape(60000,784)\n",
        "X_test=test_images.reshape(10000,784)\n",
        "#چون میخواهیم داده ها را نرمال کنیم آنها را اعشاری میکنیم\n",
        "X_train=X_train.astype('float32')\n",
        "X_test=X_test.astype('float32')\n",
        "X_train /=255\n",
        "X_test /=255\n",
        "#حال باید لیبل ها رو برای لایه سافت مکس آماده کنیم\n",
        "Y_train=np_utils.to_categorical(train_labels)\n",
        "Y_test=np_utils.to_categorical(test_labels)"
      ],
      "metadata": {
        "id": "yxkSg0s68B0y"
      },
      "execution_count": 78,
      "outputs": []
    },
    {
      "cell_type": "markdown",
      "source": [
        "## ساختن شبکه عصبی"
      ],
      "metadata": {
        "id": "yayFIYa7CmIj"
      }
    },
    {
      "cell_type": "code",
      "source": [
        "from keras.models import Sequential\n",
        "myModel=Sequential()\n",
        "from keras.layers import Dense\n",
        "myModel.add(Dense(500,activation='relu',input_shape=(784,)))\n",
        "myModel.add(Dense(100,activation='relu'))\n",
        "myModel.add(Dense(10,activation='softmax'))"
      ],
      "metadata": {
        "id": "oG4gixk0B7kX"
      },
      "execution_count": 66,
      "outputs": []
    },
    {
      "cell_type": "code",
      "source": [
        "myModel.summary()"
      ],
      "metadata": {
        "colab": {
          "base_uri": "https://localhost:8080/"
        },
        "id": "7DIJcf9FF93G",
        "outputId": "9c9e8765-d7cf-4274-8e13-b46d0c2a446f"
      },
      "execution_count": 67,
      "outputs": [
        {
          "output_type": "stream",
          "name": "stdout",
          "text": [
            "Model: \"sequential_1\"\n",
            "_________________________________________________________________\n",
            " Layer (type)                Output Shape              Param #   \n",
            "=================================================================\n",
            " dense_1 (Dense)             (None, 500)               392500    \n",
            "                                                                 \n",
            " dense_2 (Dense)             (None, 100)               50100     \n",
            "                                                                 \n",
            " dense_3 (Dense)             (None, 10)                1010      \n",
            "                                                                 \n",
            "=================================================================\n",
            "Total params: 443,610\n",
            "Trainable params: 443,610\n",
            "Non-trainable params: 0\n",
            "_________________________________________________________________\n"
          ]
        }
      ]
    },
    {
      "cell_type": "markdown",
      "source": [
        "## کامپایل کردن وآموزش شبکه عصبی"
      ],
      "metadata": {
        "id": "XiKUILjYPpaB"
      }
    },
    {
      "cell_type": "code",
      "source": [
        "from keras.optimizers import SGD\n",
        "from keras.losses import categorical_crossentropy\n",
        "myModel.compile(optimizer=SGD(lr=0.001),loss=categorical_crossentropy,metrics=['accuracy'])\n",
        "\n",
        "network_history=myModel.fit(X_train,Y_train,batch_size=128,epochs=20)\n",
        "\n"
      ],
      "metadata": {
        "colab": {
          "base_uri": "https://localhost:8080/"
        },
        "id": "j41ubE2LGNb-",
        "outputId": "3ef6ba22-cff9-484c-ca94-228631110507"
      },
      "execution_count": 95,
      "outputs": [
        {
          "output_type": "stream",
          "name": "stdout",
          "text": [
            "Epoch 1/20\n",
            "469/469 [==============================] - 8s 16ms/step - loss: 0.9858 - accuracy: 0.8112\n",
            "Epoch 2/20\n",
            "469/469 [==============================] - 10s 22ms/step - loss: 0.8401 - accuracy: 0.8310\n",
            "Epoch 3/20\n",
            "469/469 [==============================] - 7s 14ms/step - loss: 0.7378 - accuracy: 0.8435\n",
            "Epoch 4/20\n",
            "469/469 [==============================] - 6s 13ms/step - loss: 0.6638 - accuracy: 0.8533\n",
            "Epoch 5/20\n",
            "469/469 [==============================] - 10s 19ms/step - loss: 0.6084 - accuracy: 0.8606\n",
            "Epoch 6/20\n",
            "469/469 [==============================] - 9s 19ms/step - loss: 0.5657 - accuracy: 0.8667\n",
            "Epoch 7/20\n",
            "469/469 [==============================] - 6s 13ms/step - loss: 0.5317 - accuracy: 0.8715\n",
            "Epoch 8/20\n",
            "469/469 [==============================] - 8s 17ms/step - loss: 0.5041 - accuracy: 0.8754\n",
            "Epoch 9/20\n",
            "469/469 [==============================] - 6s 12ms/step - loss: 0.4811 - accuracy: 0.8789\n",
            "Epoch 10/20\n",
            "469/469 [==============================] - 10s 21ms/step - loss: 0.4618 - accuracy: 0.8821\n",
            "Epoch 11/20\n",
            "469/469 [==============================] - 8s 16ms/step - loss: 0.4452 - accuracy: 0.8855\n",
            "Epoch 12/20\n",
            "469/469 [==============================] - 6s 13ms/step - loss: 0.4309 - accuracy: 0.8880\n",
            "Epoch 13/20\n",
            "469/469 [==============================] - 8s 17ms/step - loss: 0.4183 - accuracy: 0.8900\n",
            "Epoch 14/20\n",
            "469/469 [==============================] - 6s 13ms/step - loss: 0.4071 - accuracy: 0.8925\n",
            "Epoch 15/20\n",
            "469/469 [==============================] - 9s 20ms/step - loss: 0.3972 - accuracy: 0.8947\n",
            "Epoch 16/20\n",
            "469/469 [==============================] - 7s 15ms/step - loss: 0.3882 - accuracy: 0.8961\n",
            "Epoch 17/20\n",
            "469/469 [==============================] - 6s 12ms/step - loss: 0.3801 - accuracy: 0.8977\n",
            "Epoch 18/20\n",
            "469/469 [==============================] - 7s 14ms/step - loss: 0.3727 - accuracy: 0.8992\n",
            "Epoch 19/20\n",
            "469/469 [==============================] - 5s 11ms/step - loss: 0.3659 - accuracy: 0.9008\n",
            "Epoch 20/20\n",
            "469/469 [==============================] - 7s 14ms/step - loss: 0.3597 - accuracy: 0.9021\n"
          ]
        }
      ]
    },
    {
      "cell_type": "code",
      "source": [
        "history=network_history.history\n",
        "type(history)\n",
        "history.keys()"
      ],
      "metadata": {
        "colab": {
          "base_uri": "https://localhost:8080/"
        },
        "id": "D9I7DWJpWkTS",
        "outputId": "3f35a5d0-a91d-44a4-c88b-e15d30a58d3c"
      },
      "execution_count": 96,
      "outputs": [
        {
          "output_type": "execute_result",
          "data": {
            "text/plain": [
              "dict_keys(['loss', 'accuracy'])"
            ]
          },
          "metadata": {},
          "execution_count": 96
        }
      ]
    },
    {
      "cell_type": "code",
      "source": [
        "import matplotlib.pyplot as plt\n",
        "losses=history['loss']\n",
        "accuracy=history['accuracy']\n",
        "plt.plot(losses)\n"
      ],
      "metadata": {
        "colab": {
          "base_uri": "https://localhost:8080/",
          "height": 448
        },
        "id": "xVi7qv2nXR4e",
        "outputId": "a68c95d0-b2b0-48f8-ef97-df7594b42584"
      },
      "execution_count": 104,
      "outputs": [
        {
          "output_type": "execute_result",
          "data": {
            "text/plain": [
              "[<matplotlib.lines.Line2D at 0x7fb57a4281f0>]"
            ]
          },
          "metadata": {},
          "execution_count": 104
        },
        {
          "output_type": "display_data",
          "data": {
            "text/plain": [
              "<Figure size 640x480 with 1 Axes>"
            ],
            "image/png": "[encoded data removed]"
          },
          "metadata": {}
        }
      ]
    },
    {
      "cell_type": "code",
      "source": [
        "plt.plot(accuracy)"
      ],
      "metadata": {
        "colab": {
          "base_uri": "https://localhost:8080/",
          "height": 448
        },
        "id": "zLZx-GYXdMVQ",
        "outputId": "91592dcb-cf10-48fe-8f3b-4fded3831755"
      },
      "execution_count": 105,
      "outputs": [
        {
          "output_type": "execute_result",
          "data": {
            "text/plain": [
              "[<matplotlib.lines.Line2D at 0x7fb57a21d150>]"
            ]
          },
          "metadata": {},
          "execution_count": 105
        },
        {
          "output_type": "display_data",
          "data": {
            "text/plain": [
              "<Figure size 640x480 with 1 Axes>"
            ],
            "image/png": "[encoded data removed]"
          },
          "metadata": {}
        }
      ]
    }
  ]
}